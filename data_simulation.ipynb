{
 "cells": [
  {
   "cell_type": "markdown",
   "id": "e5375e56",
   "metadata": {},
   "source": [
    "# Routing Optimization - Optimization Model\n",
    "\n",
    "Project student team: Peter Pan; Vincent Pan; Sanjit Sokhi, Jerry Wang, Jiadi Zhang\n",
    "\n",
    "Advisor: Amr Farahat\n",
    "\n",
    "Creation date: 2023-03-27\n",
    "\n",
    "This jupyter notebook simulates the driver location data and transportation order data. To protect company privacy, the probability distributions of the simulated time windows, revenue, and zipcodes are completed different from the real company data. The bottom of the notebook shows a sample of the simulated data. \n"
   ]
  },
  {
   "cell_type": "code",
   "execution_count": 414,
   "id": "afbe32b2",
   "metadata": {},
   "outputs": [],
   "source": [
    "import csv\n",
    "import numpy as np\n",
    "import pandas as pd\n",
    "import matplotlib.pyplot as plt\n",
    "from datetime import datetime\n",
    "from datetime import datetime, timedelta\n",
    "import numpy as np\n",
    "from geopy.geocoders import Nominatim \n",
    "from geopy import distance \n",
    "from multidict import MultiDict\n",
    "import math\n",
    "import gurobipy as gp\n",
    "from gurobipy import GRB\n",
    "import seaborn as sns\n",
    "import random"
   ]
  },
  {
   "cell_type": "code",
   "execution_count": 415,
   "id": "3e2485b0",
   "metadata": {},
   "outputs": [],
   "source": [
    "def zip_correcter(zipcodes):\n",
    "    zipdf = zipcodes.copy()\n",
    "    corrected_zips = []\n",
    "    for azip in zipdf:\n",
    "        zip_length = len(str(azip))\n",
    "        if zip_length < 5:\n",
    "            corrected_zips.append((5-zip_length)*'0' + str(azip))\n",
    "        elif zip_length > 5:\n",
    "            corrected_zips.append(str(azip)[:5])\n",
    "        else:\n",
    "            corrected_zips.append(azip)\n",
    "    return corrected_zips"
   ]
  },
  {
   "cell_type": "code",
   "execution_count": 416,
   "id": "68ece793",
   "metadata": {},
   "outputs": [
    {
     "name": "stderr",
     "output_type": "stream",
     "text": [
      "C:\\Users\\jiadiz\\AppData\\Local\\Temp\\ipykernel_2556\\3145525872.py:2: DtypeWarning: Columns (5,9) have mixed types. Specify dtype option on import or set low_memory=False.\n",
      "  samp_data =pd.read_csv('SampleData_3Months.csv')\n"
     ]
    }
   ],
   "source": [
    "df = pd.read_csv(\"order_data.csv\",dtype={'dest_zipcode':str,'origin_zipcode':str})\n",
    "samp_data =pd.read_csv('SampleData_3Months.csv')\n",
    "df['dest_zipcode'] = zip_correcter(df['dest_zipcode'])\n",
    "df['origin_zipcode'] = zip_correcter(df['origin_zipcode'])"
   ]
  },
  {
   "cell_type": "code",
   "execution_count": 417,
   "id": "60b71bd4",
   "metadata": {},
   "outputs": [],
   "source": [
    "df = df.sample(n=10000, replace=True, random_state=42)"
   ]
  },
  {
   "cell_type": "code",
   "execution_count": 418,
   "id": "d1e0596a",
   "metadata": {},
   "outputs": [],
   "source": [
    "df = pd.merge(df,samp_data[['OrderNo','LineHaulRevenue','DispatchMiles']],left_on = 'order_id', right_on = 'OrderNo',how = 'left')"
   ]
  },
  {
   "cell_type": "code",
   "execution_count": 419,
   "id": "052adfd7",
   "metadata": {},
   "outputs": [],
   "source": [
    "mean = 3000\n",
    "std_dev = 1000\n",
    "num_samples = 2103\n",
    "df['LineHaulRevenue'] = np.random.normal(loc=mean, scale=std_dev, size=len(df))"
   ]
  },
  {
   "cell_type": "code",
   "execution_count": 420,
   "id": "1c30f227",
   "metadata": {},
   "outputs": [
    {
     "data": {
      "text/plain": [
       "<AxesSubplot:xlabel='LineHaulRevenue', ylabel='Count'>"
      ]
     },
     "execution_count": 420,
     "metadata": {},
     "output_type": "execute_result"
    },
    {
     "data": {
      "image/png": "[encoded data removed]",
      "text/plain": [
       "<Figure size 640x480 with 1 Axes>"
      ]
     },
     "metadata": {},
     "output_type": "display_data"
    }
   ],
   "source": [
    "sns.histplot(data=df, x=\"LineHaulRevenue\")\n"
   ]
  },
  {
   "cell_type": "code",
   "execution_count": 421,
   "id": "07731bf3",
   "metadata": {},
   "outputs": [],
   "source": [
    "new_order_id = []\n",
    "for new_id, order_id in enumerate(df['order_id']):\n",
    "    new_order_id.append(new_id)\n",
    "df['order_id'] = new_order_id"
   ]
  },
  {
   "cell_type": "code",
   "execution_count": 422,
   "id": "6a95ef42",
   "metadata": {},
   "outputs": [],
   "source": [
    "zips = pd.read_csv('uszips.csv', dtype={'zip':str})\n",
    "zips['zip'] = zip_correcter(zips['zip'])\n",
    "zips['zip'] = zips['zip'].astype(str)"
   ]
  },
  {
   "cell_type": "code",
   "execution_count": 423,
   "id": "9a3c3b0e",
   "metadata": {},
   "outputs": [],
   "source": [
    "num_samples = len(df)\n",
    "\n",
    "df['dest_zipcode'] = zips['zip'].sample(n=num_samples, replace=True, random_state=42).reset_index(drop = True)\n",
    "df['origin_zipcode'] = zips['zip'].sample(n=num_samples, replace=True, random_state=43).reset_index(drop = True)\n"
   ]
  },
  {
   "cell_type": "code",
   "execution_count": 424,
   "id": "63dc53b6",
   "metadata": {},
   "outputs": [],
   "source": [
    "df = df.drop('OrderNo', axis = 1)"
   ]
  },
  {
   "cell_type": "code",
   "execution_count": 425,
   "id": "d20741bf",
   "metadata": {},
   "outputs": [],
   "source": [
    "columns = ['pickup_window_start','pickup_window_end','delivery_window_start','delivery_window_end']"
   ]
  },
  {
   "cell_type": "code",
   "execution_count": 426,
   "id": "432f6a62",
   "metadata": {},
   "outputs": [],
   "source": [
    "for column in df[columns]:\n",
    "    df[column] = pd.to_datetime(df[column])\n",
    "    "
   ]
  },
  {
   "cell_type": "code",
   "execution_count": 427,
   "id": "b3d71fe5",
   "metadata": {
    "scrolled": true
   },
   "outputs": [],
   "source": [
    "# Calculate the hour difference\n",
    "reference_date = pd.to_datetime('2/1/2023 0:00')\n",
    "df['hour_difference'] = (df['pickup_window_start'] - reference_date).dt.total_seconds() / 3600\n"
   ]
  },
  {
   "cell_type": "code",
   "execution_count": 428,
   "id": "6d272dcb",
   "metadata": {},
   "outputs": [],
   "source": [
    "df['reference_date'] = pd.to_datetime('2/1/2023 0:00')"
   ]
  },
  {
   "cell_type": "code",
   "execution_count": 429,
   "id": "cd1419e9",
   "metadata": {},
   "outputs": [],
   "source": [
    "df['delivery_window_end'] = pd.to_datetime(df['delivery_window_end'])\n",
    "\n",
    "# Filter the dataframe based on the date column\n",
    "df = df[df['delivery_window_end'] < '2023-02-08 00:00'].reset_index()"
   ]
  },
  {
   "cell_type": "code",
   "execution_count": 430,
   "id": "91d84c7f",
   "metadata": {},
   "outputs": [],
   "source": [
    "length = len(df)\n",
    "columns2 = ['reference_date','pickup_window_start','pickup_window_end','delivery_window_start','delivery_window_end']\n",
    "columns3 = ['pickup_window_start','pickup_window_end','delivery_window_start','delivery_window_end','bad_column']\n",
    "time_package = (np.random.normal(50, 40, length), np.random.normal(10, 7, length), np.random.normal(50, 30,length), np.random.normal(10, 7, length), np.random.normal(0, 0, length))\n",
    "for column2, column3, distribution in zip(columns2, columns3, time_package):\n",
    "    df[column3] = df[column2] + pd.Series(pd.to_timedelta(distribution, unit='h'))"
   ]
  },
  {
   "cell_type": "code",
   "execution_count": 431,
   "id": "331031ae",
   "metadata": {},
   "outputs": [],
   "source": [
    "for column in columns:\n",
    "    df[column] = pd.to_datetime(df[column])\n",
    "    df[column] = df[column].apply(lambda x: x.strftime('%m-%d-%Y %H:%M'))\n",
    "    df[column] = df[column].astype(str)\n",
    "    df[column] = df[column].apply(lambda x: x.replace('-', '/'))"
   ]
  },
  {
   "cell_type": "code",
   "execution_count": 432,
   "id": "0394821e",
   "metadata": {},
   "outputs": [],
   "source": [
    "df = df.drop(['reference_date','bad_column','hour_difference'], axis = 1)"
   ]
  },
  {
   "cell_type": "code",
   "execution_count": 433,
   "id": "cc46d2a8",
   "metadata": {},
   "outputs": [],
   "source": [
    "df.to_csv('C:/Users/jiadiz/Desktop/PGT Trucking/initial model/Github/simulated_order_sample.csv',index = False)"
   ]
  },
  {
   "cell_type": "code",
   "execution_count": 434,
   "id": "f98b9bd7",
   "metadata": {},
   "outputs": [],
   "source": [
    "md = pd.read_csv('driver_data.csv', dtype={'depot_zipcode':str})"
   ]
  },
  {
   "cell_type": "code",
   "execution_count": 435,
   "id": "5255070d",
   "metadata": {},
   "outputs": [],
   "source": [
    "md['depot_zipcode'] = zips['zip'].sample(n=len(md), replace=True, random_state=42).reset_index(drop = True)"
   ]
  },
  {
   "cell_type": "code",
   "execution_count": 436,
   "id": "50f7d727",
   "metadata": {},
   "outputs": [],
   "source": [
    "lista = []\n",
    "for i in range(0,len(md)):\n",
    "    lista.append(('Driver'+ str(i)))\n",
    "md['driver_id'] = lista"
   ]
  },
  {
   "cell_type": "code",
   "execution_count": 437,
   "id": "8c00a321",
   "metadata": {},
   "outputs": [],
   "source": [
    "md.to_csv('C:/Users/jiadiz/Desktop/PGT Trucking/initial model/Github/simulated_driver_sample.csv',index = False)"
   ]
  },
  {
   "cell_type": "code",
   "execution_count": 438,
   "id": "c7a3b0bb",
   "metadata": {},
   "outputs": [
    {
     "data": {
      "text/html": [
       "<div>\n",
       "<style scoped>\n",
       "    .dataframe tbody tr th:only-of-type {\n",
       "        vertical-align: middle;\n",
       "    }\n",
       "\n",
       "    .dataframe tbody tr th {\n",
       "        vertical-align: top;\n",
       "    }\n",
       "\n",
       "    .dataframe thead th {\n",
       "        text-align: right;\n",
       "    }\n",
       "</style>\n",
       "<table border=\"1\" class=\"dataframe\">\n",
       "  <thead>\n",
       "    <tr style=\"text-align: right;\">\n",
       "      <th></th>\n",
       "      <th>driver_id</th>\n",
       "      <th>depot_zipcode</th>\n",
       "      <th>radius_origins</th>\n",
       "    </tr>\n",
       "  </thead>\n",
       "  <tbody>\n",
       "    <tr>\n",
       "      <th>0</th>\n",
       "      <td>Driver0</td>\n",
       "      <td>47362</td>\n",
       "      <td>NaN</td>\n",
       "    </tr>\n",
       "    <tr>\n",
       "      <th>1</th>\n",
       "      <td>Driver1</td>\n",
       "      <td>03307</td>\n",
       "      <td>NaN</td>\n",
       "    </tr>\n",
       "    <tr>\n",
       "      <th>2</th>\n",
       "      <td>Driver2</td>\n",
       "      <td>33965</td>\n",
       "      <td>NaN</td>\n",
       "    </tr>\n",
       "    <tr>\n",
       "      <th>3</th>\n",
       "      <td>Driver3</td>\n",
       "      <td>19806</td>\n",
       "      <td>NaN</td>\n",
       "    </tr>\n",
       "    <tr>\n",
       "      <th>4</th>\n",
       "      <td>Driver4</td>\n",
       "      <td>49654</td>\n",
       "      <td>NaN</td>\n",
       "    </tr>\n",
       "    <tr>\n",
       "      <th>...</th>\n",
       "      <td>...</td>\n",
       "      <td>...</td>\n",
       "      <td>...</td>\n",
       "    </tr>\n",
       "    <tr>\n",
       "      <th>549</th>\n",
       "      <td>Driver549</td>\n",
       "      <td>38565</td>\n",
       "      <td>NaN</td>\n",
       "    </tr>\n",
       "    <tr>\n",
       "      <th>550</th>\n",
       "      <td>Driver550</td>\n",
       "      <td>54111</td>\n",
       "      <td>NaN</td>\n",
       "    </tr>\n",
       "    <tr>\n",
       "      <th>551</th>\n",
       "      <td>Driver551</td>\n",
       "      <td>97140</td>\n",
       "      <td>NaN</td>\n",
       "    </tr>\n",
       "    <tr>\n",
       "      <th>552</th>\n",
       "      <td>Driver552</td>\n",
       "      <td>30157</td>\n",
       "      <td>NaN</td>\n",
       "    </tr>\n",
       "    <tr>\n",
       "      <th>553</th>\n",
       "      <td>Driver553</td>\n",
       "      <td>45674</td>\n",
       "      <td>NaN</td>\n",
       "    </tr>\n",
       "  </tbody>\n",
       "</table>\n",
       "<p>554 rows × 3 columns</p>\n",
       "</div>"
      ],
      "text/plain": [
       "     driver_id depot_zipcode  radius_origins\n",
       "0      Driver0         47362             NaN\n",
       "1      Driver1         03307             NaN\n",
       "2      Driver2         33965             NaN\n",
       "3      Driver3         19806             NaN\n",
       "4      Driver4         49654             NaN\n",
       "..         ...           ...             ...\n",
       "549  Driver549         38565             NaN\n",
       "550  Driver550         54111             NaN\n",
       "551  Driver551         97140             NaN\n",
       "552  Driver552         30157             NaN\n",
       "553  Driver553         45674             NaN\n",
       "\n",
       "[554 rows x 3 columns]"
      ]
     },
     "execution_count": 438,
     "metadata": {},
     "output_type": "execute_result"
    }
   ],
   "source": [
    "md"
   ]
  },
  {
   "cell_type": "code",
   "execution_count": 439,
   "id": "18186c7c",
   "metadata": {},
   "outputs": [
    {
     "data": {
      "text/html": [
       "<div>\n",
       "<style scoped>\n",
       "    .dataframe tbody tr th:only-of-type {\n",
       "        vertical-align: middle;\n",
       "    }\n",
       "\n",
       "    .dataframe tbody tr th {\n",
       "        vertical-align: top;\n",
       "    }\n",
       "\n",
       "    .dataframe thead th {\n",
       "        text-align: right;\n",
       "    }\n",
       "</style>\n",
       "<table border=\"1\" class=\"dataframe\">\n",
       "  <thead>\n",
       "    <tr style=\"text-align: right;\">\n",
       "      <th></th>\n",
       "      <th>index</th>\n",
       "      <th>order_id</th>\n",
       "      <th>origin_zipcode</th>\n",
       "      <th>dest_zipcode</th>\n",
       "      <th>pickup_window_start</th>\n",
       "      <th>pickup_window_end</th>\n",
       "      <th>delivery_window_start</th>\n",
       "      <th>delivery_window_end</th>\n",
       "      <th>LineHaulRevenue</th>\n",
       "      <th>DispatchMiles</th>\n",
       "    </tr>\n",
       "  </thead>\n",
       "  <tbody>\n",
       "    <tr>\n",
       "      <th>0</th>\n",
       "      <td>0</td>\n",
       "      <td>0</td>\n",
       "      <td>43221</td>\n",
       "      <td>47362</td>\n",
       "      <td>01/31/2023 21:16</td>\n",
       "      <td>02/01/2023 11:50</td>\n",
       "      <td>02/04/2023 05:40</td>\n",
       "      <td>02/04/2023 04:21</td>\n",
       "      <td>4222.564310</td>\n",
       "      <td>834</td>\n",
       "    </tr>\n",
       "    <tr>\n",
       "      <th>1</th>\n",
       "      <td>2</td>\n",
       "      <td>2</td>\n",
       "      <td>54228</td>\n",
       "      <td>33965</td>\n",
       "      <td>02/04/2023 01:50</td>\n",
       "      <td>02/04/2023 12:30</td>\n",
       "      <td>02/05/2023 16:34</td>\n",
       "      <td>02/05/2023 17:48</td>\n",
       "      <td>2031.684033</td>\n",
       "      <td>905</td>\n",
       "    </tr>\n",
       "    <tr>\n",
       "      <th>2</th>\n",
       "      <td>4</td>\n",
       "      <td>4</td>\n",
       "      <td>17007</td>\n",
       "      <td>49654</td>\n",
       "      <td>02/03/2023 21:09</td>\n",
       "      <td>02/04/2023 08:59</td>\n",
       "      <td>02/07/2023 03:37</td>\n",
       "      <td>02/07/2023 16:10</td>\n",
       "      <td>3924.337235</td>\n",
       "      <td>178</td>\n",
       "    </tr>\n",
       "    <tr>\n",
       "      <th>3</th>\n",
       "      <td>5</td>\n",
       "      <td>5</td>\n",
       "      <td>80474</td>\n",
       "      <td>62543</td>\n",
       "      <td>02/03/2023 20:59</td>\n",
       "      <td>02/03/2023 16:39</td>\n",
       "      <td>02/04/2023 00:53</td>\n",
       "      <td>02/04/2023 09:55</td>\n",
       "      <td>2920.966173</td>\n",
       "      <td>374</td>\n",
       "    </tr>\n",
       "    <tr>\n",
       "      <th>4</th>\n",
       "      <td>6</td>\n",
       "      <td>6</td>\n",
       "      <td>48444</td>\n",
       "      <td>47946</td>\n",
       "      <td>01/31/2023 22:31</td>\n",
       "      <td>01/31/2023 23:31</td>\n",
       "      <td>02/01/2023 20:57</td>\n",
       "      <td>02/01/2023 21:54</td>\n",
       "      <td>4082.072974</td>\n",
       "      <td>357</td>\n",
       "    </tr>\n",
       "    <tr>\n",
       "      <th>...</th>\n",
       "      <td>...</td>\n",
       "      <td>...</td>\n",
       "      <td>...</td>\n",
       "      <td>...</td>\n",
       "      <td>...</td>\n",
       "      <td>...</td>\n",
       "      <td>...</td>\n",
       "      <td>...</td>\n",
       "      <td>...</td>\n",
       "      <td>...</td>\n",
       "    </tr>\n",
       "    <tr>\n",
       "      <th>7856</th>\n",
       "      <td>9994</td>\n",
       "      <td>9994</td>\n",
       "      <td>78597</td>\n",
       "      <td>10924</td>\n",
       "      <td>01/31/2023 20:00</td>\n",
       "      <td>02/01/2023 04:46</td>\n",
       "      <td>02/03/2023 13:52</td>\n",
       "      <td>02/03/2023 21:31</td>\n",
       "      <td>2650.953078</td>\n",
       "      <td>429</td>\n",
       "    </tr>\n",
       "    <tr>\n",
       "      <th>7857</th>\n",
       "      <td>9996</td>\n",
       "      <td>9996</td>\n",
       "      <td>54140</td>\n",
       "      <td>56583</td>\n",
       "      <td>02/04/2023 03:30</td>\n",
       "      <td>02/04/2023 13:26</td>\n",
       "      <td>02/06/2023 02:42</td>\n",
       "      <td>02/06/2023 11:43</td>\n",
       "      <td>1216.809354</td>\n",
       "      <td>311</td>\n",
       "    </tr>\n",
       "    <tr>\n",
       "      <th>7858</th>\n",
       "      <td>9997</td>\n",
       "      <td>9997</td>\n",
       "      <td>16374</td>\n",
       "      <td>11233</td>\n",
       "      <td>02/02/2023 06:14</td>\n",
       "      <td>02/02/2023 04:29</td>\n",
       "      <td>02/04/2023 12:10</td>\n",
       "      <td>02/04/2023 20:46</td>\n",
       "      <td>1486.520395</td>\n",
       "      <td>333</td>\n",
       "    </tr>\n",
       "    <tr>\n",
       "      <th>7859</th>\n",
       "      <td>9998</td>\n",
       "      <td>9998</td>\n",
       "      <td>57270</td>\n",
       "      <td>69346</td>\n",
       "      <td>02/02/2023 05:36</td>\n",
       "      <td>02/02/2023 21:52</td>\n",
       "      <td>02/07/2023 07:33</td>\n",
       "      <td>02/07/2023 07:32</td>\n",
       "      <td>4134.050430</td>\n",
       "      <td>144</td>\n",
       "    </tr>\n",
       "    <tr>\n",
       "      <th>7860</th>\n",
       "      <td>9999</td>\n",
       "      <td>9999</td>\n",
       "      <td>61420</td>\n",
       "      <td>29923</td>\n",
       "      <td>02/04/2023 14:29</td>\n",
       "      <td>02/05/2023 04:06</td>\n",
       "      <td>02/06/2023 09:59</td>\n",
       "      <td>02/06/2023 11:06</td>\n",
       "      <td>4699.581286</td>\n",
       "      <td>37</td>\n",
       "    </tr>\n",
       "  </tbody>\n",
       "</table>\n",
       "<p>7861 rows × 10 columns</p>\n",
       "</div>"
      ],
      "text/plain": [
       "      index  order_id origin_zipcode dest_zipcode pickup_window_start  \\\n",
       "0         0         0          43221        47362    01/31/2023 21:16   \n",
       "1         2         2          54228        33965    02/04/2023 01:50   \n",
       "2         4         4          17007        49654    02/03/2023 21:09   \n",
       "3         5         5          80474        62543    02/03/2023 20:59   \n",
       "4         6         6          48444        47946    01/31/2023 22:31   \n",
       "...     ...       ...            ...          ...                 ...   \n",
       "7856   9994      9994          78597        10924    01/31/2023 20:00   \n",
       "7857   9996      9996          54140        56583    02/04/2023 03:30   \n",
       "7858   9997      9997          16374        11233    02/02/2023 06:14   \n",
       "7859   9998      9998          57270        69346    02/02/2023 05:36   \n",
       "7860   9999      9999          61420        29923    02/04/2023 14:29   \n",
       "\n",
       "     pickup_window_end delivery_window_start delivery_window_end  \\\n",
       "0     02/01/2023 11:50      02/04/2023 05:40    02/04/2023 04:21   \n",
       "1     02/04/2023 12:30      02/05/2023 16:34    02/05/2023 17:48   \n",
       "2     02/04/2023 08:59      02/07/2023 03:37    02/07/2023 16:10   \n",
       "3     02/03/2023 16:39      02/04/2023 00:53    02/04/2023 09:55   \n",
       "4     01/31/2023 23:31      02/01/2023 20:57    02/01/2023 21:54   \n",
       "...                ...                   ...                 ...   \n",
       "7856  02/01/2023 04:46      02/03/2023 13:52    02/03/2023 21:31   \n",
       "7857  02/04/2023 13:26      02/06/2023 02:42    02/06/2023 11:43   \n",
       "7858  02/02/2023 04:29      02/04/2023 12:10    02/04/2023 20:46   \n",
       "7859  02/02/2023 21:52      02/07/2023 07:33    02/07/2023 07:32   \n",
       "7860  02/05/2023 04:06      02/06/2023 09:59    02/06/2023 11:06   \n",
       "\n",
       "      LineHaulRevenue  DispatchMiles  \n",
       "0         4222.564310            834  \n",
       "1         2031.684033            905  \n",
       "2         3924.337235            178  \n",
       "3         2920.966173            374  \n",
       "4         4082.072974            357  \n",
       "...               ...            ...  \n",
       "7856      2650.953078            429  \n",
       "7857      1216.809354            311  \n",
       "7858      1486.520395            333  \n",
       "7859      4134.050430            144  \n",
       "7860      4699.581286             37  \n",
       "\n",
       "[7861 rows x 10 columns]"
      ]
     },
     "execution_count": 439,
     "metadata": {},
     "output_type": "execute_result"
    }
   ],
   "source": [
    "df"
   ]
  }
 ],
 "metadata": {
  "kernelspec": {
   "display_name": "Python 3 (ipykernel)",
   "language": "python",
   "name": "python3"
  },
  "language_info": {
   "codemirror_mode": {
    "name": "ipython",
    "version": 3
   },
   "file_extension": ".py",
   "mimetype": "text/x-python",
   "name": "python",
   "nbconvert_exporter": "python",
   "pygments_lexer": "ipython3",
   "version": "3.9.13"
  }
 },
 "nbformat": 4,
 "nbformat_minor": 5
}
