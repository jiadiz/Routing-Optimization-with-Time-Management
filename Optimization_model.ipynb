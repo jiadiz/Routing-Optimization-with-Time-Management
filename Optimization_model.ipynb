{
 "cells": [
  {
   "cell_type": "markdown",
   "id": "506b6c5c",
   "metadata": {},
   "source": [
    "# Routing Optimization - Optimization Model\n",
    "\n",
    "Project student team: Peter Pan; Vincent Pan; Sanjit Sokhi, Jerry Wang, Jiadi Zhang\n",
    "\n",
    "Advisor: Amr Farahat\n",
    "\n",
    "Creation date: 2023-03-27\n",
    "\n",
    "This jupyter notebook utilizes Mixed Integer Programming to select orders and assign them to the drivers.\n",
    "The data needed in this script must be generated from the arc generation pipeline notebook"
   ]
  },
  {
   "cell_type": "code",
   "execution_count": 50,
   "id": "af445d94",
   "metadata": {},
   "outputs": [],
   "source": [
    "import csv\n",
    "import numpy as np\n",
    "import pandas as pd\n",
    "import matplotlib.pyplot as plt\n",
    "from datetime import datetime\n",
    "from datetime import datetime, timedelta\n",
    "import numpy as np\n",
    "from geopy.geocoders import Nominatim \n",
    "from geopy import distance \n",
    "from multidict import MultiDict\n",
    "import math\n",
    "import gurobipy as gp\n",
    "from gurobipy import GRB\n",
    "import pickle"
   ]
  },
  {
   "cell_type": "code",
   "execution_count": 79,
   "id": "40356a58",
   "metadata": {},
   "outputs": [],
   "source": [
    "optimization_time_limit = 60*60"
   ]
  },
  {
   "cell_type": "code",
   "execution_count": 123,
   "id": "bbafdaaf",
   "metadata": {},
   "outputs": [],
   "source": [
    "with open('C:/Users/jiadiz/Desktop/PGT Trucking/initial model/Github/model_materials.pkl', 'rb') as f:\n",
    "    model_materials = pickle.load(f)"
   ]
  },
  {
   "cell_type": "code",
   "execution_count": 151,
   "id": "531f5792",
   "metadata": {},
   "outputs": [],
   "source": [
    "terminals, drivers, jobs, nodes, jobs_revenues, all_arcs, flow_arcs, order_data_set, first_wave,ds = model_materials "
   ]
  },
  {
   "cell_type": "code",
   "execution_count": 82,
   "id": "3594f162",
   "metadata": {},
   "outputs": [
    {
     "data": {
      "text/plain": [
       "329084"
      ]
     },
     "execution_count": 82,
     "metadata": {},
     "output_type": "execute_result"
    }
   ],
   "source": [
    "len(flow_arcs)"
   ]
  },
  {
   "cell_type": "code",
   "execution_count": 83,
   "id": "60bf4b66",
   "metadata": {},
   "outputs": [],
   "source": [
    "def sum_for_all_driver(d,flow_arcs):\n",
    "    out = []\n",
    "    for ch in flow_arcs:\n",
    "        if ch[0] == d:\n",
    "            out.append(ch)\n",
    "    return out"
   ]
  },
  {
   "cell_type": "code",
   "execution_count": 57,
   "id": "10205d14",
   "metadata": {},
   "outputs": [],
   "source": [
    "def all_driver_value(x,d,flow_arcs):\n",
    "    out = []\n",
    "    for ch in flow_arcs:\n",
    "        \n",
    "        if ch[0] == d:\n",
    "            \n",
    "            out.append(flow_arcs[ch])\n",
    "    return out"
   ]
  },
  {
   "cell_type": "code",
   "execution_count": 58,
   "id": "014efbe2",
   "metadata": {},
   "outputs": [],
   "source": [
    "# def find_the_next(path_example,k):\n",
    "#     driver = k[0]\n",
    "#     dest = k[2]\n",
    "#     for ch in path_example:\n",
    "#         if ch[0] == driver and dest == ch[1]:\n",
    "#             return ch \n",
    "#     return "
   ]
  },
  {
   "cell_type": "code",
   "execution_count": 59,
   "id": "08d73299",
   "metadata": {},
   "outputs": [],
   "source": [
    "def find_the_next(path_example,k):\n",
    "    driver = k[0]\n",
    "    dest = k[2]\n",
    "    for ch in path_example:\n",
    "        if ch[0] == driver and dest == ch[1]:\n",
    "            return ch \n",
    "    return \n",
    "\n",
    "def generated_path(path_example):\n",
    "    all_path = []\n",
    "    path = ''\n",
    "    for ch in path_example:\n",
    "        driver = ch[0]\n",
    "        if ch[1][0]!='T':\n",
    "            continue \n",
    "    \n",
    "        ori = ch[1]\n",
    "        dest = ch[2]\n",
    "        path = driver +':'+ch[1] +'->' + ch[2] \n",
    "        nex = find_the_next(path_example,ch)\n",
    "        path_example.remove(ch)\n",
    "        while nex:\n",
    "            path = path +'->' + nex[2]\n",
    "            temp = nex\n",
    "            path_example.remove(nex)\n",
    "            nex  = find_the_next(path_example,temp) \n",
    "            \n",
    "        all_path.append(path)\n",
    "        path = ''\n",
    "        \n",
    "    return all_path "
   ]
  },
  {
   "cell_type": "code",
   "execution_count": 60,
   "id": "175b6ef8",
   "metadata": {},
   "outputs": [],
   "source": [
    "mod = gp.Model('model0')"
   ]
  },
  {
   "cell_type": "code",
   "execution_count": 61,
   "id": "b47a428f",
   "metadata": {},
   "outputs": [],
   "source": [
    "y = mod.addVars(jobs, vtype=GRB.BINARY, name= \"y\")\n",
    "x = mod.addVars(flow_arcs, vtype=GRB.BINARY, name= \"x\")"
   ]
  },
  {
   "cell_type": "code",
   "execution_count": 62,
   "id": "ebbdd73d",
   "metadata": {},
   "outputs": [],
   "source": [
    "obj_fn = mod.setObjective(gp.quicksum(jobs_revenues[j]* y[j] for j in jobs), GRB.MAXIMIZE)"
   ]
  },
  {
   "cell_type": "code",
   "execution_count": 63,
   "id": "5ea66060",
   "metadata": {},
   "outputs": [],
   "source": [
    "# obj_fn = mod.setObjective(gp.quicksum(y[j] for j in jobs), GRB.MAXIMIZE)"
   ]
  },
  {
   "cell_type": "code",
   "execution_count": 64,
   "id": "e531b17f",
   "metadata": {},
   "outputs": [],
   "source": [
    "u = mod.addVars(nodes, vtype=GRB.INTEGER, name=\"u\")"
   ]
  },
  {
   "cell_type": "code",
   "execution_count": 65,
   "id": "996cdc50",
   "metadata": {},
   "outputs": [],
   "source": [
    "terminal_constraint = mod.addConstrs((x.sum(d, '*', t) <=1  for d in drivers for t in terminals))\n"
   ]
  },
  {
   "cell_type": "code",
   "execution_count": 66,
   "id": "d201172b",
   "metadata": {},
   "outputs": [],
   "source": [
    "flow_conservation = mod.addConstrs((x.sum(d, '*', j) == x.sum(d, j, '*') for d in drivers for j in nodes if j not in terminals),name=\"flow_conservation\",\n",
    ")"
   ]
  },
  {
   "cell_type": "code",
   "execution_count": 67,
   "id": "b8d81b36",
   "metadata": {},
   "outputs": [],
   "source": [
    "single_driver = mod.addConstrs(x.sum('*', o, d) <= 1 for (o, d) in all_arcs)"
   ]
  },
  {
   "cell_type": "code",
   "execution_count": 68,
   "id": "dbd4ffce",
   "metadata": {},
   "outputs": [],
   "source": [
    "served_jobs = mod.addConstrs(x.sum('*', '*', j)  == y[j] for j in jobs)"
   ]
  },
  {
   "cell_type": "code",
   "execution_count": 84,
   "id": "b25dc094",
   "metadata": {},
   "outputs": [
    {
     "name": "stdout",
     "output_type": "stream",
     "text": [
      "Set parameter TimeLimit to value 3600\n"
     ]
    }
   ],
   "source": [
    "mip_gap = 0.005  # 5% optimality gap\n",
    "\n",
    "# mod.setParam(GRB.Param.MIPGap, mip_gap)\n",
    "mod.setParam(GRB.Param.TimeLimit, optimization_time_limit)"
   ]
  },
  {
   "cell_type": "code",
   "execution_count": 85,
   "id": "7a32adf1",
   "metadata": {},
   "outputs": [],
   "source": [
    "for d in drivers:\n",
    "    driver =  sum_for_all_driver(d,flow_arcs)\n",
    "    \n",
    "    mod.addConstr(gp.quicksum(flow_arcs[ch]* x[ch] for ch in driver) <= 80)"
   ]
  },
  {
   "cell_type": "code",
   "execution_count": 86,
   "id": "de5e4590",
   "metadata": {},
   "outputs": [
    {
     "name": "stdout",
     "output_type": "stream",
     "text": [
      "Gurobi Optimizer version 10.0.1 build v10.0.1rc0 (win64)\n",
      "\n",
      "CPU model: Intel(R) Core(TM) i7-6700HQ CPU @ 2.60GHz, instruction set [SSE2|AVX|AVX2]\n",
      "Thread count: 4 physical cores, 8 logical processors, using up to 8 threads\n",
      "\n",
      "Optimize a model with 65340 rows, 330114 columns and 1957018 nonzeros\n",
      "Model fingerprint: 0x34ea4211\n",
      "Variable types: 0 continuous, 330114 integer (329584 binary)\n",
      "Coefficient statistics:\n",
      "  Matrix range     [4e-01, 1e+02]\n",
      "  Objective range  [2e+02, 6e+03]\n",
      "  Bounds range     [1e+00, 1e+00]\n",
      "  RHS range        [1e+00, 8e+01]\n",
      "\n",
      "Loaded MIP start from previous solve with objective 364716\n",
      "\n",
      "Presolve removed 45872 rows and 117932 columns (presolve time = 5s) ...\n",
      "Presolve removed 49812 rows and 118049 columns (presolve time = 10s) ...\n",
      "Presolve removed 49812 rows and 118049 columns\n",
      "Presolve time: 10.50s\n",
      "Presolved: 15528 rows, 212065 columns, 876319 nonzeros\n",
      "Variable types: 0 continuous, 212065 integer (212065 binary)\n",
      "Deterministic concurrent LP optimizer: primal simplex, dual simplex, and barrier\n",
      "Showing barrier log only...\n",
      "\n",
      "Root barrier log...\n",
      "\n",
      "Ordering time: 2.08s\n",
      "\n",
      "Barrier statistics:\n",
      " AA' NZ     : 7.356e+05\n",
      " Factor NZ  : 8.249e+06 (roughly 160 MB of memory)\n",
      " Factor Ops : 1.115e+10 (less than 1 second per iteration)\n",
      " Threads    : 2\n",
      "\n",
      "                  Objective                Residual\n",
      "Iter       Primal          Dual         Primal    Dual     Compl     Time\n",
      "   0   4.65076316e+07  8.58325038e+08  2.74e+05 1.64e+03  1.16e+05    14s\n",
      "   1   1.28847223e+07  8.15578892e+08  7.11e+04 5.46e-12  3.11e+04    15s\n",
      "   2   2.24971314e+06  5.72534894e+08  1.03e+04 7.28e-12  5.30e+03    15s\n",
      "   3   9.20483666e+05  2.01511489e+08  1.80e+03 3.09e-11  1.10e+03    15s\n",
      "   4   6.63177487e+05  7.87729856e+07  3.45e+02 1.00e-11  3.02e+02    16s\n",
      "   5   3.75582695e+05  4.19861497e+07  6.05e+01 8.19e-12  1.18e+02    16s\n",
      "   6   2.86577330e+05  2.31675090e+07  1.56e+01 6.99e-12  5.89e+01    17s\n",
      "   7   2.66202995e+05  1.20593097e+07  5.96e+00 7.50e-12  2.96e+01    17s\n",
      "   8   2.59217878e+05  6.21408607e+06  1.45e+00 6.65e-12  1.44e+01    18s\n",
      "   9   2.67832925e+05  3.26489385e+06  5.05e-01 5.99e-12  7.13e+00    18s\n",
      "  10   2.76243359e+05  2.62099521e+06  3.65e-01 5.68e-12  5.55e+00    19s\n",
      "  11   2.87281365e+05  1.94033548e+06  2.52e-01 5.29e-12  3.90e+00    19s\n",
      "  12   2.94377642e+05  1.65812967e+06  2.17e-01 5.51e-12  3.22e+00    19s\n",
      "  13   3.04353604e+05  1.37391481e+06  1.69e-01 5.64e-12  2.52e+00    20s\n",
      "  14   3.13618789e+05  1.13534402e+06  1.31e-01 5.35e-12  1.93e+00    20s\n",
      "  15   3.23460764e+05  9.31573565e+05  9.95e-02 4.18e-12  1.43e+00    21s\n",
      "  16   3.36451122e+05  7.45684859e+05  6.14e-02 3.79e-12  9.60e-01    21s\n",
      "  17   3.43610961e+05  6.31481167e+05  4.58e-02 4.05e-12  6.75e-01    22s\n",
      "  18   3.53556204e+05  5.60863833e+05  2.91e-02 3.73e-12  4.86e-01    22s\n",
      "  19   3.62201654e+05  5.06188483e+05  1.87e-02 4.17e-12  3.37e-01    22s\n",
      "  20   3.67804265e+05  4.48528126e+05  1.24e-02 3.40e-12  1.89e-01    23s\n",
      "  21   3.73965435e+05  4.25894674e+05  6.43e-03 3.50e-12  1.21e-01    24s\n",
      "  22   3.75316099e+05  4.14316879e+05  5.20e-03 4.18e-12  9.13e-02    24s\n",
      "  23   3.77648159e+05  4.05086783e+05  3.38e-03 3.89e-12  6.42e-02    25s\n",
      "  24   3.77973170e+05  4.02326188e+05  3.13e-03 5.24e-12  5.70e-02    25s\n",
      "  25   3.79576789e+05  3.93007612e+05  1.91e-03 4.15e-12  3.14e-02    26s\n",
      "  26   3.80322024e+05  3.92014119e+05  1.33e-03 4.80e-12  2.73e-02    26s\n",
      "  27   3.81345963e+05  3.87184118e+05  5.71e-04 3.65e-12  1.36e-02    27s\n",
      "  28   3.81999731e+05  3.84767055e+05  1.57e-04 4.14e-12  6.45e-03    28s\n",
      "  29   3.82185101e+05  3.83316430e+05  3.43e-05 3.29e-12  2.63e-03    28s\n",
      "  30   3.82245116e+05  3.82770625e+05  5.82e-06 3.34e-12  1.22e-03    29s\n",
      "  31   3.82253047e+05  3.82523111e+05  3.73e-06 3.77e-12  6.28e-04    29s\n",
      "  32   3.82262016e+05  3.82373412e+05  1.76e-06 3.69e-12  2.59e-04    30s\n",
      "  33   3.82274254e+05  3.82298847e+05  4.67e-09 4.63e-12  5.71e-05    31s\n",
      "  34   3.82274528e+05  3.82276065e+05  7.45e-10 5.46e-12  3.57e-06    31s\n",
      "  35   3.82275266e+05  3.82275279e+05  1.99e-10 5.46e-12  3.07e-08    32s\n",
      "  36   3.82275274e+05  3.82275274e+05  4.75e-10 4.47e-12  5.90e-11    32s\n",
      "\n",
      "Barrier solved model in 36 iterations and 32.48 seconds (23.98 work units)\n",
      "Optimal objective 3.82275274e+05\n",
      "\n",
      "\n",
      "Root crossover log...\n",
      "\n",
      "    8747 DPushes remaining with DInf 0.0000000e+00                33s\n",
      "       0 DPushes remaining with DInf 0.0000000e+00                33s\n",
      "\n",
      "       0 PPushes remaining with PInf 0.0000000e+00                33s\n",
      "\n",
      "  Push phase complete: Pinf 0.0000000e+00, Dinf 1.1878558e-09     33s\n",
      "\n",
      "\n",
      "Root simplex log...\n",
      "\n",
      "Iteration    Objective       Primal Inf.    Dual Inf.      Time\n",
      "    8741    3.8227527e+05   0.000000e+00   0.000000e+00     33s\n",
      "Concurrent spin time: 3.07s (can be avoided by choosing Method=3)\n",
      "\n",
      "Solved with barrier\n",
      "    8741    3.8227527e+05   0.000000e+00   0.000000e+00     36s\n",
      "\n",
      "Root relaxation: objective 3.822753e+05, 8741 iterations, 25.16 seconds (14.75 work units)\n",
      "\n",
      "    Nodes    |    Current Node    |     Objective Bounds      |     Work\n",
      " Expl Unexpl |  Obj  Depth IntInf | Incumbent    BestBd   Gap | It/Node Time\n",
      "\n",
      "     0     0 382275.274    0  516 364715.980 382275.274  4.81%     -   37s\n",
      "     0     0 382214.859    0  525 364715.980 382214.859  4.80%     -   38s\n",
      "H    0     0                    367041.59427 382214.859  4.13%     -   51s\n",
      "     0     0 382214.859    0  525 367041.594 382214.859  4.13%     -   51s\n",
      "     0     0 381457.530    0  517 367041.594 381457.530  3.93%     -  187s\n",
      "     0     0 381450.307    0  543 367041.594 381450.307  3.93%     -  193s\n",
      "H    0     0                    367696.34903 381450.307  3.74%     -  227s\n",
      "     0     0 381449.134    0  547 367696.349 381449.134  3.74%     -  227s\n",
      "     0     0 381447.191    0  544 367696.349 381447.191  3.74%     -  228s\n",
      "     0     0 381446.397    0  536 367696.349 381446.397  3.74%     -  228s\n",
      "     0     0 381443.791    0  540 367696.349 381443.791  3.74%     -  229s\n",
      "     0     0 381442.698    0  544 367696.349 381442.698  3.74%     -  230s\n",
      "     0     0 381442.259    0  552 367696.349 381442.259  3.74%     -  230s\n",
      "     0     0 381434.642    0  576 367696.349 381434.642  3.74%     -  233s\n",
      "     0     0 381434.567    0  580 367696.349 381434.567  3.74%     -  240s\n",
      "     0     0 381432.232    0  567 367696.349 381432.232  3.74%     -  241s\n",
      "     0     0 381431.767    0  571 367696.349 381431.767  3.74%     -  241s\n",
      "     0     0 381431.756    0  573 367696.349 381431.756  3.74%     -  241s\n",
      "     0     0 381429.950    0  581 367696.349 381429.950  3.74%     -  243s\n",
      "     0     0 381429.943    0  590 367696.349 381429.943  3.74%     -  246s\n",
      "     0     0 381429.675    0  582 367696.349 381429.675  3.73%     -  248s\n",
      "     0     0 381426.950    0  577 367696.349 381426.950  3.73%     -  250s\n",
      "     0     0 381426.595    0  581 367696.349 381426.595  3.73%     -  251s\n",
      "     0     0 381426.527    0  586 367696.349 381426.527  3.73%     -  251s\n",
      "     0     0 381426.176    0  591 367696.349 381426.176  3.73%     -  252s\n",
      "     0     0 381426.109    0  588 367696.349 381426.109  3.73%     -  252s\n",
      "     0     0 381426.006    0  590 367696.349 381426.006  3.73%     -  253s\n",
      "     0     0 381425.742    0  592 367696.349 381425.742  3.73%     -  253s\n",
      "     0     0 381425.639    0  594 367696.349 381425.639  3.73%     -  254s\n",
      "     0     0 381425.634    0  593 367696.349 381425.634  3.73%     -  254s\n",
      "     0     0 381424.923    0  585 367696.349 381424.923  3.73%     -  256s\n",
      "     0     0 381424.512    0  591 367696.349 381424.512  3.73%     -  260s\n",
      "     0     0 381423.637    0  587 367696.349 381423.637  3.73%     -  260s\n",
      "     0     0 381423.610    0  591 367696.349 381423.610  3.73%     -  261s\n",
      "     0     0 381422.852    0  595 367696.349 381422.852  3.73%     -  262s\n",
      "     0     0 381422.839    0  596 367696.349 381422.839  3.73%     -  263s\n",
      "     0     0 381422.236    0  602 367696.349 381422.236  3.73%     -  264s\n",
      "     0     0 381422.173    0  609 367696.349 381422.173  3.73%     -  266s\n",
      "     0     0 381420.202    0  594 367696.349 381420.202  3.73%     -  267s\n",
      "     0     0 381420.146    0  596 367696.349 381420.146  3.73%     -  269s\n",
      "     0     0 381419.859    0  593 367696.349 381419.859  3.73%     -  270s\n",
      "     0     0 381419.856    0  598 367696.349 381419.856  3.73%     -  271s\n"
     ]
    },
    {
     "name": "stdout",
     "output_type": "stream",
     "text": [
      "     0     0 381418.814    0  587 367696.349 381418.814  3.73%     -  273s\n",
      "     0     0 381418.814    0  587 367696.349 381418.814  3.73%     -  275s\n",
      "H    0     2                    369043.62072 380519.966  3.11%     -  319s\n",
      "     0     2 380519.966    0  587 369043.621 380519.966  3.11%     -  319s\n",
      "     1     4 380519.966    1  593 369043.621 380519.966  3.11%   439  332s\n",
      "     3     8 380519.966    2  581 369043.621 380519.966  3.11%  1024  348s\n",
      "     7    12 380519.966    3  564 369043.621 380519.966  3.11%   999  359s\n",
      "    11    16 380519.966    3  573 369043.621 380519.966  3.11%   917  376s\n",
      "    15    20 380519.966    4  555 369043.621 380519.966  3.11%   964  383s\n",
      "    19    24 380519.966    5  550 369043.621 380519.966  3.11%   872  394s\n",
      "    23    28 380519.966    6  577 369043.621 380519.966  3.11%   824  403s\n",
      "    27    32 380519.966    7  585 369043.621 380519.966  3.11%   769  409s\n",
      "    31    35 380519.966    8  580 369043.621 380519.966  3.11%   712  419s\n",
      "    36    39 380519.966    8  570 369043.621 380519.966  3.11%   692  431s\n",
      "    40    41 380519.966    9  574 369043.621 380519.966  3.11%   684  437s\n",
      "    44    46 380519.966    9  572 369043.621 380519.966  3.11%   677  454s\n",
      "    49    50 380519.966   10  561 369043.621 380519.966  3.11%   666  466s\n",
      "    53    56 380519.966   11  572 369043.621 380519.966  3.11%   650  476s\n",
      "    59    62 380519.966   13  560 369043.621 380519.966  3.11%   641  484s\n",
      "    65    67 380519.966   13  571 369043.621 380519.966  3.11%   624  496s\n",
      "    70    72 380519.966   14  557 369043.621 380519.966  3.11%   622  514s\n",
      "    75    79 379883.356   14  567 369043.621 380519.966  3.11%   656  531s\n",
      "    82    85 380519.966   15  570 369043.621 380519.966  3.11%   648  543s\n",
      "    88    93 380519.966   17  563 369043.621 380519.966  3.11%   633  557s\n",
      "    96    99 380519.966   19  585 369043.621 380519.966  3.11%   611  573s\n",
      "   102   106 380519.966   21  587 369043.621 380519.966  3.11%   608  590s\n",
      "   109   111 380308.169   22  548 369043.621 380519.966  3.11%   613  610s\n",
      "   114   116 380303.041   22  537 369043.621 380519.966  3.11%   616  628s\n",
      "   119   121 380300.825   23  553 369043.621 380519.966  3.11%   618  645s\n",
      "   124   129 380292.667   25  556 369043.621 380519.966  3.11%   626  656s\n",
      "   132   139 380258.960   27  548 369043.621 380519.966  3.11%   613  670s\n",
      "   142   146 380230.926   30  546 369043.621 380519.966  3.11%   596  688s\n",
      "   149   156 380207.979   32  551 369043.621 380519.966  3.11%   592  704s\n",
      "   159   167 380129.597   36  570 369043.621 380519.966  3.11%   577  720s\n",
      "   170   177 380094.464   39  536 369043.621 380519.966  3.11%   558  737s\n",
      "   180   189 379996.433   41  544 369043.621 380519.966  3.11%   551  755s\n",
      "   192   197 379965.698   44  534 369043.621 380519.966  3.11%   545  778s\n",
      "   201   206 379861.462   47  536 369043.621 380519.966  3.11%   556  812s\n",
      "   213   218 379860.117   49  533 369043.621 380519.966  3.11%   567  831s\n",
      "   225   231 379790.026   51  552 369043.621 380519.966  3.11%   560  854s\n",
      "   239   242 379757.026   53  518 369043.621 380519.966  3.11%   552  875s\n",
      "   252   259 379775.617   56  542 369043.621 380519.966  3.11%   547  898s\n",
      "   269   279 379727.442   60  550 369043.621 380519.966  3.11%   535  926s\n",
      "   289   286 379704.432   65  543 369043.621 380519.966  3.11%   516 1204s\n",
      "H  290   286                    370474.73076 380519.966  2.71%   515 1204s\n",
      "H  293   286                    370666.47978 380519.966  2.66%   512 1204s\n",
      "   296   296 379673.543   67  537 370666.480 380519.966  2.66%   514 1312s\n",
      "H  303   296                    373059.13927 380519.966  2.00%   505 1312s\n",
      "   306   325 379574.826   69  560 373059.139 380519.966  2.00%   507 1350s\n",
      "   336   364 379582.113   75  579 373059.139 380519.966  2.00%   481 1380s\n",
      "   377   398 379507.071   82  566 373059.139 380519.966  2.00%   446 1415s\n",
      "   414   434 379401.091   87  596 373059.139 380519.966  2.00%   426 1453s\n",
      "   452   477 379331.843   93  569 373059.139 380519.966  2.00%   407 1491s\n",
      "   495   512 379288.601   98  594 373059.139 380519.966  2.00%   386 1519s\n",
      "   543   534 379248.770  106  565 373059.139 380519.966  2.00%   363 1559s\n",
      "   574   562 379184.631  109  576 373059.139 380519.966  2.00%   357 1599s\n",
      "   604   597 379135.803  116  588 373059.139 380519.966  2.00%   352 1641s\n",
      "   639   627 379049.880  125  574 373059.139 380519.966  2.00%   347 1683s\n",
      "   669   675 378987.357  132  559 373059.139 380519.966  2.00%   348 1730s\n",
      "   717   730 378924.190  135  548 373059.139 380519.966  2.00%   340 1778s\n",
      "   772   778 378807.425  150  512 373059.139 380519.966  2.00%   329 1825s\n",
      "   821   844 378702.370  165  537 373059.139 380519.966  2.00%   322 1869s\n",
      "   887   929 378631.316  181  520 373059.139 380519.966  2.00%   309 1916s\n",
      "   972   997 378557.193  198  526 373059.139 380519.966  2.00%   294 1966s\n",
      "  1042  1083 378402.067  220  507 373059.139 380519.966  2.00%   288 2018s\n",
      "  1130  1190 378298.066  237  533 373059.139 380519.966  2.00%   277 2072s\n",
      "  1237  1298 378238.994  259  548 373059.139 380519.966  2.00%   265 2136s\n",
      "  1349  1414 378125.855  279  527 373059.139 380519.966  2.00%   254 2190s\n",
      "H 1403  1412                    373270.93894 380519.966  1.94%   249 2190s\n",
      "  1471  1504 378051.212  299  531 373270.939 380519.966  1.94%   241 2244s\n",
      "  1497  1504 379152.145   77  407 373270.939 380519.966  1.94%   239 2245s\n",
      "  1583  1590 377768.107  324  520 373270.939 380519.966  1.94%   233 2308s\n",
      "  1669  1657 377480.689  349  519 373270.939 380519.966  1.94%   230 2372s\n",
      "  1736  1750 377316.427  376  515 373270.939 380519.966  1.94%   231 2431s\n",
      "  1829  1787 376918.907  403  536 373270.939 380519.966  1.94%   228 2470s\n",
      "  1866  1860 376884.125  406  514 373270.939 380519.966  1.94%   230 2520s\n",
      "  1940  1996 376411.746  427  515 373270.939 380519.966  1.94%   233 2581s\n",
      "  2076  2152 376205.049  489  530 373270.939 380519.966  1.94%   229 2637s\n",
      "  2236  2329 375677.942  553  512 373270.939 380519.966  1.94%   224 2698s\n",
      "  2428  2383 374191.091  633  535 373270.939 380519.966  1.94%   219 2767s\n",
      "  2500  2449 380235.573    9  557 373270.939 380519.966  1.94%   222 2829s\n",
      "\n",
      "Cutting planes:\n",
      "  Cover: 7\n",
      "  Clique: 3\n",
      "  MIR: 19\n",
      "  StrongCG: 9\n",
      "  GUB cover: 3\n",
      "  Inf proof: 1\n",
      "  Zero half: 9\n",
      "\n",
      "Explored 2568 nodes (597257 simplex iterations) in 3600.40 seconds (2143.80 work units)\n",
      "Thread count was 8 (of 8 available processors)\n",
      "\n",
      "Solution count 8: 373271 373059 370666 ... 364716\n",
      "\n",
      "Time limit reached\n",
      "Best objective 3.732709389399e+05, best bound 3.805199656759e+05, gap 1.9420%\n"
     ]
    }
   ],
   "source": [
    "mod.optimize()"
   ]
  },
  {
   "cell_type": "code",
   "execution_count": 98,
   "id": "b9a93ea5",
   "metadata": {},
   "outputs": [],
   "source": [
    "complete_path = []\n",
    "for i in flow_arcs:\n",
    "    if (x[i].x >=0.99):\n",
    "        complete_path.append(i)"
   ]
  },
  {
   "cell_type": "code",
   "execution_count": 99,
   "id": "53965dcb",
   "metadata": {},
   "outputs": [
    {
     "data": {
      "text/plain": [
       "['Driver457:T11->7043->4586->3519->8013->T11',\n",
       " 'Driver130:T26->6132->2248->3528->2233->T26',\n",
       " 'Driver228:T20->9730->5071->1204->39->2414->T20',\n",
       " 'Driver181:T12->5406->6433->7061->T12',\n",
       " 'Driver378:T4->9659->1540->188->4960->T4',\n",
       " 'Driver453:T14->1355->210->584->7849->T14',\n",
       " 'Driver331:T29->6099->9190->9818->T29',\n",
       " 'Driver477:T19->3677->4392->2939->T19',\n",
       " 'Driver273:T23->3925->4775->5650->2103->T23',\n",
       " 'Driver91:T22->4711->8121->7848->7259->T22',\n",
       " 'Driver361:T16->5359->5818->9556->4204->T16',\n",
       " 'Driver109:T21->9665->4929->3144->9477->T21',\n",
       " 'Driver344:T25->4173->4857->2415->8808->T25',\n",
       " 'Driver247:T5->8431->2895->4925->T5',\n",
       " 'Driver82:T9->3208->4533->T9',\n",
       " 'Driver458:T3->7607->2636->4065->T3',\n",
       " 'Driver165:T28->1362->3372->9067->T28',\n",
       " 'Driver223:T1->552->9361->4958->T1',\n",
       " 'Driver12:T18->7312->6329->4340->T18',\n",
       " 'Driver210:T27->5231->9442->8198->T27',\n",
       " 'Driver39:T10->1952->6289->8039->6568->T10',\n",
       " 'Driver294:T13->9836->8777->423->5333->T13',\n",
       " 'Driver550:T8->495->5578->1638->T8',\n",
       " 'Driver286:T0->2419->2884->2758->T0',\n",
       " 'Driver352:T24->9364->7063->7959->T24',\n",
       " 'Driver504:T6->6704->8780->T6',\n",
       " 'Driver24:T7->6421->8304->T7',\n",
       " 'Driver41:T17->765->4424->5166->T17',\n",
       " 'Driver311:T2->5347->6687->8454->6689->T2',\n",
       " 'Driver390:T15->4850->4258->8383->7202->T15']"
      ]
     },
     "execution_count": 99,
     "metadata": {},
     "output_type": "execute_result"
    }
   ],
   "source": [
    "complete_job = complete_path.copy()\n",
    "final_result = generated_path(complete_job)\n",
    "while complete_job != []:\n",
    "    final_result+= generated_path(complete_job)\n",
    "final_result"
   ]
  },
  {
   "cell_type": "code",
   "execution_count": 101,
   "id": "1b61d150",
   "metadata": {},
   "outputs": [],
   "source": [
    "selected_jobs_count = 0\n",
    "for i in jobs:\n",
    "    #if (x[i].x >= 0.99):\n",
    "        #print(x[i].x)\n",
    "        if y[i].x > 0.5:\n",
    "            selected_jobs_count += 1 "
   ]
  },
  {
   "cell_type": "code",
   "execution_count": 102,
   "id": "edc61cbb",
   "metadata": {},
   "outputs": [
    {
     "name": "stdout",
     "output_type": "stream",
     "text": [
      "selected_jobs_count :102 job_count_in_job_pool :500 job_selection_rate :0.204\n"
     ]
    }
   ],
   "source": [
    "print('selected_jobs_count :' +str(selected_jobs_count), 'job_count_in_job_pool :' + str(len(order_data_set)), 'job_selection_rate :' + str(selected_jobs_count/len(order_data_set)))"
   ]
  },
  {
   "cell_type": "code",
   "execution_count": 103,
   "id": "46a53479",
   "metadata": {},
   "outputs": [
    {
     "name": "stdout",
     "output_type": "stream",
     "text": [
      "optimized_revenue :373270.93893985846 revenue_in_pool:1511384.0890695387 optimized_revenue_to_pool_revenue_rate :0.24697291816116523\n"
     ]
    }
   ],
   "source": [
    "print('optimized_revenue :' +str(mod.ObjVal), 'revenue_in_pool:' + str(order_data_set['LineHaulRevenue'].sum()), 'optimized_revenue_to_pool_revenue_rate :' + str(mod.ObjVal/order_data_set['LineHaulRevenue'].sum()))"
   ]
  },
  {
   "cell_type": "code",
   "execution_count": 166,
   "id": "5c97588a",
   "metadata": {},
   "outputs": [],
   "source": [
    "routes = final_result"
   ]
  },
  {
   "cell_type": "code",
   "execution_count": 167,
   "id": "0f43ea48",
   "metadata": {},
   "outputs": [],
   "source": [
    "dashboard_materials = final_result, first_wave, ds"
   ]
  },
  {
   "cell_type": "code",
   "execution_count": 170,
   "id": "490c38f4",
   "metadata": {},
   "outputs": [],
   "source": [
    "with open('create_dashboard.pkl', 'wb') as f:\n",
    "    pickle.dump(dashboard_materials, f)"
   ]
  },
  {
   "cell_type": "code",
   "execution_count": 171,
   "id": "c32df731",
   "metadata": {},
   "outputs": [
    {
     "data": {
      "text/plain": [
       "['Driver457:T11->7043->4586->3519->8013->T11',\n",
       " 'Driver130:T26->6132->2248->3528->2233->T26',\n",
       " 'Driver228:T20->9730->5071->1204->39->2414->T20',\n",
       " 'Driver181:T12->5406->6433->7061->T12',\n",
       " 'Driver378:T4->9659->1540->188->4960->T4',\n",
       " 'Driver453:T14->1355->210->584->7849->T14',\n",
       " 'Driver331:T29->6099->9190->9818->T29',\n",
       " 'Driver477:T19->3677->4392->2939->T19',\n",
       " 'Driver273:T23->3925->4775->5650->2103->T23',\n",
       " 'Driver91:T22->4711->8121->7848->7259->T22',\n",
       " 'Driver361:T16->5359->5818->9556->4204->T16',\n",
       " 'Driver109:T21->9665->4929->3144->9477->T21',\n",
       " 'Driver344:T25->4173->4857->2415->8808->T25',\n",
       " 'Driver247:T5->8431->2895->4925->T5',\n",
       " 'Driver82:T9->3208->4533->T9',\n",
       " 'Driver458:T3->7607->2636->4065->T3',\n",
       " 'Driver165:T28->1362->3372->9067->T28',\n",
       " 'Driver223:T1->552->9361->4958->T1',\n",
       " 'Driver12:T18->7312->6329->4340->T18',\n",
       " 'Driver210:T27->5231->9442->8198->T27',\n",
       " 'Driver39:T10->1952->6289->8039->6568->T10',\n",
       " 'Driver294:T13->9836->8777->423->5333->T13',\n",
       " 'Driver550:T8->495->5578->1638->T8',\n",
       " 'Driver286:T0->2419->2884->2758->T0',\n",
       " 'Driver352:T24->9364->7063->7959->T24',\n",
       " 'Driver504:T6->6704->8780->T6',\n",
       " 'Driver24:T7->6421->8304->T7',\n",
       " 'Driver41:T17->765->4424->5166->T17',\n",
       " 'Driver311:T2->5347->6687->8454->6689->T2',\n",
       " 'Driver390:T15->4850->4258->8383->7202->T15']"
      ]
     },
     "execution_count": 171,
     "metadata": {},
     "output_type": "execute_result"
    }
   ],
   "source": [
    "routes"
   ]
  }
 ],
 "metadata": {
  "kernelspec": {
   "display_name": "Python 3 (ipykernel)",
   "language": "python",
   "name": "python3"
  },
  "language_info": {
   "codemirror_mode": {
    "name": "ipython",
    "version": 3
   },
   "file_extension": ".py",
   "mimetype": "text/x-python",
   "name": "python",
   "nbconvert_exporter": "python",
   "pygments_lexer": "ipython3",
   "version": "3.9.16"
  }
 },
 "nbformat": 4,
 "nbformat_minor": 5
}
