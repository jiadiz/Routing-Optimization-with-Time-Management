{
 "cells": [
  {
   "cell_type": "markdown",
   "id": "506b6c5c",
   "metadata": {},
   "source": [
    "# PGT Routing Optimization - Optimization Model\n",
    "\n",
    "Project student team: Peter Pan; Vincent Pan; Sanjit Sokhi, Jerry Wang, Jiadi Zhang\n",
    "\n",
    "Advisor: Amr Farahat\n",
    "\n",
    "Creation date: 2023-03-27\n",
    "\n",
    "This jupyter notebook performs the network flow optimization based upon the material provided by the material generation notebook"
   ]
  },
  {
   "cell_type": "code",
   "execution_count": 343,
   "id": "af445d94",
   "metadata": {},
   "outputs": [],
   "source": [
    "import csv\n",
    "import numpy as np\n",
    "import pandas as pd\n",
    "import matplotlib.pyplot as plt\n",
    "from datetime import datetime\n",
    "from datetime import datetime, timedelta\n",
    "import numpy as np\n",
    "from geopy.geocoders import Nominatim \n",
    "from geopy import distance \n",
    "from multidict import MultiDict\n",
    "import math\n",
    "import gurobipy as gp\n",
    "from gurobipy import GRB\n",
    "import pickle"
   ]
  },
  {
   "cell_type": "code",
   "execution_count": 344,
   "id": "40356a58",
   "metadata": {},
   "outputs": [],
   "source": [
    "optimization_time_limit = 60"
   ]
  },
  {
   "cell_type": "code",
   "execution_count": 345,
   "id": "bbafdaaf",
   "metadata": {},
   "outputs": [],
   "source": [
    "with open('C:/Users/jiadiz/Desktop/PGT Trucking/initial model/Github/model_materials.pkl', 'rb') as f:\n",
    "    model_materials = pickle.load(f)"
   ]
  },
  {
   "cell_type": "code",
   "execution_count": 346,
   "id": "531f5792",
   "metadata": {},
   "outputs": [],
   "source": [
    "terminals, drivers, jobs, nodes, jobs_revenues, all_arcs, flow_arcs, order_data_set = model_materials "
   ]
  },
  {
   "cell_type": "code",
   "execution_count": 347,
   "id": "3594f162",
   "metadata": {},
   "outputs": [
    {
     "data": {
      "text/plain": [
       "35207"
      ]
     },
     "execution_count": 347,
     "metadata": {},
     "output_type": "execute_result"
    }
   ],
   "source": [
    "len(flow_arcs)"
   ]
  },
  {
   "cell_type": "code",
   "execution_count": 348,
   "id": "60bf4b66",
   "metadata": {},
   "outputs": [],
   "source": [
    "def sum_for_all_driver(d,flow_arcs):\n",
    "    out = []\n",
    "    for ch in flow_arcs:\n",
    "        if ch[0] == d:\n",
    "            out.append(ch)\n",
    "    return out"
   ]
  },
  {
   "cell_type": "code",
   "execution_count": 349,
   "id": "10205d14",
   "metadata": {},
   "outputs": [],
   "source": [
    "def all_driver_value(x,d,flow_arcs):\n",
    "    out = []\n",
    "    for ch in flow_arcs:\n",
    "        \n",
    "        if ch[0] == d:\n",
    "            \n",
    "            out.append(flow_arcs[ch])\n",
    "    return out"
   ]
  },
  {
   "cell_type": "code",
   "execution_count": 350,
   "id": "014efbe2",
   "metadata": {},
   "outputs": [],
   "source": [
    "# def find_the_next(path_example,k):\n",
    "#     driver = k[0]\n",
    "#     dest = k[2]\n",
    "#     for ch in path_example:\n",
    "#         if ch[0] == driver and dest == ch[1]:\n",
    "#             return ch \n",
    "#     return "
   ]
  },
  {
   "cell_type": "code",
   "execution_count": 351,
   "id": "08d73299",
   "metadata": {},
   "outputs": [],
   "source": [
    "def find_the_next(path_example,k):\n",
    "    driver = k[0]\n",
    "    dest = k[2]\n",
    "    for ch in path_example:\n",
    "        if ch[0] == driver and dest == ch[1]:\n",
    "            return ch \n",
    "    return \n",
    "\n",
    "def generated_path(path_example):\n",
    "    all_path = []\n",
    "    path = ''\n",
    "    for ch in path_example:\n",
    "        driver = ch[0]\n",
    "        if ch[1][0]!='T':\n",
    "            continue \n",
    "    \n",
    "        ori = ch[1]\n",
    "        dest = ch[2]\n",
    "        path = driver +':'+ch[1] +'->' + ch[2] \n",
    "        nex = find_the_next(path_example,ch)\n",
    "        path_example.remove(ch)\n",
    "        while nex:\n",
    "            path = path +'->' + nex[2]\n",
    "            temp = nex\n",
    "            path_example.remove(nex)\n",
    "            nex  = find_the_next(path_example,temp) \n",
    "            \n",
    "        all_path.append(path)\n",
    "        path = ''\n",
    "        \n",
    "    return all_path "
   ]
  },
  {
   "cell_type": "code",
   "execution_count": 352,
   "id": "175b6ef8",
   "metadata": {},
   "outputs": [],
   "source": [
    "mod = gp.Model('model0')"
   ]
  },
  {
   "cell_type": "code",
   "execution_count": 353,
   "id": "b47a428f",
   "metadata": {},
   "outputs": [],
   "source": [
    "y = mod.addVars(jobs, vtype=GRB.BINARY, name= \"y\")\n",
    "x = mod.addVars(flow_arcs, vtype=GRB.BINARY, name= \"x\")"
   ]
  },
  {
   "cell_type": "code",
   "execution_count": 354,
   "id": "ebbdd73d",
   "metadata": {},
   "outputs": [],
   "source": [
    "obj_fn = mod.setObjective(gp.quicksum(jobs_revenues[j]* y[j] for j in jobs), GRB.MAXIMIZE)"
   ]
  },
  {
   "cell_type": "code",
   "execution_count": 355,
   "id": "5ea66060",
   "metadata": {},
   "outputs": [],
   "source": [
    "# obj_fn = mod.setObjective(gp.quicksum(y[j] for j in jobs), GRB.MAXIMIZE)"
   ]
  },
  {
   "cell_type": "code",
   "execution_count": 356,
   "id": "e531b17f",
   "metadata": {},
   "outputs": [],
   "source": [
    "u = mod.addVars(nodes, vtype=GRB.INTEGER, name=\"u\")"
   ]
  },
  {
   "cell_type": "code",
   "execution_count": 357,
   "id": "996cdc50",
   "metadata": {},
   "outputs": [],
   "source": [
    "terminal_constraint = mod.addConstrs((x.sum(d, '*', t) <=1  for d in drivers for t in terminals))\n"
   ]
  },
  {
   "cell_type": "code",
   "execution_count": 358,
   "id": "d201172b",
   "metadata": {},
   "outputs": [],
   "source": [
    "flow_conservation = mod.addConstrs((x.sum(d, '*', j) == x.sum(d, j, '*') for d in drivers for j in nodes if j not in terminals),name=\"flow_conservation\",\n",
    ")"
   ]
  },
  {
   "cell_type": "code",
   "execution_count": 359,
   "id": "b8d81b36",
   "metadata": {},
   "outputs": [],
   "source": [
    "single_driver = mod.addConstrs(x.sum('*', o, d) <= 1 for (o, d) in all_arcs)"
   ]
  },
  {
   "cell_type": "code",
   "execution_count": 360,
   "id": "dbd4ffce",
   "metadata": {},
   "outputs": [],
   "source": [
    "served_jobs = mod.addConstrs(x.sum('*', '*', j)  == y[j] for j in jobs)"
   ]
  },
  {
   "cell_type": "code",
   "execution_count": 361,
   "id": "b25dc094",
   "metadata": {},
   "outputs": [
    {
     "name": "stdout",
     "output_type": "stream",
     "text": [
      "Set parameter TimeLimit to value 60\n"
     ]
    }
   ],
   "source": [
    "mip_gap = 0.05  # 5% optimality gap\n",
    "\n",
    "# mod.setParam(GRB.Param.MIPGap, mip_gap)\n",
    "mod.setParam(GRB.Param.TimeLimit, optimization_time_limit)"
   ]
  },
  {
   "cell_type": "code",
   "execution_count": 362,
   "id": "7a32adf1",
   "metadata": {},
   "outputs": [],
   "source": [
    "for d in drivers:\n",
    "    driver =  sum_for_all_driver(d,flow_arcs)\n",
    "    \n",
    "    mod.addConstr(gp.quicksum(flow_arcs[ch]* x[ch] for ch in driver) <= 80)"
   ]
  },
  {
   "cell_type": "code",
   "execution_count": 363,
   "id": "de5e4590",
   "metadata": {},
   "outputs": [
    {
     "name": "stdout",
     "output_type": "stream",
     "text": [
      "Gurobi Optimizer version 10.0.1 build v10.0.1rc0 (win64)\n",
      "\n",
      "CPU model: Intel(R) Core(TM) i7-6700HQ CPU @ 2.60GHz, instruction set [SSE2|AVX|AVX2]\n",
      "Thread count: 4 physical cores, 8 logical processors, using up to 8 threads\n",
      "\n",
      "Optimize a model with 13792 rows, 35537 columns and 170585 nonzeros\n",
      "Model fingerprint: 0x3d8fa374\n",
      "Variable types: 0 continuous, 35537 integer (35357 binary)\n",
      "Coefficient statistics:\n",
      "  Matrix range     [5e-01, 1e+02]\n",
      "  Objective range  [2e+02, 5e+03]\n",
      "  Bounds range     [1e+00, 1e+00]\n",
      "  RHS range        [1e+00, 8e+01]\n",
      "Found heuristic solution: objective -0.0000000\n",
      "Presolve removed 10959 rows and 14112 columns\n",
      "Presolve time: 1.98s\n",
      "Presolved: 2833 rows, 21425 columns, 82033 nonzeros\n",
      "Variable types: 0 continuous, 21425 integer (21425 binary)\n",
      "Found heuristic solution: objective 82986.230233\n",
      "\n",
      "Root relaxation: objective 2.406742e+05, 9438 iterations, 0.69 seconds (0.62 work units)\n",
      "\n",
      "    Nodes    |    Current Node    |     Objective Bounds      |     Work\n",
      " Expl Unexpl |  Obj  Depth IntInf | Incumbent    BestBd   Gap | It/Node Time\n",
      "\n",
      "     0     0 240674.208    0  120 82986.2302 240674.208   190%     -    3s\n",
      "     0     0 240599.140    0  142 82986.2302 240599.140   190%     -    3s\n",
      "H    0     0                    201045.68528 240599.140  19.7%     -    3s\n",
      "H    0     0                    213530.50253 240599.140  12.7%     -    3s\n",
      "H    0     0                    222035.80585 240599.140  8.36%     -    3s\n",
      "H    0     0                    222198.93693 240599.140  8.28%     -    3s\n",
      "H    0     0                    227859.82759 240599.140  5.59%     -    3s\n",
      "     0     0 240599.140    0  150 227859.828 240599.140  5.59%     -    3s\n",
      "     0     0 239043.015    0  131 227859.828 239043.015  4.91%     -    7s\n",
      "     0     0 239043.015    0  136 227859.828 239043.015  4.91%     -    7s\n",
      "H    0     0                    229924.90348 239043.015  3.97%     -    7s\n",
      "H    0     0                    230628.33322 239043.015  3.65%     -    7s\n",
      "H    0     0                    231047.26057 239043.015  3.46%     -    7s\n",
      "H    0     0                    231423.15011 239043.015  3.29%     -    7s\n",
      "     0     0 238966.522    0  167 231423.150 238966.522  3.26%     -    8s\n",
      "     0     0 238966.522    0  208 231423.150 238966.522  3.26%     -    8s\n",
      "H    0     0                    234009.85521 238966.522  2.12%     -    8s\n",
      "     0     0 238712.641    0  135 234009.855 238712.641  2.01%     -    8s\n",
      "H    0     0                    234553.75023 238712.641  1.77%     -    9s\n",
      "     0     0 238700.130    0  189 234553.750 238700.130  1.77%     -    9s\n",
      "     0     0 238685.880    0  205 234553.750 238685.880  1.76%     -    9s\n",
      "     0     0 238685.880    0  219 234553.750 238685.880  1.76%     -    9s\n",
      "     0     0 238685.880    0  217 234553.750 238685.880  1.76%     -    9s\n",
      "     0     0 238685.880    0  219 234553.750 238685.880  1.76%     -    9s\n",
      "     0     0 238685.880    0  187 234553.750 238685.880  1.76%     -   10s\n",
      "H    0     0                    235184.05985 238685.880  1.49%     -   10s\n",
      "     0     0 238683.689    0  178 235184.060 238683.689  1.49%     -   10s\n",
      "     0     0 238683.689    0  179 235184.060 238683.689  1.49%     -   10s\n",
      "     0     0 238678.028    0  170 235184.060 238678.028  1.49%     -   10s\n",
      "     0     0 238677.629    0  171 235184.060 238677.629  1.49%     -   11s\n",
      "     0     0 238677.629    0  187 235184.060 238677.629  1.49%     -   11s\n",
      "     0     0 238677.629    0  193 235184.060 238677.629  1.49%     -   11s\n",
      "     0     0 238677.629    0  193 235184.060 238677.629  1.49%     -   11s\n",
      "     0     0 238677.629    0  175 235184.060 238677.629  1.49%     -   11s\n",
      "     0     0 238677.629    0  118 235184.060 238677.629  1.49%     -   11s\n",
      "     0     0 238677.629    0  136 235184.060 238677.629  1.49%     -   12s\n",
      "     0     0 238677.629    0  129 235184.060 238677.629  1.49%     -   12s\n",
      "     0     0 238677.629    0  132 235184.060 238677.629  1.49%     -   12s\n",
      "     0     0 238677.629    0  126 235184.060 238677.629  1.49%     -   12s\n",
      "     0     0 238677.629    0  115 235184.060 238677.629  1.49%     -   12s\n",
      "     0     0 238677.629    0  123 235184.060 238677.629  1.49%     -   13s\n",
      "     0     0 238677.629    0  170 235184.060 238677.629  1.49%     -   13s\n",
      "     0     0 238677.629    0  163 235184.060 238677.629  1.49%     -   13s\n",
      "H    0     0                    235513.13520 238677.629  1.34%     -   13s\n",
      "     0     0 238677.629    0  126 235513.135 238677.629  1.34%     -   13s\n",
      "     0     0 238677.629    0  120 235513.135 238677.629  1.34%     -   14s\n",
      "H    0     0                    235638.31959 238676.567  1.29%     -   15s\n",
      "     0     2 238676.567    0  119 235638.320 238676.567  1.29%     -   15s\n",
      "H   28    31                    236883.90238 238532.272  0.70%   231   18s\n",
      "    64    62 238532.272   14  130 236883.902 238532.272  0.70%   159   20s\n",
      "   173   155 238036.147   33  137 236883.902 238532.272  0.70%   127   25s\n",
      "H  211   190                    237094.65021 238532.272  0.61%   123   27s\n",
      "   301   250 238033.760   13   60 237094.650 238532.272  0.61%   116   30s\n",
      "   454   327 237886.553   37   98 237094.650 238532.272  0.61%   104   35s\n",
      "   611   387 237417.192   63  150 237094.650 238532.272  0.61%   105   45s\n",
      "\n",
      "Explored 612 nodes (134293 simplex iterations) in 45.98 seconds (47.06 work units)\n",
      "Thread count was 8 (of 8 available processors)\n",
      "\n",
      "Solution count 10: 237095 236884 235638 ... 230628\n",
      "\n",
      "Optimal solution found (tolerance 1.00e-04)\n",
      "Best objective 2.370946502052e+05, best bound 2.370946502052e+05, gap 0.0000%\n"
     ]
    }
   ],
   "source": [
    "mod.optimize()"
   ]
  },
  {
   "cell_type": "code",
   "execution_count": 364,
   "id": "b9a93ea5",
   "metadata": {},
   "outputs": [],
   "source": [
    "complete_path = []\n",
    "for i in flow_arcs:\n",
    "    if (x[i].x >=0.99):\n",
    "        complete_path.append(i)"
   ]
  },
  {
   "cell_type": "code",
   "execution_count": 370,
   "id": "53965dcb",
   "metadata": {},
   "outputs": [
    {
     "data": {
      "text/plain": [
       "['Driver181:T12->6289->5071->T12',\n",
       " 'Driver39:T10->45->7577->8455->1589->T10',\n",
       " 'Driver109:T21->4929->5406->8170->T21',\n",
       " 'Driver458:T3->8965->9005->8584->T3',\n",
       " 'Driver41:T17->4658->6439->T17',\n",
       " 'Driver210:T27->9701->7312->T27',\n",
       " 'Driver378:T4->1081->1987->T4',\n",
       " 'Driver453:T14->3757->6329->7226->T14',\n",
       " 'Driver390:T15->4850->8792->T15',\n",
       " 'Driver477:T19->7616->579->T19',\n",
       " 'Driver352:T24->9119->6624->T24',\n",
       " 'Driver165:T28->5391->3290->7997->T28',\n",
       " 'Driver12:T18->3208->3925->4479->T18',\n",
       " 'Driver82:T9->111->3398->T9',\n",
       " 'Driver361:T16->3896->2381->T16',\n",
       " 'Driver91:T22->9420->8808->T22',\n",
       " 'Driver228:T20->1540->5800->T20',\n",
       " 'Driver294:T13->3877->4173->T13',\n",
       " 'Driver311:T2->5593->3641->T2',\n",
       " 'Driver457:T11->7849->8780->T11',\n",
       " 'Driver344:T25->2037->3305->T25',\n",
       " 'Driver130:T26->405->9067->4172->7859->T26',\n",
       " 'Driver223:T1->7734->9556->T1',\n",
       " 'Driver331:T29->3213->3436->T29',\n",
       " 'Driver504:T6->9245->4229->T6',\n",
       " 'Driver550:T8->4204->2363->2013->T8',\n",
       " 'Driver247:T5->9567->7479->T5',\n",
       " 'Driver286:T0->5004->6585->T0',\n",
       " 'Driver273:T23->8431->2274->T23',\n",
       " 'Driver24:T7->476->5084->T7']"
      ]
     },
     "execution_count": 370,
     "metadata": {},
     "output_type": "execute_result"
    }
   ],
   "source": [
    "complete_job = complete_path.copy()\n",
    "final_result = generated_path(complete_job)\n",
    "while complete_job != []:\n",
    "    final_result+= generated_path(complete_job)\n",
    "final_result"
   ]
  },
  {
   "cell_type": "code",
   "execution_count": 367,
   "id": "1b61d150",
   "metadata": {},
   "outputs": [],
   "source": [
    "selected_jobs_count = 0\n",
    "for i in jobs:\n",
    "    #if (x[i].x >= 0.99):\n",
    "        #print(x[i].x)\n",
    "        if y[i].x > 0.5:\n",
    "            selected_jobs_count += 1 "
   ]
  },
  {
   "cell_type": "code",
   "execution_count": 368,
   "id": "edc61cbb",
   "metadata": {},
   "outputs": [
    {
     "name": "stdout",
     "output_type": "stream",
     "text": [
      "selected_jobs_count :70 job_count_in_job_pool :150 job_selection_rate :0.4666666666666667\n"
     ]
    }
   ],
   "source": [
    "print('selected_jobs_count :' +str(selected_jobs_count), 'job_count_in_job_pool :' + str(len(order_data_set)), 'job_selection_rate :' + str(selected_jobs_count/len(order_data_set)))"
   ]
  },
  {
   "cell_type": "code",
   "execution_count": 369,
   "id": "46a53479",
   "metadata": {},
   "outputs": [
    {
     "name": "stdout",
     "output_type": "stream",
     "text": [
      "optimized_revenue :237094.6502051566 revenue_in_pool:446213.4422679697 optimized_revenue_to_pool_revenue_rate :0.5313480674183083\n"
     ]
    }
   ],
   "source": [
    "print('optimized_revenue :' +str(mod.ObjVal), 'revenue_in_pool:' + str(order_data_set['LineHaulRevenue'].sum()), 'optimized_revenue_to_pool_revenue_rate :' + str(mod.ObjVal/order_data_set['LineHaulRevenue'].sum()))"
   ]
  }
 ],
 "metadata": {
  "kernelspec": {
   "display_name": "Python 3 (ipykernel)",
   "language": "python",
   "name": "python3"
  },
  "language_info": {
   "codemirror_mode": {
    "name": "ipython",
    "version": 3
   },
   "file_extension": ".py",
   "mimetype": "text/x-python",
   "name": "python",
   "nbconvert_exporter": "python",
   "pygments_lexer": "ipython3",
   "version": "3.9.13"
  }
 },
 "nbformat": 4,
 "nbformat_minor": 5
}
