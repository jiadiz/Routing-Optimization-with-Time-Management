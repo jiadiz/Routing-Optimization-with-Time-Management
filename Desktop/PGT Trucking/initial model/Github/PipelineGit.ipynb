{
 "cells": [
  {
   "cell_type": "markdown",
   "id": "506b6c5c",
   "metadata": {},
   "source": [
    "# PGT Trucking Capstone Project\n",
    "\n",
    "Project student team: Peter Pan; Vincent Pan; Sanjit Sokhi, Jerry Wang, Jiadi Zhang\n",
    "\n",
    "Advisor: Amr Farahat\n",
    "\n",
    "Creation date: 2023-03-27"
   ]
  },
  {
   "cell_type": "markdown",
   "id": "67424701",
   "metadata": {},
   "source": [
    "Choose the number of drivers and number of orders you want"
   ]
  },
  {
   "cell_type": "code",
   "execution_count": 225,
   "id": "d937e28f",
   "metadata": {},
   "outputs": [],
   "source": [
    "num_driver =  20\n",
    "num_order = 100\n",
    "random_state_param = 886\n",
    "time_limit = 1200\n",
    "#mip_gap = 0.05  "
   ]
  },
  {
   "cell_type": "markdown",
   "id": "3d7cdc36",
   "metadata": {},
   "source": [
    " ## Importing packages"
   ]
  },
  {
   "cell_type": "code",
   "execution_count": 226,
   "id": "9cbb0d28",
   "metadata": {},
   "outputs": [],
   "source": [
    "import csv\n",
    "import numpy as np\n",
    "import pandas as pd\n",
    "import matplotlib.pyplot as plt\n",
    "from datetime import datetime\n",
    "from datetime import datetime, timedelta\n",
    "import numpy as np\n",
    "from geopy.geocoders import Nominatim \n",
    "from geopy import distance \n",
    "from multidict import MultiDict\n",
    "import math\n",
    "import gurobipy as gp\n",
    "from gurobipy import GRB"
   ]
  },
  {
   "cell_type": "markdown",
   "id": "cd561f4c",
   "metadata": {},
   "source": [
    " ## Setting functions"
   ]
  },
  {
   "cell_type": "markdown",
   "id": "57ff2f4a",
   "metadata": {},
   "source": [
    "Distance functions to calculate the distance between two areas"
   ]
  },
  {
   "cell_type": "code",
   "execution_count": 227,
   "id": "17717e50",
   "metadata": {},
   "outputs": [],
   "source": [
    "def my_distance(origin_zip,dest_zip):\n",
    "    geolocator = Nominatim(user_agent = \"my_app_name\")\n",
    "    origin_loc = geolocator.geocode(origin_zip,country_codes ='us')\n",
    "    dest_loc = geolocator.geocode(dest_zip,country_codes ='us')\n",
    "    origin_latlon = (origin_loc.latitude,origin_loc.longitude)\n",
    "    dest_latlon = (dest_loc.latitude,dest_loc.longitude)\n",
    "    return (distance.distance(origin_latlon,dest_latlon).miles)\n"
   ]
  },
  {
   "cell_type": "code",
   "execution_count": 228,
   "id": "4267b7e9",
   "metadata": {},
   "outputs": [],
   "source": [
    "def haversine_distance(lon1, lat1, lon2, lat2):\n",
    "    try:\n",
    "        R = 6371  # radius of the Earth in kilometers\n",
    "        dlon = math.radians(lon2 - lon1)\n",
    "        dlat = math.radians(lat2 - lat1)\n",
    "        a = math.sin(dlat / 2) ** 2 + math.cos(math.radians(lat1)) * math.cos(math.radians(lat2)) * math.sin(dlon / 2) ** 2\n",
    "        c = 2 * math.atan2(math.sqrt(a), math.sqrt(1 - a))\n",
    "        return R * c /1.609\n",
    "    except:\n",
    "        return None"
   ]
  },
  {
   "cell_type": "markdown",
   "id": "f9267373",
   "metadata": {},
   "source": [
    "Time function to calcualte the time consumption for a trucker to travel certain dsitance"
   ]
  },
  {
   "cell_type": "code",
   "execution_count": 229,
   "id": "bf99780b",
   "metadata": {},
   "outputs": [],
   "source": [
    "def my_time(dis):\n",
    "    speed = 7.6 * math.log(dis) + 4.5\n",
    "    time_consumption = dis/speed\n",
    "    return time_consumption"
   ]
  },
  {
   "cell_type": "markdown",
   "id": "53b59dcf",
   "metadata": {},
   "source": [
    "Function to standardize zip codes"
   ]
  },
  {
   "cell_type": "code",
   "execution_count": 230,
   "id": "8f6b0dbd",
   "metadata": {},
   "outputs": [],
   "source": [
    "def zip_correcter(zipcodes):\n",
    "    zipdf = zipcodes.copy()\n",
    "    corrected_zips = []\n",
    "    for azip in zipdf:\n",
    "        zip_length = len(str(azip))\n",
    "        if zip_length < 5:\n",
    "            corrected_zips.append((5-zip_length)*'0' + str(azip))\n",
    "        elif zip_length > 5:\n",
    "            corrected_zips.append(str(azip)[:5])\n",
    "        else:\n",
    "            corrected_zips.append(azip)\n",
    "    return corrected_zips"
   ]
  },
  {
   "cell_type": "markdown",
   "id": "dc357470",
   "metadata": {},
   "source": [
    " ## importing and processing data"
   ]
  },
  {
   "cell_type": "markdown",
   "id": "9aaf6f0d",
   "metadata": {},
   "source": [
    "Data import section"
   ]
  },
  {
   "cell_type": "code",
   "execution_count": 231,
   "id": "93271b08",
   "metadata": {},
   "outputs": [],
   "source": [
    "df = pd.read_csv(\"C:/Users/jiadiz/Desktop/PGT Trucking/initial model/Github/simulated_order_sample.csv\",dtype={'dest_zipcode':str,'origin_zipcode':str})\n",
    "df['dest_zipcode'] = zip_correcter(df['dest_zipcode'])\n",
    "df['origin_zipcode'] = zip_correcter(df['origin_zipcode'])"
   ]
  },
  {
   "cell_type": "code",
   "execution_count": 232,
   "id": "e0a292fb",
   "metadata": {},
   "outputs": [],
   "source": [
    "df2 = df.dropna().sample(num_order, random_state = random_state_param)"
   ]
  },
  {
   "cell_type": "code",
   "execution_count": 233,
   "id": "8588c93f",
   "metadata": {},
   "outputs": [],
   "source": [
    "df2['origin_zipcode'] = df2['origin_zipcode'].astype(str)\n",
    "df2['dest_zipcode'] = df2['dest_zipcode'].astype(str)"
   ]
  },
  {
   "cell_type": "code",
   "execution_count": 234,
   "id": "070f7df1",
   "metadata": {},
   "outputs": [
    {
     "data": {
      "text/plain": [
       "Index(['ManifestNo', 'driverCode', 'ManifestLeg', 'OrderNo', 'NumberOfLegs',\n",
       "       'PickupWindowStart', 'PickupWindowEnd', 'PickupArrive', 'PickupDepart',\n",
       "       'DeliverWindowStart', 'DeliverWindowEnd', 'DeliverArrive',\n",
       "       'DeliverDepart', 'CustomerNumber', 'ShipperCity', 'ShipperState',\n",
       "       'ShipperZipCode', 'OriginCity', 'OriginState', 'ConsigneeCity',\n",
       "       'ConsigneeState', 'ConsigneeCountry', 'ConsigneeZipCode',\n",
       "       'DestinationCity', 'DestinationState', 'DispatchMiles', 'CarrierType',\n",
       "       'LineHaulRevenue', 'CommodityCode', 'CommodityDesc', 'OrderWeight',\n",
       "       'ManifestStatus', 'OrderCreateDate', 'WHTRACTOR', 'WHTRAILR1',\n",
       "       'Window_length1', 'Window_length2', 'PickUpLength', 'DeliverTime',\n",
       "       'DeliverStayTime'],\n",
       "      dtype='object')"
      ]
     },
     "execution_count": 234,
     "metadata": {},
     "output_type": "execute_result"
    }
   ],
   "source": [
    "samp_data.columns"
   ]
  },
  {
   "cell_type": "markdown",
   "id": "0c261534",
   "metadata": {},
   "source": [
    "Creating pickup_midpoint"
   ]
  },
  {
   "cell_type": "code",
   "execution_count": 235,
   "id": "a9ad2f70",
   "metadata": {},
   "outputs": [],
   "source": [
    "#Adding the columns pick_up_midpoint\n",
    "from datetime import datetime\n",
    "df2['pickup_start_date_time'] = df2.apply(lambda row: datetime.strptime(row['pickup_window_start'], '%m/%d/%Y %H:%M'),axis = 1)\n",
    "df2['pickup_end_date_time'] = df2.apply(lambda row: datetime.strptime(row['pickup_window_end'], '%m/%d/%Y %H:%M'),axis = 1)\n",
    "df2['pickup_midpoint'] = df2.apply(lambda row: row['pickup_start_date_time'] + (row['pickup_end_date_time'] - row['pickup_start_date_time']) / 2,axis = 1)"
   ]
  },
  {
   "cell_type": "markdown",
   "id": "aa7d2518",
   "metadata": {},
   "source": [
    "Creating Delivery_midpoint time"
   ]
  },
  {
   "cell_type": "code",
   "execution_count": 236,
   "id": "000c0291",
   "metadata": {},
   "outputs": [],
   "source": [
    "#Adding the columns delivery midpoints\n",
    "df2['delivery_start_date_time'] = df2.apply(lambda row: datetime.strptime(row['delivery_window_start'], '%m/%d/%Y %H:%M'),axis = 1)\n",
    "df2['delivery_end_date_time'] = df2.apply(lambda row: datetime.strptime(row['delivery_window_end'], '%m/%d/%Y %H:%M'),axis = 1)\n",
    "df2['delivery_midpoint'] = df2.apply(lambda row: row['delivery_start_date_time'] + (row['delivery_end_date_time'] - row['delivery_start_date_time']) / 2,axis = 1)"
   ]
  },
  {
   "cell_type": "markdown",
   "id": "d834eae4",
   "metadata": {},
   "source": [
    "Assuming that the drivers start working at 6am"
   ]
  },
  {
   "cell_type": "code",
   "execution_count": 237,
   "id": "e4456e45",
   "metadata": {},
   "outputs": [],
   "source": [
    "mondays = []\n",
    "import datetime\n",
    "#Computing the mondays 6am of the weeks that the jobs are in\n",
    "for ts in df2['pickup_midpoint']:\n",
    "    # convert to datetime object\n",
    "    dt = ts.to_pydatetime()\n",
    "\n",
    "    # get the date and weekday\n",
    "    date = dt.date()\n",
    "    weekday = date.weekday()\n",
    "\n",
    "    # calculate timedelta to previous Monday\n",
    "    days_to_subtract = (7 + weekday) % 7\n",
    "    monday = date - datetime.timedelta(days=days_to_subtract)\n",
    "\n",
    "    # set hour and minute\n",
    "    monday = datetime.datetime.combine(monday, datetime.time(hour=6, minute=0))\n",
    "\n",
    "    # convert back to timestamp object\n",
    "    monday = pd.Timestamp(monday)\n",
    "\n",
    "    mondays.append(monday)\n",
    "\n",
    "mondays  # output: [Timestamp('2023-03-06 06:00:00'),\n",
    "\n",
    "df2['monday_6am'] = mondays"
   ]
  },
  {
   "cell_type": "code",
   "execution_count": 238,
   "id": "2377d158",
   "metadata": {},
   "outputs": [],
   "source": [
    "def time_to_arrive(mid_point):\n",
    "    time_available = max(mid_point.weekday()-1, 0)*12 + mid_point.hour-6 + mid_point.minute/60\n",
    "    return time_available\n",
    "    "
   ]
  },
  {
   "cell_type": "markdown",
   "id": "52f8a9e1",
   "metadata": {},
   "source": [
    "Computing whether the driver could arrive to the job if they begin driving at 6am"
   ]
  },
  {
   "cell_type": "code",
   "execution_count": 239,
   "id": "789295b7",
   "metadata": {},
   "outputs": [],
   "source": [
    "#computing the time difference between monday 6am and the pickup_midpoint time\n",
    "df2['driver_home_to_job_midpoint_time_limit'] = df2.apply(lambda row : time_to_arrive(row['pickup_midpoint']),axis = 1)"
   ]
  },
  {
   "cell_type": "markdown",
   "id": "4dc50c83",
   "metadata": {},
   "source": [
    "Importing drivers"
   ]
  },
  {
   "cell_type": "code",
   "execution_count": 240,
   "id": "c304d501",
   "metadata": {},
   "outputs": [],
   "source": [
    "#cross merging driver sample and job dataframe\n",
    "md = pd.read_csv('C:/Users/jiadiz/Desktop/PGT Trucking/initial model/Github/simulated_driver_sample.csv', dtype={'depot_zipcode':str})"
   ]
  },
  {
   "cell_type": "code",
   "execution_count": 241,
   "id": "99b1d0ad",
   "metadata": {},
   "outputs": [],
   "source": [
    "md['depot_zipcode'] = zip_correcter(md['depot_zipcode'])\n",
    "ds = md.sample(num_driver, random_state = random_state_param)\n",
    "ds['key']=1\n",
    "df2['key']=1"
   ]
  },
  {
   "cell_type": "markdown",
   "id": "2cf1db95",
   "metadata": {},
   "source": [
    "Creating terminals"
   ]
  },
  {
   "cell_type": "code",
   "execution_count": 242,
   "id": "d193c5e6",
   "metadata": {},
   "outputs": [],
   "source": [
    "#assigning terminals to drivers\n",
    "terminals = []\n",
    "\n",
    "for i in range (0,len(ds)):\n",
    "    terminals.append(str('T'+str(i)))\n",
    "\n",
    "ds['terminals'] = terminals"
   ]
  },
  {
   "cell_type": "code",
   "execution_count": 243,
   "id": "4bde01bd",
   "metadata": {},
   "outputs": [
    {
     "data": {
      "text/html": [
       "<div>\n",
       "<style scoped>\n",
       "    .dataframe tbody tr th:only-of-type {\n",
       "        vertical-align: middle;\n",
       "    }\n",
       "\n",
       "    .dataframe tbody tr th {\n",
       "        vertical-align: top;\n",
       "    }\n",
       "\n",
       "    .dataframe thead th {\n",
       "        text-align: right;\n",
       "    }\n",
       "</style>\n",
       "<table border=\"1\" class=\"dataframe\">\n",
       "  <thead>\n",
       "    <tr style=\"text-align: right;\">\n",
       "      <th></th>\n",
       "      <th>index</th>\n",
       "      <th>order_id</th>\n",
       "      <th>origin_zipcode</th>\n",
       "      <th>dest_zipcode</th>\n",
       "      <th>pickup_window_start</th>\n",
       "      <th>pickup_window_end</th>\n",
       "      <th>delivery_window_start</th>\n",
       "      <th>delivery_window_end</th>\n",
       "      <th>LineHaulRevenue</th>\n",
       "      <th>DispatchMiles</th>\n",
       "      <th>hour_difference</th>\n",
       "      <th>pickup_start_date_time</th>\n",
       "      <th>pickup_end_date_time</th>\n",
       "      <th>pickup_midpoint</th>\n",
       "      <th>delivery_start_date_time</th>\n",
       "      <th>delivery_end_date_time</th>\n",
       "      <th>delivery_midpoint</th>\n",
       "      <th>monday_6am</th>\n",
       "      <th>driver_home_to_job_midpoint_time_limit</th>\n",
       "      <th>key</th>\n",
       "    </tr>\n",
       "  </thead>\n",
       "  <tbody>\n",
       "  </tbody>\n",
       "</table>\n",
       "</div>"
      ],
      "text/plain": [
       "Empty DataFrame\n",
       "Columns: [index, order_id, origin_zipcode, dest_zipcode, pickup_window_start, pickup_window_end, delivery_window_start, delivery_window_end, LineHaulRevenue, DispatchMiles, hour_difference, pickup_start_date_time, pickup_end_date_time, pickup_midpoint, delivery_start_date_time, delivery_end_date_time, delivery_midpoint, monday_6am, driver_home_to_job_midpoint_time_limit, key]\n",
       "Index: []"
      ]
     },
     "execution_count": 243,
     "metadata": {},
     "output_type": "execute_result"
    }
   ],
   "source": [
    "df2[df2['order_id'] == 3786037]"
   ]
  },
  {
   "cell_type": "markdown",
   "id": "4fac2e61",
   "metadata": {},
   "source": [
    "Merging drivers and orders to compute all driver-to-order possibilities"
   ]
  },
  {
   "cell_type": "code",
   "execution_count": 244,
   "id": "ba2d8fb7",
   "metadata": {},
   "outputs": [],
   "source": [
    "big_frame = pd.merge(ds,df2, on = 'key')"
   ]
  },
  {
   "cell_type": "code",
   "execution_count": 245,
   "id": "b72f8fc8",
   "metadata": {},
   "outputs": [],
   "source": [
    "zips = pd.read_csv('uszips.csv', dtype={'zip':str})\n",
    "zips['zip'] = zip_correcter(zips['zip'])\n",
    "zips['zip'] = zips['zip'].astype(str)"
   ]
  },
  {
   "cell_type": "markdown",
   "id": "68c37b38",
   "metadata": {},
   "source": [
    "Examine how many driver zip codes are not included in the zip code profile"
   ]
  },
  {
   "cell_type": "code",
   "execution_count": 246,
   "id": "e7912aac",
   "metadata": {},
   "outputs": [
    {
     "data": {
      "text/plain": [
       "0"
      ]
     },
     "execution_count": 246,
     "metadata": {},
     "output_type": "execute_result"
    }
   ],
   "source": [
    "len(zips['zip'][zips['zip'].isin(big_frame['depot_zipcode'])]) - len(big_frame['depot_zipcode'].unique())"
   ]
  },
  {
   "cell_type": "code",
   "execution_count": 247,
   "id": "beba0dbd",
   "metadata": {},
   "outputs": [],
   "source": [
    "big_frame['origin_zipcode'] = big_frame['origin_zipcode'].astype(str)\n",
    "big_frame['dest_zipcode'] = big_frame['dest_zipcode'].astype(str)"
   ]
  },
  {
   "cell_type": "markdown",
   "id": "a3a1b52d",
   "metadata": {},
   "source": [
    "Examine how many order zip codes are not included in the zip code profile"
   ]
  },
  {
   "cell_type": "code",
   "execution_count": 248,
   "id": "b3b9383d",
   "metadata": {},
   "outputs": [
    {
     "data": {
      "text/plain": [
       "0"
      ]
     },
     "execution_count": 248,
     "metadata": {},
     "output_type": "execute_result"
    }
   ],
   "source": [
    "#zips['zip'][zips['zip'].isin(big_frame['origin_zipcode'])]\n",
    "len(zips['zip'][zips['zip'].isin(big_frame['origin_zipcode'])]) - len(big_frame['origin_zipcode'].unique())"
   ]
  },
  {
   "cell_type": "code",
   "execution_count": 249,
   "id": "b8b47ae8",
   "metadata": {},
   "outputs": [
    {
     "data": {
      "text/plain": [
       "0"
      ]
     },
     "execution_count": 249,
     "metadata": {},
     "output_type": "execute_result"
    }
   ],
   "source": [
    "len(zips['zip'][zips['zip'].isin(big_frame['dest_zipcode'])]) - len(big_frame['dest_zipcode'].unique())"
   ]
  },
  {
   "cell_type": "code",
   "execution_count": 250,
   "id": "554f437e",
   "metadata": {},
   "outputs": [
    {
     "data": {
      "text/plain": [
       "array([], dtype=object)"
      ]
     },
     "execution_count": 250,
     "metadata": {},
     "output_type": "execute_result"
    }
   ],
   "source": [
    "big_frame['dest_zipcode'][~big_frame['dest_zipcode'].isin(zips['zip'])].unique()"
   ]
  },
  {
   "cell_type": "code",
   "execution_count": 251,
   "id": "ced569a5",
   "metadata": {},
   "outputs": [],
   "source": [
    "zips.columns = ['zip','depot_lat','depot_lng']\n",
    "bigger_frame = pd.merge(zips,big_frame, left_on = 'zip', right_on = 'depot_zipcode')\n",
    "zips.columns = ['zip','origin_lat','origin_lng']\n",
    "bigger_bigger_frame = pd.merge(zips,bigger_frame, left_on = 'zip', right_on = 'origin_zipcode')\n",
    "zips.columns = ['zip','dest_lat','dest_lng']\n",
    "biggest_frame = pd.merge(zips, bigger_bigger_frame, left_on = 'zip', right_on = 'dest_zipcode')"
   ]
  },
  {
   "cell_type": "markdown",
   "id": "ee2068a0",
   "metadata": {},
   "source": [
    "Computing driver to job distance"
   ]
  },
  {
   "cell_type": "code",
   "execution_count": 252,
   "id": "c01eabf1",
   "metadata": {},
   "outputs": [],
   "source": [
    "biggest_frame['driver_to_job_distance'] = biggest_frame.apply(lambda row: haversine_distance(row['depot_lng'],row['depot_lat'],row['origin_lng'],row['origin_lat']),axis = 1)"
   ]
  },
  {
   "cell_type": "code",
   "execution_count": 253,
   "id": "a6123f57",
   "metadata": {},
   "outputs": [],
   "source": [
    "distance_verification_sample = biggest_frame.sample(300)"
   ]
  },
  {
   "cell_type": "markdown",
   "id": "acbb4d5d",
   "metadata": {},
   "source": [
    "Examining the validity of haversine distance. The examination costs time, so let the codes be commented out if not examining. "
   ]
  },
  {
   "cell_type": "code",
   "execution_count": 254,
   "id": "c35f8d3a",
   "metadata": {},
   "outputs": [],
   "source": [
    "import seaborn as sns"
   ]
  },
  {
   "cell_type": "code",
   "execution_count": 255,
   "id": "49ffa747",
   "metadata": {},
   "outputs": [],
   "source": [
    "biggest_frame['haversine_distance'] = biggest_frame.apply(lambda row: haversine_distance(row['origin_lng'],row['origin_lat'],row['dest_lng'],row['dest_lat']),axis=1)"
   ]
  },
  {
   "cell_type": "code",
   "execution_count": 256,
   "id": "1e38ba9d",
   "metadata": {},
   "outputs": [
    {
     "data": {
      "text/plain": [
       "Index(['zip', 'dest_lat', 'dest_lng', 'zip_x', 'origin_lat', 'origin_lng',\n",
       "       'zip_y', 'depot_lat', 'depot_lng', 'driver_id', 'depot_zipcode',\n",
       "       'radius_origins', 'key', 'terminals', 'index', 'order_id',\n",
       "       'origin_zipcode', 'dest_zipcode', 'pickup_window_start',\n",
       "       'pickup_window_end', 'delivery_window_start', 'delivery_window_end',\n",
       "       'LineHaulRevenue', 'DispatchMiles', 'hour_difference',\n",
       "       'pickup_start_date_time', 'pickup_end_date_time', 'pickup_midpoint',\n",
       "       'delivery_start_date_time', 'delivery_end_date_time',\n",
       "       'delivery_midpoint', 'monday_6am',\n",
       "       'driver_home_to_job_midpoint_time_limit', 'driver_to_job_distance',\n",
       "       'haversine_distance'],\n",
       "      dtype='object')"
      ]
     },
     "execution_count": 256,
     "metadata": {},
     "output_type": "execute_result"
    }
   ],
   "source": [
    "biggest_frame.columns"
   ]
  },
  {
   "cell_type": "code",
   "execution_count": 257,
   "id": "5be370a6",
   "metadata": {},
   "outputs": [],
   "source": [
    "exam = pd.DataFrame((biggest_frame['haversine_distance'].drop_duplicates()-biggest_frame['DispatchMiles'].drop_duplicates())/biggest_frame['DispatchMiles'].drop_duplicates())"
   ]
  },
  {
   "cell_type": "code",
   "execution_count": 258,
   "id": "f4a281ae",
   "metadata": {},
   "outputs": [
    {
     "data": {
      "text/plain": [
       "0    38.306248\n",
       "dtype: float64"
      ]
     },
     "execution_count": 258,
     "metadata": {},
     "output_type": "execute_result"
    }
   ],
   "source": [
    "exam.dropna().mean()"
   ]
  },
  {
   "cell_type": "code",
   "execution_count": 259,
   "id": "5d628b13",
   "metadata": {},
   "outputs": [],
   "source": [
    "biggest_frame['driver_to_job_distance_plus'] = biggest_frame['driver_to_job_distance'] + biggest_frame['haversine_distance']"
   ]
  },
  {
   "cell_type": "code",
   "execution_count": 260,
   "id": "9fa89572",
   "metadata": {},
   "outputs": [],
   "source": [
    "biggest_frame['driver_to_job_time'] = biggest_frame['driver_to_job_distance_plus'] .apply(lambda row: my_time(row))"
   ]
  },
  {
   "cell_type": "code",
   "execution_count": 261,
   "id": "201a3f95",
   "metadata": {},
   "outputs": [],
   "source": [
    "#all the feasible 1st jobs. If a job cannot be done on the first wave of driver's after 6am on Monday, the jobs cannot be done\n",
    "first_wave = biggest_frame[biggest_frame['driver_to_job_time'] < biggest_frame['driver_home_to_job_midpoint_time_limit']]"
   ]
  },
  {
   "cell_type": "code",
   "execution_count": 262,
   "id": "e7b7b9e0",
   "metadata": {},
   "outputs": [],
   "source": [
    "first_wave = first_wave[first_wave['driver_to_job_distance']>0]\n",
    "first_wave = first_wave.reset_index()\n"
   ]
  },
  {
   "cell_type": "code",
   "execution_count": 263,
   "id": "911d014b",
   "metadata": {},
   "outputs": [],
   "source": [
    "driver_to_order = {}\n",
    "for index, row in first_wave.iterrows():\n",
    "    key = (str(row['terminals']), str(row['order_id']))\n",
    "    value = my_time(row['driver_to_job_distance_plus'])\n",
    "    driver_to_order[key] = value"
   ]
  },
  {
   "cell_type": "code",
   "execution_count": 264,
   "id": "7315be35",
   "metadata": {},
   "outputs": [],
   "source": [
    "biggest_frame['job_to_driver_distance'] = biggest_frame.apply(lambda row: haversine_distance(row['origin_lng'], row['origin_lat'], row['depot_lng'], row['depot_lat']),axis = 1)"
   ]
  },
  {
   "cell_type": "code",
   "execution_count": 265,
   "id": "a97d41f4",
   "metadata": {},
   "outputs": [],
   "source": [
    "equal_day = []\n",
    "for index, row in df2.iterrows():\n",
    "    if row['delivery_start_date_time'].day != row['delivery_end_date_time'].day:\n",
    "        equal_day.append('1')\n",
    "    else:\n",
    "        equal_day.append('0')\n"
   ]
  },
  {
   "cell_type": "code",
   "execution_count": 266,
   "id": "d557330e",
   "metadata": {},
   "outputs": [],
   "source": [
    "df2['same_day'] = equal_day"
   ]
  },
  {
   "cell_type": "code",
   "execution_count": 267,
   "id": "dd3e99ee",
   "metadata": {},
   "outputs": [
    {
     "name": "stdout",
     "output_type": "stream",
     "text": [
      "2023-02-02 20:18:00 2023-02-03 01:15:30 2023-02-03 06:13:00\n",
      "2023-02-05 22:21:00 2023-02-06 02:09:30 2023-02-06 05:58:00\n",
      "2023-02-03 23:15:00 2023-02-04 09:26:00 2023-02-04 19:37:00\n",
      "2023-02-03 21:04:00 2023-02-04 06:22:00 2023-02-04 15:40:00\n",
      "2023-02-03 23:24:00 2023-02-04 06:09:30 2023-02-04 12:55:00\n",
      "2023-02-04 23:02:00 2023-02-05 05:41:00 2023-02-05 12:20:00\n",
      "2023-02-06 20:53:00 2023-02-07 04:49:30 2023-02-07 12:46:00\n",
      "2023-02-06 18:37:00 2023-02-07 03:18:30 2023-02-07 12:00:00\n",
      "2023-02-09 19:29:00 2023-02-10 00:44:00 2023-02-10 05:59:00\n",
      "2023-02-03 21:18:00 2023-02-04 04:15:00 2023-02-04 11:12:00\n",
      "2023-02-05 23:38:00 2023-02-06 04:24:30 2023-02-06 09:11:00\n",
      "2023-02-07 07:18:00 2023-02-07 16:31:30 2023-02-08 01:45:00\n",
      "2023-02-08 23:02:00 2023-02-09 02:59:00 2023-02-09 06:56:00\n",
      "2023-02-04 18:15:00 2023-02-05 01:32:30 2023-02-05 08:50:00\n",
      "2023-02-03 23:37:00 2023-02-04 02:43:00 2023-02-04 05:49:00\n",
      "2023-02-07 15:17:00 2023-02-07 21:45:30 2023-02-08 04:14:00\n",
      "2023-02-02 23:33:00 2023-02-03 04:18:30 2023-02-03 09:04:00\n",
      "2023-02-03 17:48:00 2023-02-03 21:11:00 2023-02-04 00:34:00\n",
      "2023-02-04 16:46:00 2023-02-05 01:00:30 2023-02-05 09:15:00\n",
      "2023-02-02 21:42:00 2023-02-03 00:43:30 2023-02-03 03:45:00\n",
      "2023-02-05 22:12:00 2023-02-06 02:32:30 2023-02-06 06:53:00\n",
      "2023-02-03 00:43:00 2023-02-02 20:23:00 2023-02-02 16:03:00\n",
      "2023-02-05 21:58:00 2023-02-06 05:47:30 2023-02-06 13:37:00\n",
      "2023-02-05 17:05:00 2023-02-06 03:09:00 2023-02-06 13:13:00\n",
      "2023-02-03 17:30:00 2023-02-03 23:05:30 2023-02-04 04:41:00\n",
      "2023-02-07 10:14:00 2023-02-07 18:04:30 2023-02-08 01:55:00\n",
      "2023-02-02 14:55:00 2023-02-02 20:24:30 2023-02-03 01:54:00\n",
      "2023-02-04 00:27:00 2023-02-04 13:24:00 2023-02-05 02:21:00\n",
      "2023-02-01 22:49:00 2023-02-02 00:50:00 2023-02-02 02:51:00\n",
      "2023-02-05 19:47:00 2023-02-05 23:56:00 2023-02-06 04:05:00\n",
      "2023-02-02 21:52:00 2023-02-03 03:25:30 2023-02-03 08:59:00\n",
      "2023-02-02 22:29:00 2023-02-03 08:10:30 2023-02-03 17:52:00\n",
      "2023-02-08 07:56:00 2023-02-08 16:00:30 2023-02-09 00:05:00\n",
      "2023-02-03 14:18:00 2023-02-04 01:24:00 2023-02-04 12:30:00\n",
      "2023-02-03 20:11:00 2023-02-04 01:24:00 2023-02-04 06:37:00\n",
      "2023-02-07 18:32:00 2023-02-07 23:16:00 2023-02-08 04:00:00\n",
      "2023-02-06 18:07:00 2023-02-06 23:24:00 2023-02-07 04:41:00\n",
      "2023-02-04 12:59:00 2023-02-04 19:18:00 2023-02-05 01:37:00\n",
      "2023-02-06 10:20:00 2023-02-06 18:44:00 2023-02-07 03:08:00\n",
      "2023-02-05 15:03:00 2023-02-05 21:21:30 2023-02-06 03:40:00\n",
      "2023-02-06 08:33:00 2023-02-07 00:39:30 2023-02-07 16:46:00\n",
      "2023-02-07 15:56:00 2023-02-08 01:59:30 2023-02-08 12:03:00\n",
      "2023-02-03 22:15:00 2023-02-04 05:13:00 2023-02-04 12:11:00\n"
     ]
    }
   ],
   "source": [
    "for index, row in df2[df2['same_day']=='1'].iterrows():\n",
    "    print(row['delivery_start_date_time'], row['delivery_start_date_time'] + (row['delivery_end_date_time'] - row['delivery_start_date_time']) /2, row['delivery_end_date_time'])"
   ]
  },
  {
   "cell_type": "code",
   "execution_count": 268,
   "id": "4f9cc9d4",
   "metadata": {},
   "outputs": [],
   "source": [
    "df2['delivery_midpoint'] = df2['delivery_start_date_time'] + (df2['delivery_end_date_time'] - df2['delivery_start_date_time']) /2"
   ]
  },
  {
   "cell_type": "code",
   "execution_count": 269,
   "id": "de14b580",
   "metadata": {},
   "outputs": [],
   "source": [
    "df2['pickup_midpoint'] = df2['pickup_start_date_time'] + (df2['pickup_end_date_time'] - df2['pickup_start_date_time']) /2"
   ]
  },
  {
   "cell_type": "code",
   "execution_count": 270,
   "id": "01acc187",
   "metadata": {},
   "outputs": [],
   "source": [
    "zips.columns = ['zip','origin_lat','origin_lng']\n",
    "df2 = pd.merge(df2, zips, right_on = 'zip', left_on = 'origin_zipcode', how = 'left')\n",
    "zips.columns = ['zip','dest_lat','dest_lng']\n",
    "df2 = pd.merge(df2, zips, right_on = 'zip', left_on = 'dest_zipcode', how = 'left')"
   ]
  },
  {
   "cell_type": "code",
   "execution_count": 271,
   "id": "733efbd6",
   "metadata": {},
   "outputs": [],
   "source": [
    "df2 = df2.drop_duplicates()"
   ]
  },
  {
   "cell_type": "code",
   "execution_count": 272,
   "id": "a3f6f6e9",
   "metadata": {},
   "outputs": [
    {
     "data": {
      "text/html": [
       "<div>\n",
       "<style scoped>\n",
       "    .dataframe tbody tr th:only-of-type {\n",
       "        vertical-align: middle;\n",
       "    }\n",
       "\n",
       "    .dataframe tbody tr th {\n",
       "        vertical-align: top;\n",
       "    }\n",
       "\n",
       "    .dataframe thead th {\n",
       "        text-align: right;\n",
       "    }\n",
       "</style>\n",
       "<table border=\"1\" class=\"dataframe\">\n",
       "  <thead>\n",
       "    <tr style=\"text-align: right;\">\n",
       "      <th></th>\n",
       "      <th>index</th>\n",
       "      <th>order_id</th>\n",
       "      <th>origin_zipcode</th>\n",
       "      <th>dest_zipcode</th>\n",
       "      <th>pickup_window_start</th>\n",
       "      <th>pickup_window_end</th>\n",
       "      <th>delivery_window_start</th>\n",
       "      <th>delivery_window_end</th>\n",
       "      <th>LineHaulRevenue</th>\n",
       "      <th>DispatchMiles</th>\n",
       "      <th>...</th>\n",
       "      <th>monday_6am</th>\n",
       "      <th>driver_home_to_job_midpoint_time_limit</th>\n",
       "      <th>key</th>\n",
       "      <th>same_day</th>\n",
       "      <th>zip_x</th>\n",
       "      <th>origin_lat</th>\n",
       "      <th>origin_lng</th>\n",
       "      <th>zip_y</th>\n",
       "      <th>dest_lat</th>\n",
       "      <th>dest_lng</th>\n",
       "    </tr>\n",
       "  </thead>\n",
       "  <tbody>\n",
       "  </tbody>\n",
       "</table>\n",
       "<p>0 rows × 27 columns</p>\n",
       "</div>"
      ],
      "text/plain": [
       "Empty DataFrame\n",
       "Columns: [index, order_id, origin_zipcode, dest_zipcode, pickup_window_start, pickup_window_end, delivery_window_start, delivery_window_end, LineHaulRevenue, DispatchMiles, hour_difference, pickup_start_date_time, pickup_end_date_time, pickup_midpoint, delivery_start_date_time, delivery_end_date_time, delivery_midpoint, monday_6am, driver_home_to_job_midpoint_time_limit, key, same_day, zip_x, origin_lat, origin_lng, zip_y, dest_lat, dest_lng]\n",
       "Index: []\n",
       "\n",
       "[0 rows x 27 columns]"
      ]
     },
     "execution_count": 272,
     "metadata": {},
     "output_type": "execute_result"
    }
   ],
   "source": [
    "df2[df2['order_id'] == 3786037]"
   ]
  },
  {
   "cell_type": "code",
   "execution_count": 273,
   "id": "c00971f1",
   "metadata": {},
   "outputs": [
    {
     "data": {
      "text/html": [
       "<div>\n",
       "<style scoped>\n",
       "    .dataframe tbody tr th:only-of-type {\n",
       "        vertical-align: middle;\n",
       "    }\n",
       "\n",
       "    .dataframe tbody tr th {\n",
       "        vertical-align: top;\n",
       "    }\n",
       "\n",
       "    .dataframe thead th {\n",
       "        text-align: right;\n",
       "    }\n",
       "</style>\n",
       "<table border=\"1\" class=\"dataframe\">\n",
       "  <thead>\n",
       "    <tr style=\"text-align: right;\">\n",
       "      <th></th>\n",
       "      <th>index</th>\n",
       "      <th>order_id</th>\n",
       "      <th>origin_zipcode</th>\n",
       "      <th>dest_zipcode</th>\n",
       "      <th>pickup_window_start</th>\n",
       "      <th>pickup_window_end</th>\n",
       "      <th>delivery_window_start</th>\n",
       "      <th>delivery_window_end</th>\n",
       "      <th>LineHaulRevenue</th>\n",
       "      <th>DispatchMiles</th>\n",
       "      <th>...</th>\n",
       "      <th>monday_6am</th>\n",
       "      <th>driver_home_to_job_midpoint_time_limit</th>\n",
       "      <th>key</th>\n",
       "      <th>same_day</th>\n",
       "      <th>zip_x</th>\n",
       "      <th>origin_lat</th>\n",
       "      <th>origin_lng</th>\n",
       "      <th>zip_y</th>\n",
       "      <th>dest_lat</th>\n",
       "      <th>dest_lng</th>\n",
       "    </tr>\n",
       "  </thead>\n",
       "  <tbody>\n",
       "  </tbody>\n",
       "</table>\n",
       "<p>0 rows × 27 columns</p>\n",
       "</div>"
      ],
      "text/plain": [
       "Empty DataFrame\n",
       "Columns: [index, order_id, origin_zipcode, dest_zipcode, pickup_window_start, pickup_window_end, delivery_window_start, delivery_window_end, LineHaulRevenue, DispatchMiles, hour_difference, pickup_start_date_time, pickup_end_date_time, pickup_midpoint, delivery_start_date_time, delivery_end_date_time, delivery_midpoint, monday_6am, driver_home_to_job_midpoint_time_limit, key, same_day, zip_x, origin_lat, origin_lng, zip_y, dest_lat, dest_lng]\n",
       "Index: []\n",
       "\n",
       "[0 rows x 27 columns]"
      ]
     },
     "execution_count": 273,
     "metadata": {},
     "output_type": "execute_result"
    }
   ],
   "source": [
    "df2[df2['order_id'] == 3786037]"
   ]
  },
  {
   "cell_type": "code",
   "execution_count": 274,
   "id": "e149f9ca",
   "metadata": {},
   "outputs": [
    {
     "data": {
      "text/plain": [
       "Index(['index_x', 'order_id_x', 'origin_zipcode_x', 'dest_zipcode_x',\n",
       "       'pickup_window_start_x', 'pickup_window_end_x',\n",
       "       'delivery_window_start_x', 'delivery_window_end_x', 'LineHaulRevenue_x',\n",
       "       'DispatchMiles_x', 'hour_difference_x', 'pickup_start_date_time_x',\n",
       "       'pickup_end_date_time_x', 'pickup_midpoint_x',\n",
       "       'delivery_start_date_time_x', 'delivery_end_date_time_x',\n",
       "       'delivery_midpoint_x', 'monday_6am_x',\n",
       "       'driver_home_to_job_midpoint_time_limit_x', 'key', 'same_day_x',\n",
       "       'zip_x_x', 'origin_lat_x', 'origin_lng_x', 'zip_y_x', 'dest_lat_x',\n",
       "       'dest_lng_x', 'index_y', 'order_id_y', 'origin_zipcode_y',\n",
       "       'dest_zipcode_y', 'pickup_window_start_y', 'pickup_window_end_y',\n",
       "       'delivery_window_start_y', 'delivery_window_end_y', 'LineHaulRevenue_y',\n",
       "       'DispatchMiles_y', 'hour_difference_y', 'pickup_start_date_time_y',\n",
       "       'pickup_end_date_time_y', 'pickup_midpoint_y',\n",
       "       'delivery_start_date_time_y', 'delivery_end_date_time_y',\n",
       "       'delivery_midpoint_y', 'monday_6am_y',\n",
       "       'driver_home_to_job_midpoint_time_limit_y', 'same_day_y', 'zip_x_y',\n",
       "       'origin_lat_y', 'origin_lng_y', 'zip_y_y', 'dest_lat_y', 'dest_lng_y'],\n",
       "      dtype='object')"
      ]
     },
     "execution_count": 274,
     "metadata": {},
     "output_type": "execute_result"
    }
   ],
   "source": [
    "df3 = pd.merge(df2, df2, on = 'key')\n",
    "df3.columns"
   ]
  },
  {
   "cell_type": "code",
   "execution_count": 275,
   "id": "e35e12d8",
   "metadata": {},
   "outputs": [],
   "source": [
    "df3['inter_job_distance'] = df3.apply(lambda row: haversine_distance(row['dest_lng_x'],row['dest_lat_x'],row['origin_lng_y'],row['origin_lat_y']), axis = 1)"
   ]
  },
  {
   "cell_type": "code",
   "execution_count": 276,
   "id": "3d5d4dd0",
   "metadata": {},
   "outputs": [],
   "source": [
    "df3 = df3[df3['inter_job_distance'] != 0]"
   ]
  },
  {
   "cell_type": "code",
   "execution_count": 277,
   "id": "5a009403",
   "metadata": {},
   "outputs": [],
   "source": [
    "# df3['inter_job_distance'].apply(lambda row: my_time(row))\n",
    "inter_job_time = []\n",
    "for index, row in df3.iterrows():\n",
    "    inter_job_time.append(my_time(row['inter_job_distance']))\n",
    "df3['inter_job_time'] = inter_job_time"
   ]
  },
  {
   "cell_type": "code",
   "execution_count": 278,
   "id": "bed9f5ee",
   "metadata": {},
   "outputs": [],
   "source": [
    "df3['inter_job_time_limit'] = (df3['pickup_midpoint_y'] - df3['delivery_midpoint_x']).astype('timedelta64[h]') "
   ]
  },
  {
   "cell_type": "code",
   "execution_count": 279,
   "id": "3b39b5ed",
   "metadata": {},
   "outputs": [],
   "source": [
    "df4 = df3[df3['inter_job_time'] < df3['inter_job_time_limit']]"
   ]
  },
  {
   "cell_type": "code",
   "execution_count": 280,
   "id": "dc198fb3",
   "metadata": {},
   "outputs": [
    {
     "data": {
      "text/html": [
       "<div>\n",
       "<style scoped>\n",
       "    .dataframe tbody tr th:only-of-type {\n",
       "        vertical-align: middle;\n",
       "    }\n",
       "\n",
       "    .dataframe tbody tr th {\n",
       "        vertical-align: top;\n",
       "    }\n",
       "\n",
       "    .dataframe thead th {\n",
       "        text-align: right;\n",
       "    }\n",
       "</style>\n",
       "<table border=\"1\" class=\"dataframe\">\n",
       "  <thead>\n",
       "    <tr style=\"text-align: right;\">\n",
       "      <th></th>\n",
       "      <th>delivery_midpoint_x</th>\n",
       "      <th>pickup_midpoint_y</th>\n",
       "      <th>inter_job_time_limit</th>\n",
       "    </tr>\n",
       "  </thead>\n",
       "  <tbody>\n",
       "    <tr>\n",
       "      <th>100</th>\n",
       "      <td>2023-02-03 01:15:30</td>\n",
       "      <td>2023-02-05 08:26:00</td>\n",
       "      <td>55.0</td>\n",
       "    </tr>\n",
       "    <tr>\n",
       "      <th>102</th>\n",
       "      <td>2023-02-03 01:15:30</td>\n",
       "      <td>2023-02-05 04:30:30</td>\n",
       "      <td>51.0</td>\n",
       "    </tr>\n",
       "    <tr>\n",
       "      <th>104</th>\n",
       "      <td>2023-02-03 01:15:30</td>\n",
       "      <td>2023-02-05 01:04:30</td>\n",
       "      <td>47.0</td>\n",
       "    </tr>\n",
       "    <tr>\n",
       "      <th>112</th>\n",
       "      <td>2023-02-03 01:15:30</td>\n",
       "      <td>2023-02-04 09:01:00</td>\n",
       "      <td>31.0</td>\n",
       "    </tr>\n",
       "    <tr>\n",
       "      <th>114</th>\n",
       "      <td>2023-02-03 01:15:30</td>\n",
       "      <td>2023-02-03 20:06:30</td>\n",
       "      <td>18.0</td>\n",
       "    </tr>\n",
       "    <tr>\n",
       "      <th>...</th>\n",
       "      <td>...</td>\n",
       "      <td>...</td>\n",
       "      <td>...</td>\n",
       "    </tr>\n",
       "    <tr>\n",
       "      <th>9793</th>\n",
       "      <td>2023-02-04 05:13:00</td>\n",
       "      <td>2023-02-05 04:59:30</td>\n",
       "      <td>23.0</td>\n",
       "    </tr>\n",
       "    <tr>\n",
       "      <th>9798</th>\n",
       "      <td>2023-02-04 05:13:00</td>\n",
       "      <td>2023-02-05 17:27:30</td>\n",
       "      <td>36.0</td>\n",
       "    </tr>\n",
       "    <tr>\n",
       "      <th>9799</th>\n",
       "      <td>2023-02-04 05:13:00</td>\n",
       "      <td>2023-02-05 11:06:00</td>\n",
       "      <td>29.0</td>\n",
       "    </tr>\n",
       "    <tr>\n",
       "      <th>9970</th>\n",
       "      <td>2023-02-05 19:57:00</td>\n",
       "      <td>2023-02-06 15:39:00</td>\n",
       "      <td>19.0</td>\n",
       "    </tr>\n",
       "    <tr>\n",
       "      <th>9971</th>\n",
       "      <td>2023-02-05 19:57:00</td>\n",
       "      <td>2023-02-07 04:00:00</td>\n",
       "      <td>32.0</td>\n",
       "    </tr>\n",
       "  </tbody>\n",
       "</table>\n",
       "<p>1163 rows × 3 columns</p>\n",
       "</div>"
      ],
      "text/plain": [
       "     delivery_midpoint_x   pickup_midpoint_y  inter_job_time_limit\n",
       "100  2023-02-03 01:15:30 2023-02-05 08:26:00                  55.0\n",
       "102  2023-02-03 01:15:30 2023-02-05 04:30:30                  51.0\n",
       "104  2023-02-03 01:15:30 2023-02-05 01:04:30                  47.0\n",
       "112  2023-02-03 01:15:30 2023-02-04 09:01:00                  31.0\n",
       "114  2023-02-03 01:15:30 2023-02-03 20:06:30                  18.0\n",
       "...                  ...                 ...                   ...\n",
       "9793 2023-02-04 05:13:00 2023-02-05 04:59:30                  23.0\n",
       "9798 2023-02-04 05:13:00 2023-02-05 17:27:30                  36.0\n",
       "9799 2023-02-04 05:13:00 2023-02-05 11:06:00                  29.0\n",
       "9970 2023-02-05 19:57:00 2023-02-06 15:39:00                  19.0\n",
       "9971 2023-02-05 19:57:00 2023-02-07 04:00:00                  32.0\n",
       "\n",
       "[1163 rows x 3 columns]"
      ]
     },
     "execution_count": 280,
     "metadata": {},
     "output_type": "execute_result"
    }
   ],
   "source": [
    "df4[['delivery_midpoint_x','pickup_midpoint_y','inter_job_time_limit']]"
   ]
  },
  {
   "cell_type": "markdown",
   "id": "99188aeb",
   "metadata": {},
   "source": [
    " ## Creating arcs"
   ]
  },
  {
   "cell_type": "code",
   "execution_count": 281,
   "id": "9986896b",
   "metadata": {},
   "outputs": [],
   "source": [
    "import pickle"
   ]
  },
  {
   "cell_type": "markdown",
   "id": "901f51ff",
   "metadata": {},
   "source": [
    "Purple arcs"
   ]
  },
  {
   "cell_type": "code",
   "execution_count": 284,
   "id": "724853dc",
   "metadata": {},
   "outputs": [],
   "source": [
    "# first_wave = first_wave.reset_index()"
   ]
  },
  {
   "cell_type": "code",
   "execution_count": 285,
   "id": "b6c3eea1",
   "metadata": {},
   "outputs": [],
   "source": [
    "purple_out_arcs = {}\n",
    "for index, row in first_wave.iterrows():\n",
    "    key = (str(row['terminals']), str(row['order_id']))\n",
    "    value = my_time(row['driver_to_job_distance_plus'])\n",
    "    purple_out_arcs[key] = value"
   ]
  },
  {
   "cell_type": "code",
   "execution_count": 286,
   "id": "1a14dcb9",
   "metadata": {},
   "outputs": [],
   "source": [
    "purple_out_flow_arcs = {}\n",
    "for index, row in first_wave.iterrows():\n",
    "    key = (str(row['driver_id']),str(row['terminals']), str(row['order_id']))\n",
    "    value = my_time(row['driver_to_job_distance_plus'])\n",
    "    purple_out_flow_arcs[key] = value"
   ]
  },
  {
   "cell_type": "code",
   "execution_count": 287,
   "id": "ca3d1c9c",
   "metadata": {},
   "outputs": [],
   "source": [
    "purple_in_arcs = {}\n",
    "\n",
    "for i in range(0,len(first_wave)):\n",
    "    purple_in_arcs[(str(str(first_wave['order_id'][i])),first_wave['terminals'][i])] = my_time(first_wave[\"driver_to_job_distance\"][i])\n",
    "    "
   ]
  },
  {
   "cell_type": "code",
   "execution_count": 288,
   "id": "0d8f7b25",
   "metadata": {},
   "outputs": [],
   "source": [
    "purple_in_flow_arcs = {}\n",
    "\n",
    "for index, row in first_wave.iterrows():\n",
    "    key = (str(row['driver_id']), str(row['order_id']), str(row['terminals']))\n",
    "    value = my_time(row[\"driver_to_job_distance\"])\n",
    "    purple_in_flow_arcs[key] = value\n",
    "\n"
   ]
  },
  {
   "cell_type": "markdown",
   "id": "d15c4b3a",
   "metadata": {},
   "source": [
    "## Output arc segments"
   ]
  },
  {
   "cell_type": "markdown",
   "id": "13258994",
   "metadata": {},
   "source": [
    "purple arcs"
   ]
  },
  {
   "cell_type": "code",
   "execution_count": 289,
   "id": "61911b25",
   "metadata": {},
   "outputs": [],
   "source": [
    "# with open('purple_in_arcs.pkl', 'wb') as f:\n",
    "#     pickle.dump(purple_in_arcs, f)\n",
    "# with open('purple_in_flow_arcs.pkl', 'wb') as f:\n",
    "#     pickle.dump(purple_in_flow_arcs, f)"
   ]
  },
  {
   "cell_type": "code",
   "execution_count": 290,
   "id": "000f9864",
   "metadata": {},
   "outputs": [],
   "source": [
    "# with open('purple_out_arcs.pkl', 'wb') as f:\n",
    "#     pickle.dump(purple_out_arcs, f)\n",
    "# with open('purple_out_flow_arcs.pkl', 'wb') as f:\n",
    "#     pickle.dump(purple_out_flow_arcs, f)"
   ]
  },
  {
   "cell_type": "markdown",
   "id": "e2a693ae",
   "metadata": {},
   "source": [
    "green arcs"
   ]
  },
  {
   "cell_type": "code",
   "execution_count": 291,
   "id": "048e3bee",
   "metadata": {},
   "outputs": [],
   "source": [
    "df4 = df4.reset_index()"
   ]
  },
  {
   "cell_type": "code",
   "execution_count": 292,
   "id": "0e05257d",
   "metadata": {
    "scrolled": true
   },
   "outputs": [],
   "source": [
    "df4['second_job_distance'] = df4.apply(lambda row: haversine_distance(row['dest_lng_y'], row['dest_lat_y'], row['origin_lng_y'], row['origin_lat_y']),axis = 1)\n",
    "df5 = df4[df4['second_job_distance'] > 0]\n",
    "df5['second_job_time'] = df5['second_job_distance'].apply(lambda row: my_time(row))"
   ]
  },
  {
   "cell_type": "code",
   "execution_count": 293,
   "id": "bb70349d",
   "metadata": {},
   "outputs": [],
   "source": [
    "df5['green_arc_time'] = df5['second_job_time']+df5['inter_job_time']"
   ]
  },
  {
   "cell_type": "code",
   "execution_count": 294,
   "id": "423fb330",
   "metadata": {},
   "outputs": [],
   "source": [
    "df5 = df5.reset_index()\n",
    "green_arcs = {}\n",
    "\n",
    "for i in range(0,len(df5)):\n",
    "    green_arcs[str(df5['order_id_x'][i]),str(df5[\"order_id_y\"][i])] = df5[\"green_arc_time\"][i]"
   ]
  },
  {
   "cell_type": "code",
   "execution_count": 295,
   "id": "c3805f8b",
   "metadata": {},
   "outputs": [],
   "source": [
    "df6 = df5[['order_id_x','order_id_y','green_arc_time']]\n",
    "df7 = first_wave[['driver_id','order_id']]"
   ]
  },
  {
   "cell_type": "code",
   "execution_count": 296,
   "id": "dc25f0de",
   "metadata": {},
   "outputs": [],
   "source": [
    "df8 = pd.merge(df6,df7,left_on = 'order_id_x', right_on = 'order_id')"
   ]
  },
  {
   "cell_type": "code",
   "execution_count": 297,
   "id": "f9980e75",
   "metadata": {},
   "outputs": [],
   "source": [
    "df8 = df8.reset_index()\n",
    "green_flow_arcs = {}\n",
    "\n",
    "for i in range(0,len(df8 )):\n",
    "    green_flow_arcs[str(df8['driver_id'][i]), str(df8['order_id_x'][i]),str(df8[\"order_id_y\"][i])] = df8[\"green_arc_time\"][i]"
   ]
  },
  {
   "cell_type": "code",
   "execution_count": 298,
   "id": "c1d97365",
   "metadata": {},
   "outputs": [
    {
     "data": {
      "text/plain": [
       "7139"
      ]
     },
     "execution_count": 298,
     "metadata": {},
     "output_type": "execute_result"
    }
   ],
   "source": [
    "len(green_flow_arcs)"
   ]
  },
  {
   "cell_type": "code",
   "execution_count": 299,
   "id": "75e43459",
   "metadata": {},
   "outputs": [],
   "source": [
    "# with open('green_flow_arcs.pkl', 'wb') as f:\n",
    "#     pickle.dump(green_flow_arcs, f)"
   ]
  },
  {
   "cell_type": "code",
   "execution_count": 300,
   "id": "831f8a70",
   "metadata": {},
   "outputs": [],
   "source": [
    "# with open('green_arcs.pkl', 'wb') as f:\n",
    "#     pickle.dump(green_arcs, f)"
   ]
  },
  {
   "cell_type": "markdown",
   "id": "2eb2dd9c",
   "metadata": {},
   "source": [
    "terminals, drivers, and orders"
   ]
  },
  {
   "cell_type": "code",
   "execution_count": 301,
   "id": "c0b82e78",
   "metadata": {},
   "outputs": [],
   "source": [
    "# with open('terminals.pkl', 'wb') as f:\n",
    "#     pickle.dump(terminals, f)"
   ]
  },
  {
   "cell_type": "code",
   "execution_count": 302,
   "id": "59af62ab",
   "metadata": {},
   "outputs": [],
   "source": [
    "# with open('orders.pkl', 'wb') as f:\n",
    "#     pickle.dump(orders, f)"
   ]
  },
  {
   "cell_type": "code",
   "execution_count": 303,
   "id": "41bfafc3",
   "metadata": {},
   "outputs": [],
   "source": [
    "#with open('driver_id.pkl', 'wb') as f:\n",
    "#    pickle.dump(list(ds['driver_id']), f)"
   ]
  },
  {
   "cell_type": "code",
   "execution_count": 304,
   "id": "5eee491a",
   "metadata": {},
   "outputs": [
    {
     "name": "stdout",
     "output_type": "stream",
     "text": [
      "7139\n",
      "1163\n",
      "1143\n",
      "1143\n",
      "1143\n",
      "1143\n"
     ]
    }
   ],
   "source": [
    "print(len(green_flow_arcs))\n",
    "print(len(green_arcs))\n",
    "print(len(purple_out_flow_arcs))\n",
    "print(len(purple_out_arcs))\n",
    "print(len(purple_in_arcs))\n",
    "print(len(purple_in_flow_arcs))"
   ]
  },
  {
   "cell_type": "code",
   "execution_count": 305,
   "id": "f8622ffd",
   "metadata": {},
   "outputs": [
    {
     "data": {
      "text/plain": [
       "{('T17', '1372'): 13.666101517847473,\n",
       " ('T14', '1372'): 19.134258987477743,\n",
       " ('T10', '1372'): 10.65942288373369,\n",
       " ('T13', '1372'): 15.130026007889965,\n",
       " ('T16', '1372'): 12.521917349927227,\n",
       " ('T4', '1372'): 18.870512297412102,\n",
       " ('T8', '1372'): 16.253179041520248,\n",
       " ('T3', '1372'): 20.574185395353673,\n",
       " ('T6', '1372'): 20.05551978828786,\n",
       " ('T1', '1372'): 15.410534163941106,\n",
       " ('T12', '1372'): 20.027565901303934,\n",
       " ('T15', '1372'): 20.86069493000413,\n",
       " ('T11', '1372'): 21.425969230439534,\n",
       " ('T17', '9420'): 26.876256897311027,\n",
       " ('T14', '9420'): 24.427315128317204,\n",
       " ('T10', '9420'): 20.28206078770492,\n",
       " ('T13', '9420'): 18.81618814294773,\n",
       " ('T16', '9420'): 18.418180202941926,\n",
       " ('T4', '9420'): 18.515204718575706,\n",
       " ('T8', '9420'): 17.38235422496566,\n",
       " ('T3', '9420'): 21.45904912981875,\n",
       " ('T6', '9420'): 21.035237176908186,\n",
       " ('T18', '9420'): 22.366781968081412,\n",
       " ('T1', '9420'): 15.96627780724933,\n",
       " ('T12', '9420'): 21.637481188843083,\n",
       " ('T15', '9420'): 22.02720565609134,\n",
       " ('T11', '9420'): 21.711797236504662,\n",
       " ('T2', '9420'): 26.686511899657873,\n",
       " ('T10', '45'): 16.682316869992544,\n",
       " ('T13', '45'): 16.33233616090805,\n",
       " ('T17', '7994'): 42.70441648443848,\n",
       " ('T0', '7994'): 37.05385660859695,\n",
       " ('T14', '7994'): 29.396510096782897,\n",
       " ('T10', '7994'): 35.58661683349485,\n",
       " ('T13', '7994'): 31.681921897966788,\n",
       " ('T16', '7994'): 35.65240969942634,\n",
       " ('T4', '7994'): 31.977848490581408,\n",
       " ('T8', '7994'): 35.020026215205625,\n",
       " ('T3', '7994'): 36.58025151239466,\n",
       " ('T6', '7994'): 36.504138474896685,\n",
       " ('T18', '7994'): 33.873292305485855,\n",
       " ('T19', '7994'): 42.25719178492617,\n",
       " ('T1', '7994'): 32.94967471389779,\n",
       " ('T12', '7994'): 27.391410470893945,\n",
       " ('T15', '7994'): 27.10641627581671,\n",
       " ('T11', '7994'): 28.51059801425166,\n",
       " ('T2', '7994'): 24.224099690703774,\n",
       " ('T9', '7994'): 42.14099448112317,\n",
       " ('T5', '7994'): 41.19806539751552,\n",
       " ('T7', '7994'): 43.71772190090127,\n",
       " ('T0', '3310'): 42.21660581779606,\n",
       " ('T17', '1438'): 29.907854765695188,\n",
       " ('T0', '1438'): 37.34753019734172,\n",
       " ('T14', '1438'): 27.92059810788638,\n",
       " ('T10', '1438'): 24.358643224603945,\n",
       " ('T13', '1438'): 22.858364601398197,\n",
       " ('T16', '1438'): 22.053738214685605,\n",
       " ('T4', '1438'): 18.620391266434734,\n",
       " ('T8', '1438'): 18.55113330997133,\n",
       " ('T3', '1438'): 19.01029826973113,\n",
       " ('T6', '1438'): 18.70352548976711,\n",
       " ('T18', '1438'): 20.18059114242941,\n",
       " ('T19', '1438'): 30.6033140387735,\n",
       " ('T1', '1438'): 20.229408528842114,\n",
       " ('T12', '1438'): 23.832381115709005,\n",
       " ('T15', '1438'): 23.748386694874334,\n",
       " ('T11', '1438'): 22.436148890609683,\n",
       " ('T2', '1438'): 27.939509632639183,\n",
       " ('T9', '1438'): 36.117270588271175,\n",
       " ('T5', '1438'): 38.95068940244589,\n",
       " ('T7', '1438'): 39.82375325901037,\n",
       " ('T14', '1540'): 11.919973168394195,\n",
       " ('T10', '1540'): 13.653604976592147,\n",
       " ('T13', '1540'): 13.350098246540865,\n",
       " ('T16', '1540'): 16.0242807215057,\n",
       " ('T1', '1540'): 16.06719582323602,\n",
       " ('T12', '1540'): 16.302984348600305,\n",
       " ('T17', '8455'): 10.944123399774835,\n",
       " ('T0', '8455'): 20.106534360040772,\n",
       " ('T14', '8455'): 13.99948973488258,\n",
       " ('T10', '8455'): 6.533237548826459,\n",
       " ('T13', '8455'): 10.682237374072605,\n",
       " ('T16', '8455'): 9.348285572769187,\n",
       " ('T4', '8455'): 15.333167962707513,\n",
       " ('T8', '8455'): 13.190568904969096,\n",
       " ('T3', '8455'): 17.76288690606322,\n",
       " ('T6', '8455'): 17.245410288859233,\n",
       " ('T18', '8455'): 19.400747429017535,\n",
       " ('T19', '8455'): 30.09638180403809,\n",
       " ('T1', '8455'): 11.718010712028905,\n",
       " ('T12', '8455'): 15.67401225747265,\n",
       " ('T15', '8455'): 16.61427727639955,\n",
       " ('T11', '8455'): 17.47580003637789,\n",
       " ('T2', '8455'): 20.9340292676706,\n",
       " ('T9', '8455'): 35.04720425722745,\n",
       " ('T5', '8455'): 36.70827811217231,\n",
       " ('T7', '8455'): 38.26599240342298,\n",
       " ('T17', '765'): 11.411374825510363,\n",
       " ('T0', '765'): 26.699856569354118,\n",
       " ('T14', '765'): 23.605741245757358,\n",
       " ('T10', '765'): 16.906529479259618,\n",
       " ('T13', '765'): 20.99873164528741,\n",
       " ('T16', '765'): 18.595632146016737,\n",
       " ('T4', '765'): 24.804019803681072,\n",
       " ('T8', '765'): 22.02197282051651,\n",
       " ('T3', '765'): 25.895911570635086,\n",
       " ('T6', '765'): 25.38977920962791,\n",
       " ('T1', '765'): 21.49155406523018,\n",
       " ('T12', '765'): 25.65970070772233,\n",
       " ('T15', '765'): 26.535191809796117,\n",
       " ('T0', '2274'): 40.20083556443194,\n",
       " ('T14', '2274'): 34.661140147616635,\n",
       " ('T10', '2274'): 41.13936570740201,\n",
       " ('T13', '2274'): 37.28465506488326,\n",
       " ('T16', '2274'): 41.08859503598343,\n",
       " ('T4', '2274'): 36.80404612496872,\n",
       " ('T8', '2274'): 40.090162412805725,\n",
       " ('T3', '2274'): 40.85742126573497,\n",
       " ('T6', '2274'): 40.88854581651872,\n",
       " ('T18', '2274'): 37.56822704164411,\n",
       " ('T1', '2274'): 38.316050615799895,\n",
       " ('T12', '2274'): 32.93296967767204,\n",
       " ('T15', '2274'): 32.419386980068644,\n",
       " ('T11', '2274'): 33.13676324271374,\n",
       " ('T2', '2274'): 27.877333316322574,\n",
       " ('T9', '2274'): 40.97030008332948,\n",
       " ('T5', '2274'): 38.303832784590085,\n",
       " ('T7', '2274'): 41.382305408505275,\n",
       " ('T14', '8965'): 16.436164430633248,\n",
       " ('T10', '8965'): 18.66343842299388,\n",
       " ('T13', '8965'): 14.34497009376933,\n",
       " ('T16', '8965'): 18.758991519395256,\n",
       " ('T4', '8965'): 17.095118702071687,\n",
       " ('T8', '8965'): 18.93235856394905,\n",
       " ('T3', '8965'): 22.112467879104756,\n",
       " ('T6', '8965'): 21.8260027901053,\n",
       " ('T18', '8965'): 21.06492384295662,\n",
       " ('T1', '8965'): 16.185882424025042,\n",
       " ('T12', '8965'): 14.038299918455703,\n",
       " ('T15', '8965'): 15.052063057117044,\n",
       " ('T11', '8965'): 16.51843955470745,\n",
       " ('T2', '8965'): 19.427824209977743,\n",
       " ('T17', '4292'): 39.06509718222636,\n",
       " ('T0', '4292'): 38.29239906862595,\n",
       " ('T14', '4292'): 29.22967269445143,\n",
       " ('T10', '4292'): 32.09230380308404,\n",
       " ('T13', '4292'): 28.284207239952462,\n",
       " ('T16', '4292'): 31.11585010064374,\n",
       " ('T4', '4292'): 25.5048834971237,\n",
       " ('T8', '4292'): 29.119902451647743,\n",
       " ('T3', '4292'): 29.183498454877846,\n",
       " ('T6', '4292'): 29.25708877995509,\n",
       " ('T18', '4292'): 25.704605293423626,\n",
       " ('T19', '4292'): 33.77979019328308,\n",
       " ('T1', '4292'): 28.06172196059254,\n",
       " ('T12', '4292'): 24.16684386404261,\n",
       " ('T15', '4292'): 23.144176523214117,\n",
       " ('T11', '4292'): 22.024880085181255,\n",
       " ('T2', '4292'): 23.371846129385485,\n",
       " ('T9', '4292'): 34.78151506042272,\n",
       " ('T5', '4292'): 35.39639833384025,\n",
       " ('T7', '4292'): 37.26608799398804,\n",
       " ('T17', '5004'): 12.039257268048253,\n",
       " ('T0', '5004'): 22.50645271785671,\n",
       " ('T14', '5004'): 17.768438414298256,\n",
       " ('T10', '5004'): 11.096230522669634,\n",
       " ('T13', '5004'): 15.075281120105464,\n",
       " ('T16', '5004'): 13.510358550358006,\n",
       " ('T4', '5004'): 19.517605639737656,\n",
       " ('T8', '5004'): 17.23036339320049,\n",
       " ('T3', '5004'): 21.588774579074723,\n",
       " ('T6', '5004'): 21.075862749968625,\n",
       " ('T18', '5004'): 23.41105524031095,\n",
       " ('T19', '5004'): 33.798682713097584,\n",
       " ('T1', '5004'): 16.029383304697603,\n",
       " ('T12', '5004'): 19.840919015180724,\n",
       " ('T15', '5004'): 20.770605726245297,\n",
       " ('T11', '5004'): 21.64412273002114,\n",
       " ('T2', '5004'): 24.90445706133922,\n",
       " ('T17', '7997'): 10.760129217143565,\n",
       " ('T0', '7997'): 19.312855985563843,\n",
       " ('T14', '7997'): 13.658402440073127,\n",
       " ('T10', '7997'): 6.954574627353106,\n",
       " ('T13', '7997'): 10.812485628083314,\n",
       " ('T16', '7997'): 9.803572417541906,\n",
       " ('T4', '7997'): 15.64148226783597,\n",
       " ('T8', '7997'): 13.610403016554493,\n",
       " ('T3', '7997'): 18.177170163155186,\n",
       " ('T6', '7997'): 17.662825002187837,\n",
       " ('T18', '7997'): 19.742413443776375,\n",
       " ('T19', '7997'): 30.459427387876183,\n",
       " ('T1', '7997'): 12.047391877611068,\n",
       " ('T12', '7997'): 15.71407844091107,\n",
       " ('T15', '7997'): 16.680832788403343,\n",
       " ('T11', '7997'): 17.63722835288392,\n",
       " ('T2', '7997'): 20.89527582847959,\n",
       " ('T9', '7997'): 35.30200858901845,\n",
       " ('T5', '7997'): 36.85665160887309,\n",
       " ('T7', '7997'): 38.46700274218764,\n",
       " ('T17', '2939'): 13.52500102007775,\n",
       " ('T0', '2939'): 20.30098733937782,\n",
       " ('T14', '2939'): 12.487127605864158,\n",
       " ('T10', '2939'): 5.301640318557616,\n",
       " ('T13', '2939'): 8.176434613285375,\n",
       " ('T16', '2939'): 8.038485985947954,\n",
       " ('T4', '2939'): 13.130123144901894,\n",
       " ('T8', '2939'): 11.525000366087207,\n",
       " ('T3', '2939'): 16.21222202216295,\n",
       " ('T6', '2939'): 15.714841437740409,\n",
       " ('T18', '2939'): 17.39619833422411,\n",
       " ('T19', '2939'): 28.37619916860015,\n",
       " ('T1', '2939'): 9.47434122314535,\n",
       " ('T12', '2939'): 13.36238201731102,\n",
       " ('T15', '2939'): 14.296183466091643,\n",
       " ('T11', '2939'): 15.142642814648038,\n",
       " ('T2', '2939'): 18.790701692460143,\n",
       " ('T9', '2939'): 33.01184293420849,\n",
       " ('T5', '2939'): 34.593104571997834,\n",
       " ('T7', '2939'): 36.18863398367532,\n",
       " ('T9', '2005'): 39.79402709127223,\n",
       " ('T5', '2005'): 39.75973342633228,\n",
       " ('T7', '2005'): 36.175680954017366,\n",
       " ('T17', '5764'): 12.95770164436029,\n",
       " ('T0', '5764'): 18.959019790373063,\n",
       " ('T14', '5764'): 14.866404411593804,\n",
       " ('T10', '5764'): 10.411201575456236,\n",
       " ('T13', '5764'): 13.424568918160434,\n",
       " ('T16', '5764'): 13.20772747735996,\n",
       " ('T4', '5764'): 18.52119269670823,\n",
       " ('T8', '5764'): 16.832740537783234,\n",
       " ('T3', '5764'): 21.316145784830173,\n",
       " ('T6', '5764'): 20.818118896083913,\n",
       " ('T18', '5764'): 22.64307115002126,\n",
       " ('T19', '5764'): 33.3234050219357,\n",
       " ('T1', '5764'): 15.07648097163249,\n",
       " ('T12', '5764'): 17.88360475026701,\n",
       " ('T15', '5764'): 18.892191187248343,\n",
       " ('T11', '5764'): 20.079663567294997,\n",
       " ('T2', '5764'): 22.715662710732097,\n",
       " ('T17', '8808'): 15.5967822143801,\n",
       " ('T0', '8808'): 23.435913099860674,\n",
       " ('T14', '8808'): 17.186575949370845,\n",
       " ('T10', '8808'): 10.374822150290585,\n",
       " ('T13', '8808'): 14.016040633688547,\n",
       " ('T16', '8808'): 13.175947586094246,\n",
       " ('T4', '8808'): 18.68136976307596,\n",
       " ('T8', '8808'): 16.79943085366877,\n",
       " ('T3', '8808'): 21.280853535017254,\n",
       " ('T6', '8808'): 20.78236258829785,\n",
       " ('T18', '8808'): 22.71811574169419,\n",
       " ('T19', '8808'): 33.32627559810775,\n",
       " ('T1', '8808'): 15.187337349376444,\n",
       " ('T12', '8808'): 18.828824420386066,\n",
       " ('T15', '8808'): 19.757459091339996,\n",
       " ('T11', '8808'): 20.647846433876847,\n",
       " ('T2', '8808'): 23.964846061050206,\n",
       " ('T9', '8808'): 38.063486373646114,\n",
       " ('T5', '8808'): 39.62336871064713,\n",
       " ('T7', '8808'): 41.205346072577626,\n",
       " ('T13', '3877'): 39.52086480595258,\n",
       " ('T4', '3877'): 34.66015493833661,\n",
       " ('T8', '3877'): 36.8455370697845,\n",
       " ('T3', '3877'): 33.61431852871812,\n",
       " ('T6', '3877'): 34.05530216775422,\n",
       " ('T18', '3877'): 30.828124488842224,\n",
       " ('T19', '3877'): 30.019077010080036,\n",
       " ('T1', '3877'): 37.796458073881546,\n",
       " ('T12', '3877'): 37.29964236744605,\n",
       " ('T15', '3877'): 36.46665946486794,\n",
       " ('T11', '3877'): 34.50702121148696,\n",
       " ('T2', '3877'): 37.31719588065826,\n",
       " ('T9', '3877'): 34.132696425942314,\n",
       " ('T5', '3877'): 38.34243096363346,\n",
       " ('T7', '3877'): 38.30100862931802,\n",
       " ('T13', '9701'): 12.256794071957156,\n",
       " ('T1', '9701'): 12.056139419597033,\n",
       " ('T17', '6624'): 46.20737883231356,\n",
       " ('T0', '6624'): 41.51056230657977,\n",
       " ('T14', '6624'): 34.255111406479514,\n",
       " ('T10', '6624'): 39.19566645847283,\n",
       " ('T13', '6624'): 35.29653500950306,\n",
       " ('T16', '6624'): 38.60423070937032,\n",
       " ('T4', '6624'): 33.43343321246914,\n",
       " ('T8', '6624'): 36.92823373169579,\n",
       " ('T3', '6624'): 36.88808366769915,\n",
       " ('T6', '6624'): 37.004132749720284,\n",
       " ('T18', '6624'): 33.2731855397138,\n",
       " ('T19', '6624'): 38.56685652041091,\n",
       " ('T1', '6624'): 35.64806514897183,\n",
       " ('T12', '6624'): 30.791306950819656,\n",
       " ('T15', '6624'): 29.96686626528439,\n",
       " ('T11', '6624'): 29.85178844101569,\n",
       " ('T2', '6624'): 26.13170783218856,\n",
       " ('T9', '6624'): 36.27429699689033,\n",
       " ('T5', '6624'): 34.62515253456529,\n",
       " ('T7', '6624'): 37.33404330904675,\n",
       " ('T10', '9245'): 18.09942886303982,\n",
       " ('T13', '9245'): 16.02673200278473,\n",
       " ('T16', '9245'): 16.28611537364482,\n",
       " ('T4', '9245'): 14.664592134899877,\n",
       " ('T8', '9245'): 14.599033869668274,\n",
       " ('T3', '9245'): 18.22093924445759,\n",
       " ('T6', '9245'): 17.833712780408366,\n",
       " ('T18', '9245'): 18.736365165063503,\n",
       " ('T1', '9245'): 13.327273897940877,\n",
       " ('T12', '9245'): 18.176074639901557,\n",
       " ('T15', '9245'): 18.477640669197736,\n",
       " ('T11', '9245'): 18.000870909478365,\n",
       " ('T17', '6131'): 20.246108043281243,\n",
       " ('T0', '6131'): 20.439966407020815,\n",
       " ('T14', '6131'): 18.243024418869442,\n",
       " ('T10', '6131'): 17.24351953226793,\n",
       " ('T13', '6131'): 18.843623438538,\n",
       " ('T16', '6131'): 19.912545783414846,\n",
       " ('T4', '6131'): 24.108709929136904,\n",
       " ('T8', '6131'): 23.135208421000712,\n",
       " ('T3', '6131'): 27.46202310082612,\n",
       " ('T6', '6131'): 27.003132092031304,\n",
       " ('T18', '6131'): 28.219997922124364,\n",
       " ('T19', '6131'): 38.82530883484333,\n",
       " ('T1', '6131'): 21.017695826684648,\n",
       " ('T12', '6131'): 22.374421013700353,\n",
       " ('T15', '6131'): 23.398771902263324,\n",
       " ('T11', '6131'): 24.895752619658353,\n",
       " ('T2', '6131'): 26.520382102783987,\n",
       " ('T9', '6131'): 42.488940266322466,\n",
       " ('T5', '6131'): 43.124954545121255,\n",
       " ('T7', '6131'): 45.12089905313269,\n",
       " ('T19', '5464'): 41.5442830015932,\n",
       " ('T17', '7577'): 16.192234653214427,\n",
       " ('T0', '7577'): 30.642814210251036,\n",
       " ('T14', '7577'): 26.986790098027026,\n",
       " ('T10', '7577'): 20.250685349981467,\n",
       " ('T13', '7577'): 24.264352699013877,\n",
       " ('T16', '7577'): 21.958113999531182,\n",
       " ('T4', '7577'): 28.027466569448077,\n",
       " ('T8', '7577'): 25.36073824600374,\n",
       " ('T3', '7577'): 29.254707672465194,\n",
       " ('T6', '7577'): 28.755143471738755,\n",
       " ('T18', '7577'): 31.514929508583798,\n",
       " ('T19', '7577'): 41.20436665614663,\n",
       " ('T1', '7577'): 24.757886412348626,\n",
       " ('T12', '7577'): 28.85962442353685,\n",
       " ('T15', '7577'): 29.717250357097917,\n",
       " ('T11', '7577'): 30.408175996657622,\n",
       " ('T2', '7577'): 33.78339596304781,\n",
       " ('T9', '7577'): 46.7506105904137,\n",
       " ('T5', '7577'): 48.71372274298469,\n",
       " ('T7', '7577'): 50.07029791321031,\n",
       " ('T17', '4229'): 18.920465098964453,\n",
       " ('T0', '4229'): 14.80485134087008,\n",
       " ('T14', '4229'): 10.18448411337205,\n",
       " ('T10', '4229'): 13.32256291794877,\n",
       " ('T13', '4229'): 12.822986965763146,\n",
       " ('T16', '4229'): 15.700853190187908,\n",
       " ('T4', '4229'): 18.270680819572473,\n",
       " ('T8', '4229'): 18.307357972125597,\n",
       " ('T3', '4229'): 22.525982223351154,\n",
       " ('T6', '4229'): 22.11362307881769,\n",
       " ('T18', '4229'): 22.48080485486271,\n",
       " ('T19', '4229'): 33.32387493979941,\n",
       " ('T1', '4229'): 15.62691657499613,\n",
       " ('T12', '4229'): 15.289312575414487,\n",
       " ('T15', '4229'): 16.356505887243237,\n",
       " ('T11', '4229'): 18.19108951758058,\n",
       " ('T2', '4229'): 19.08274373792356,\n",
       " ('T9', '4229'): 36.17458265828293,\n",
       " ('T5', '4229'): 36.36282299883841,\n",
       " ('T7', '4229'): 38.5731900192492,\n",
       " ('T9', '3660'): 32.569584334272925,\n",
       " ('T5', '3660'): 27.01872428981062,\n",
       " ('T7', '3660'): 29.965449045177795,\n",
       " ('T17', '8013'): 18.13170795763683,\n",
       " ('T0', '8013'): 21.76110049931604,\n",
       " ('T14', '8013'): 11.720240481810519,\n",
       " ('T10', '8013'): 10.092756326153898,\n",
       " ('T13', '8013'): 5.740996760253745,\n",
       " ('T16', '8013'): 9.748373961009563,\n",
       " ('T4', '8013'): 9.566920359893295,\n",
       " ('T8', '8013'): 10.239412646153589,\n",
       " ('T3', '8013'): 14.254531424402328,\n",
       " ('T6', '8013'): 13.867687473168019,\n",
       " ('T18', '8013'): 14.138486986446267,\n",
       " ('T19', '8013'): 25.500100460491826,\n",
       " ('T1', '8013'): 7.062154319718576,\n",
       " ('T12', '8013'): 9.536205688994999,\n",
       " ('T15', '8013'): 10.345035283719014,\n",
       " ('T11', '8013'): 11.015164764030532,\n",
       " ('T2', '8013'): 15.295441595386713,\n",
       " ('T9', '8013'): 29.468814388096543,\n",
       " ('T5', '8013'): 30.922353424535245,\n",
       " ('T7', '8013'): 32.572472092792246,\n",
       " ('T13', '5593'): 38.10479886073602,\n",
       " ('T16', '5593'): 37.59451565984855,\n",
       " ('T4', '5593'): 33.12542278938841,\n",
       " ('T8', '5593'): 34.253279567772246,\n",
       " ('T3', '5593'): 30.22202974457344,\n",
       " ('T6', '5593'): 30.718754340489934,\n",
       " ('T18', '5593'): 29.13969777181814,\n",
       " ('T19', '5593'): 25.45172832223209,\n",
       " ('T1', '5593'): 35.91989900648479,\n",
       " ('T12', '5593'): 36.889923492700504,\n",
       " ('T15', '5593'): 36.200728408242,\n",
       " ('T11', '5593'): 34.18713183627777,\n",
       " ('T2', '5593'): 37.9193919439962,\n",
       " ('T9', '5593'): 33.65456807829163,\n",
       " ('T5', '5593'): 38.90434024985983,\n",
       " ('T7', '5593'): 38.22018233274957,\n",
       " ('T14', '3757'): 16.286189267427247,\n",
       " ('T17', '39'): 10.104306145447627,\n",
       " ('T0', '39'): 27.37436823984301,\n",
       " ('T14', '39'): 22.4126206705785,\n",
       " ('T10', '39'): 14.415893775154338,\n",
       " ('T13', '39'): 18.74968271937111,\n",
       " ('T16', '39'): 15.630782874685723,\n",
       " ('T4', '39'): 22.02632083058434,\n",
       " ('T8', '39'): 18.99109060671094,\n",
       " ('T3', '39'): 22.833239672959813,\n",
       " ('T6', '39'): 22.320004539868176,\n",
       " ('T18', '39'): 25.39088284545041,\n",
       " ('T19', '39'): 35.05471603112043,\n",
       " ('T1', '39'): 18.75991548357887,\n",
       " ('T12', '39'): 23.531567562239147,\n",
       " ('T15', '39'): 24.33532630347523,\n",
       " ('T11', '39'): 24.80059511283929,\n",
       " ('T2', '39'): 28.695880514218196,\n",
       " ('T9', '39'): 40.994002476220004,\n",
       " ('T5', '39'): 43.28332285567089,\n",
       " ('T7', '39'): 44.49864572833888,\n",
       " ('T17', '5071'): 13.296408011643843,\n",
       " ('T0', '5071'): 23.087909430359137,\n",
       " ('T14', '5071'): 18.724670508984733,\n",
       " ('T10', '5071'): 12.549353426795722,\n",
       " ('T13', '5071'): 16.33913594824908,\n",
       " ('T16', '5071'): 14.995027660113344,\n",
       " ('T4', '5071'): 20.858983830635676,\n",
       " ('T8', '5071'): 18.668763777251232,\n",
       " ('T3', '5071'): 23.004632740180337,\n",
       " ('T6', '5071'): 22.49691595731978,\n",
       " ('T18', '5071'): 24.757836815696358,\n",
       " ('T19', '5071'): 35.12508378902662,\n",
       " ('T1', '5071'): 17.404758197941707,\n",
       " ('T12', '5071'): 21.00760937937934,\n",
       " ('T15', '5071'): 21.94669370346796,\n",
       " ('T11', '5071'): 22.87513015313842,\n",
       " ('T2', '5071'): 25.98457644694897,\n",
       " ('T9', '5071'): 40.098125125662385,\n",
       " ('T5', '5071'): 41.68787301804369,\n",
       " ('T7', '5071'): 43.258141228153534,\n",
       " ('T7', '476'): 31.159917798712698,\n",
       " ('T17', '9556'): 34.603838303984325,\n",
       " ('T0', '9556'): 33.54587102278084,\n",
       " ('T14', '9556'): 24.305355776921058,\n",
       " ('T10', '9556'): 27.452998127079955,\n",
       " ('T13', '9556'): 23.5071454622629,\n",
       " ('T16', '9556'): 26.570235503027902,\n",
       " ('T4', '9556'): 21.041614901001594,\n",
       " ('T8', '9556'): 24.713453519091132,\n",
       " ('T3', '9556'): 25.096694543294152,\n",
       " ('T6', '9556'): 25.135230840438407,\n",
       " ('T18', '9556'): 21.721014252565077,\n",
       " ('T19', '9556'): 30.310913209267273,\n",
       " ('T1', '9556'): 23.451772664969926,\n",
       " ('T12', '9556'): 19.15973339792838,\n",
       " ('T15', '9556'): 18.108398723131838,\n",
       " ('T11', '9556'): 17.238838887854268,\n",
       " ('T2', '9556'): 18.581327732166123,\n",
       " ('T9', '9556'): 31.393300493107684,\n",
       " ('T5', '9556'): 31.905167378482258,\n",
       " ('T7', '9556'): 33.859137639592106,\n",
       " ('T14', '9067'): 27.33761603786959,\n",
       " ('T13', '9067'): 30.109923123477834,\n",
       " ('T4', '9067'): 30.118390609449968,\n",
       " ('T18', '9067'): 31.493598622149243,\n",
       " ('T1', '9067'): 31.34194553764502,\n",
       " ('T12', '9067'): 25.753536248095973,\n",
       " ('T15', '9067'): 25.354353079520507,\n",
       " ('T11', '9067'): 26.43962962724009,\n",
       " ('T2', '9067'): 20.91083870453055,\n",
       " ('T17', '3925'): 20.57953111986446,\n",
       " ('T14', '3925'): 16.098468384919727,\n",
       " ('T10', '3925'): 13.785765561025968,\n",
       " ('T13', '3925'): 11.09613979672149,\n",
       " ('T16', '3925'): 11.791991733113864,\n",
       " ('T4', '3925'): 5.533784954704586,\n",
       " ('T8', '3925'): 8.82095730353426,\n",
       " ('T3', '3925'): 10.486902321132881,\n",
       " ('T6', '3925'): 10.242363495571661,\n",
       " ('T18', '3925'): 9.91069187679216,\n",
       " ('T19', '3925'): 21.6032392878883,\n",
       " ('T1', '3925'): 8.746228502028096,\n",
       " ('T12', '3925'): 11.40912027831007,\n",
       " ('T15', '3925'): 11.318068725582622,\n",
       " ('T11', '3925'): 10.020598331254343,\n",
       " ('T2', '3925'): 15.970637721482476,\n",
       " ('T17', '8792'): 25.416735814729265,\n",
       " ('T0', '8792'): 23.07753692319279,\n",
       " ('T14', '8792'): 12.71412372734357,\n",
       " ('T10', '8792'): 17.779965230347468,\n",
       " ('T13', '8792'): 13.573369347666157,\n",
       " ('T16', '8792'): 18.12715318796255,\n",
       " ('T4', '8792'): 15.993764497462495,\n",
       " ('T8', '8792'): 18.276573344712173,\n",
       " ('T3', '8792'): 21.18436593704325,\n",
       " ('T6', '8792'): 20.94120487630788,\n",
       " ('T18', '8792'): 19.60554136717799,\n",
       " ('T19', '8792'): 30.14295511703854,\n",
       " ('T1', '8792'): 15.57091971503934,\n",
       " ('T12', '8792'): 10.961929275971572,\n",
       " ('T15', '8792'): 11.998906053543662,\n",
       " ('T11', '8792'): 14.153300843167894,\n",
       " ('T2', '8792'): 15.365228501968078,\n",
       " ('T9', '8792'): 32.236452086343924,\n",
       " ('T5', '8792'): 32.50850255982349,\n",
       " ('T7', '8792'): 34.65032147025694,\n",
       " ('T17', '2013'): 17.502763380148686,\n",
       " ('T0', '2013'): 30.055071169177054,\n",
       " ('T14', '2013'): 24.124952013993006,\n",
       " ('T10', '2013'): 15.969514552079824,\n",
       " ('T13', '2013'): 20.252293489206643,\n",
       " ('T16', '2013'): 17.507490779274168,\n",
       " ('T4', '2013'): 23.729224521949654,\n",
       " ('T8', '2013'): 21.046041870598703,\n",
       " ('T3', '2013'): 25.1587251088699,\n",
       " ('T6', '2013'): 24.650726575813746,\n",
       " ('T18', '2013'): 27.287402078735333,\n",
       " ('T19', '2013'): 37.26375406173461,\n",
       " ('T1', '2013'): 20.40990782201683,\n",
       " ('T12', '2013'): 24.99333727881301,\n",
       " ('T15', '2013'): 25.79499750219931,\n",
       " ('T11', '2013'): 26.30656105075965,\n",
       " ('T2', '2013'): 30.126111030046385,\n",
       " ('T9', '2013'): 42.714651771292345,\n",
       " ('T5', '2013'): 44.77262533574623,\n",
       " ('T7', '2013'): 46.08390999515902,\n",
       " ('T0', '3850'): 22.545342403298008,\n",
       " ('T14', '3850'): 12.058179735924044,\n",
       " ('T10', '3850'): 19.67556460359851,\n",
       " ('T13', '3850'): 16.430688025219666,\n",
       " ('T16', '3850'): 20.815812589410218,\n",
       " ('T4', '3850'): 20.410823184609818,\n",
       " ('T8', '3850'): 21.90690988431314,\n",
       " ('T3', '3850'): 25.30920101766422,\n",
       " ('T6', '3850'): 25.010075719904982,\n",
       " ('T18', '3850'): 24.203380369470324,\n",
       " ('T1', '3850'): 19.08497861020725,\n",
       " ('T12', '3850'): 16.0630792543003,\n",
       " ('T15', '3850'): 17.04607186525353,\n",
       " ('T11', '3850'): 19.1090306312249,\n",
       " ('T2', '3850'): 19.428165088876536,\n",
       " ('T17', '8294'): 19.2934663891327,\n",
       " ('T0', '8294'): 24.82422664789674,\n",
       " ('T14', '8294'): 14.976316912335319,\n",
       " ('T10', '8294'): 11.874445612772796,\n",
       " ('T13', '8294'): 9.150307162086337,\n",
       " ('T16', '8294'): 10.407786958718617,\n",
       " ('T4', '8294'): 9.29659580883092,\n",
       " ('T8', '8294'): 9.579282796321072,\n",
       " ('T3', '8294'): 13.523414552532511,\n",
       " ('T6', '8294'): 13.124807280308158,\n",
       " ('T18', '8294'): 13.80228426889936,\n",
       " ('T19', '8294'): 25.14125784440174,\n",
       " ('T1', '8294'): 6.806536822369315,\n",
       " ('T12', '8294'): 11.81521386836739,\n",
       " ('T15', '8294'): 12.279779230748948,\n",
       " ('T11', '8294'): 12.139393451911358,\n",
       " ('T2', '8294'): 17.26063348809057,\n",
       " ('T9', '8294'): 29.69315035680975,\n",
       " ('T5', '8294'): 31.62991622077693,\n",
       " ('T7', '8294'): 33.037297140689205,\n",
       " ('T17', '4711'): 16.054216126439936,\n",
       " ('T0', '4711'): 24.586637637169286,\n",
       " ('T14', '4711'): 17.168306473910942,\n",
       " ('T10', '4711'): 8.190251805500994,\n",
       " ('T13', '4711'): 12.699271538713528,\n",
       " ('T16', '4711'): 11.095893873259707,\n",
       " ('T4', '4711'): 16.842029153277032,\n",
       " ('T8', '4711'): 14.766049545311246,\n",
       " ('T3', '4711'): 19.31350942334959,\n",
       " ('T6', '4711'): 18.8096146752443,\n",
       " ('T18', '4711'): 20.84152920727278,\n",
       " ('T19', '4711'): 31.48461489630946,\n",
       " ('T1', '4711'): 13.27652687505379,\n",
       " ('T12', '4711'): 17.69254055537444,\n",
       " ('T15', '4711'): 18.541423829282202,\n",
       " ('T11', '4711'): 19.174788717252763,\n",
       " ('T2', '4711'): 23.022125353330775,\n",
       " ('T19', '7616'): 30.11848951880072,\n",
       " ('T9', '7616'): 30.186081107935287,\n",
       " ('T7', '7616'): 33.98303158269766,\n",
       " ('T17', '5271'): 22.123506952749334,\n",
       " ('T0', '5271'): 25.078023464213427,\n",
       " ('T14', '5271'): 14.82263004265973,\n",
       " ('T10', '5271'): 14.62614169384925,\n",
       " ('T13', '5271'): 10.751861782026747,\n",
       " ('T16', '5271'): 13.49998846580742,\n",
       " ('T4', '5271'): 8.927483239564713,\n",
       " ('T8', '5271'): 12.006712129285694,\n",
       " ('T3', '5271'): 14.459077784952528,\n",
       " ('T6', '5271'): 14.222108032851999,\n",
       " ('T18', '5271'): 13.160498988532812,\n",
       " ('T19', '5271'): 24.50909120196844,\n",
       " ('T1', '5271'): 10.061429979323506,\n",
       " ('T12', '5271'): 9.99184596150152,\n",
       " ('T15', '5271'): 10.130694983404792,\n",
       " ('T11', '5271'): 9.772323267909133,\n",
       " ('T2', '5271'): 15.147450282869325,\n",
       " ('T9', '5271'): 28.16617896048744,\n",
       " ('T5', '5271'): 29.73016900261202,\n",
       " ('T17', '8144'): 22.37091586127995,\n",
       " ('T0', '8144'): 26.53683470260181,\n",
       " ('T14', '8144'): 17.298993257444952,\n",
       " ('T10', '8144'): 14.55754126314256,\n",
       " ('T13', '8144'): 11.359133581824969,\n",
       " ('T16', '8144'): 14.749343185367676,\n",
       " ('T4', '8144'): 16.352370576570937,\n",
       " ('T8', '8144'): 16.171509803287442,\n",
       " ('T3', '8144'): 20.34264664954915,\n",
       " ('T6', '8144'): 19.930021339326633,\n",
       " ('T18', '8144'): 20.64961447676587,\n",
       " ('T1', '8144'): 13.330536496998315,\n",
       " ('T12', '8144'): 16.345255275574722,\n",
       " ('T15', '8144'): 17.180651202456335,\n",
       " ('T11', '8144'): 17.919508491906928,\n",
       " ('T2', '8144'): 21.759030283044456,\n",
       " ('T17', '3398'): 33.53703100297476,\n",
       " ('T0', '3398'): 29.20933944878815,\n",
       " ('T14', '3398'): 20.765449466295305,\n",
       " ('T10', '3398'): 26.168775529137065,\n",
       " ('T13', '3398'): 22.035701158844414,\n",
       " ('T16', '3398'): 25.869731123288975,\n",
       " ('T4', '3398'): 21.26405841413089,\n",
       " ('T8', '3398'): 24.716348608749165,\n",
       " ('T3', '3398'): 25.8040201037127,\n",
       " ('T6', '3398'): 25.782423718579107,\n",
       " ('T18', '3398'): 22.665006049761814,\n",
       " ('T19', '3398'): 30.99116691841821,\n",
       " ('T1', '3398'): 22.86924889613844,\n",
       " ('T12', '3398'): 17.221851656457133,\n",
       " ('T15', '3398'): 16.530880910976126,\n",
       " ('T11', '3398'): 17.355088292271752,\n",
       " ('T2', '3398'): 12.791722705007071,\n",
       " ('T9', '3398'): 30.891435975172463,\n",
       " ('T5', '3398'): 30.222207790311725,\n",
       " ('T7', '3398'): 32.68919953694314,\n",
       " ('T17', '931'): 26.07826566434364,\n",
       " ('T0', '931'): 33.49145287174805,\n",
       " ('T14', '931'): 26.297977662758125,\n",
       " ('T10', '931'): 18.652475951812484,\n",
       " ('T13', '931'): 22.17017943521566,\n",
       " ('T16', '931'): 21.200904370657902,\n",
       " ('T4', '931'): 26.255612268802924,\n",
       " ('T8', '931'): 24.493568119559157,\n",
       " ('T3', '931'): 28.802980025336225,\n",
       " ('T6', '931'): 28.33055731039633,\n",
       " ('T18', '931'): 30.117864483543503,\n",
       " ('T19', '931'): 40.44304166682065,\n",
       " ('T1', '931'): 22.91433888141545,\n",
       " ('T12', '931'): 26.859460084557032,\n",
       " ('T15', '931'): 27.681482522867594,\n",
       " ('T11', '931'): 28.342318966313396,\n",
       " ('T2', '931'): 31.933871317368972,\n",
       " ('T9', '931'): 45.11697931828636,\n",
       " ('T5', '931'): 46.78969130410789,\n",
       " ('T7', '931'): 48.26200459751299,\n",
       " ('T17', '3305'): 33.348469555890716,\n",
       " ('T0', '3305'): 29.369113193194366,\n",
       " ('T14', '3305'): 19.45185440272498,\n",
       " ('T10', '3305'): 26.466635288596233,\n",
       " ('T13', '3305'): 23.526609483287977,\n",
       " ('T16', '3305'): 27.66490051420639,\n",
       " ('T4', '3305'): 27.57554862039044,\n",
       " ('T8', '3305'): 28.862867392234286,\n",
       " ('T3', '3305'): 32.257573889879616,\n",
       " ('T6', '3305'): 31.95415636481944,\n",
       " ('T18', '3305'): 31.307732844691326,\n",
       " ('T19', '3305'): 41.56092953270552,\n",
       " ('T1', '3305'): 26.134322544476134,\n",
       " ('T12', '3305'): 23.600831486930996,\n",
       " ('T15', '3305'): 24.560991350340032,\n",
       " ('T11', '3305'): 26.498623929568947,\n",
       " ('T2', '3305'): 26.959870415232125,\n",
       " ('T9', '3305'): 43.66553205905503,\n",
       " ('T5', '3305'): 43.696723734032,\n",
       " ('T7', '3305'): 45.89120249580708,\n",
       " ('T17', '8047'): 33.87379403397889,\n",
       " ('T0', '8047'): 32.63700611711026,\n",
       " ('T14', '8047'): 28.566523162482703,\n",
       " ('T10', '8047'): 29.190903085325683,\n",
       " ('T13', '8047'): 29.587892505819234,\n",
       " ('T16', '8047'): 31.530111208745833,\n",
       " ('T4', '8047'): 34.647026039786965,\n",
       " ('T8', '8047'): 34.22713039378714,\n",
       " ('T3', '8047'): 38.28111604570371,\n",
       " ('T6', '8047'): 37.86855084866152,\n",
       " ('T18', '8047'): 38.604391174565485,\n",
       " ('T1', '8047'): 31.932332850747432,\n",
       " ('T12', '8047'): 32.5445645019265,\n",
       " ('T15', '8047'): 33.52635573681464,\n",
       " ('T11', '8047'): 35.0489957472997,\n",
       " ('T2', '8047'): 36.4371169533656,\n",
       " ('T17', '9005'): 30.92730293819101,\n",
       " ('T0', '9005'): 34.068003782229326,\n",
       " ('T14', '9005'): 27.186990547305665,\n",
       " ('T10', '9005'): 24.499290528782144,\n",
       " ('T13', '9005'): 25.10290952803948,\n",
       " ('T16', '9005'): 26.680469798306856,\n",
       " ('T4', '9005'): 30.141660924757936,\n",
       " ('T8', '9005'): 29.387839432661053,\n",
       " ('T3', '9005'): 33.542074523056186,\n",
       " ('T6', '9005'): 33.113444276678656,\n",
       " ('T18', '9005'): 34.14612762726032,\n",
       " ('T19', '9005'): 44.550413263153516,\n",
       " ('T1', '9005'): 27.155913093469994,\n",
       " ('T12', '9005'): 29.15253423704902,\n",
       " ('T15', '9005'): 30.096265917939405,\n",
       " ('T11', '9005'): 31.24563618361464,\n",
       " ('T2', '9005'): 33.848580196590746,\n",
       " ('T17', '4204'): 14.61405218849081,\n",
       " ('T14', '4204'): 14.507772852302136,\n",
       " ('T10', '4204'): 7.292787131694214,\n",
       " ('T13', '4204'): 8.47792147340437,\n",
       " ('T16', '4204'): 5.415222043045366,\n",
       " ('T4', '4204'): 10.972591940395507,\n",
       " ('T8', '4204'): 8.522262330324292,\n",
       " ('T3', '4204'): 13.36997071682566,\n",
       " ('T6', '4204'): 12.84997286239379,\n",
       " ('T18', '4204'): 14.99301203420659,\n",
       " ('T1', '4204'): 7.272453869630717,\n",
       " ('T12', '4204'): 13.201775221040576,\n",
       " ('T15', '4204'): 13.874962472865658,\n",
       " ('T11', '4204'): 14.022036348190557,\n",
       " ('T2', '4204'): 18.748662954045383,\n",
       " ('T17', '6555'): 19.724833896472912,\n",
       " ('T10', '6555'): 27.09724725598373,\n",
       " ('T13', '6555'): 31.13029242980805,\n",
       " ('T16', '6555'): 28.089837405239848,\n",
       " ('T8', '6555'): 31.031045081547024,\n",
       " ('T1', '6555'): 31.078203946258412,\n",
       " ('T12', '9119'): 26.290633406927345,\n",
       " ('T15', '9119'): 25.47998195162626,\n",
       " ('T11', '9119'): 25.435191290652565,\n",
       " ('T2', '9119'): 21.328376314522608,\n",
       " ('T18', '1784'): 45.233391591525276,\n",
       " ('T19', '1784'): 39.160590872762015,\n",
       " ('T15', '1784'): 48.115459882953886,\n",
       " ('T11', '1784'): 46.72230254101143,\n",
       " ('T2', '1784'): 46.32365158825926,\n",
       " ('T9', '1784'): 30.01672875895337,\n",
       " ('T5', '1784'): 31.725339679390544,\n",
       " ('T7', '1784'): 28.196493141848045,\n",
       " ('T17', '5800'): 28.86700073026088,\n",
       " ('T0', '5800'): 32.965918083660526,\n",
       " ('T14', '5800'): 29.45883403026788,\n",
       " ('T10', '5800'): 26.260467759654688,\n",
       " ('T13', '5800'): 28.606484896881188,\n",
       " ('T16', '5800'): 28.7993397624197,\n",
       " ('T4', '5800'): 33.425691584656825,\n",
       " ('T8', '5800'): 32.05087033953764,\n",
       " ('T3', '5800'): 36.23325781036933,\n",
       " ('T6', '5800'): 35.77315170626579,\n",
       " ('T18', '5800'): 37.32546128487451,\n",
       " ('T19', '5800'): 47.54487137536003,\n",
       " ('T1', '5800'): 30.29623965122677,\n",
       " ('T12', '5800'): 32.53430860097988,\n",
       " ('T15', '5800'): 33.487793496213484,\n",
       " ('T11', '5800'): 34.68769956481866,\n",
       " ('T2', '5800'): 36.936510514635145,\n",
       " ('T17', '536'): 23.70887688460267,\n",
       " ('T10', '536'): 26.372103220200867,\n",
       " ('T13', '536'): 30.421818750453944,\n",
       " ('T16', '536'): 27.50791091136936,\n",
       " ('T8', '536'): 30.689381521025147,\n",
       " ('T1', '536'): 30.424847070205455,\n",
       " ('T19', '8810'): 37.78937490325063,\n",
       " ('T9', '8810'): 28.537923823538335,\n",
       " ('T5', '8810'): 24.33324826872225,\n",
       " ('T7', '8810'): 24.59344594001833,\n",
       " ('T17', '9102'): 21.375969816288897,\n",
       " ('T0', '9102'): 17.450658422440036,\n",
       " ('T14', '9102'): 6.821826397977302,\n",
       " ('T10', '9102'): 13.57999733479669,\n",
       " ('T13', '9102'): 9.297221457144026,\n",
       " ('T16', '9102'): 14.081182951509543,\n",
       " ('T4', '9102'): 11.794884597253875,\n",
       " ('T8', '9102'): 14.278930570846299,\n",
       " ('T3', '9102'): 17.18143022736591,\n",
       " ('T6', '9102'): 16.948446288140286,\n",
       " ('T18', '9102'): 15.351802389585178,\n",
       " ('T19', '9102'): 25.936900134623578,\n",
       " ('T1', '9102'): 11.477048137984731,\n",
       " ('T12', '9102'): 6.092686395949451,\n",
       " ('T15', '9102'): 6.982010498372639,\n",
       " ('T11', '9102'): 9.411727068788608,\n",
       " ('T2', '9102'): 9.443156595408327,\n",
       " ('T9', '9102'): 27.616874279593482,\n",
       " ('T5', '9102'): 27.56082645634593,\n",
       " ('T7', '9102'): 29.879966355254947,\n",
       " ('T17', '2229'): 23.801818917428633,\n",
       " ('T0', '2229'): 38.04057092932094,\n",
       " ('T14', '2229'): 34.777489874489035,\n",
       " ('T10', '2229'): 28.354505170151835,\n",
       " ('T13', '2229'): 32.21725963829328,\n",
       " ('T16', '2229'): 29.964685691351097,\n",
       " ('T4', '2229'): 35.84970970271393,\n",
       " ('T8', '2229'): 33.227942507571505,\n",
       " ('T3', '2229'): 36.965222863381925,\n",
       " ('T6', '2229'): 36.479928259809874,\n",
       " ('T18', '2229'): 39.21852177994148,\n",
       " ('T19', '2229'): 48.64116048403382,\n",
       " ('T1', '2229'): 32.68731369135192,\n",
       " ('T12', '2229'): 36.66657544674081,\n",
       " ('T15', '2229'): 37.502869991770005,\n",
       " ('T11', '2229'): 38.17826165946548,\n",
       " ('T2', '2229'): 41.45402176289291,\n",
       " ('T9', '2229'): 54.15552642048208,\n",
       " ('T5', '2229'): 56.10931031833649,\n",
       " ('T7', '2229'): 57.43662941111888,\n",
       " ('T14', '8431'): 29.386106809811505,\n",
       " ('T10', '8431'): 33.52741565487733,\n",
       " ('T13', '8431'): 29.67600963365897,\n",
       " ('T16', '8431'): 32.53335495947324,\n",
       " ('T4', '8431'): 26.719280635358185,\n",
       " ('T8', '8431'): 30.26656231735744,\n",
       " ('T3', '8431'): 29.197295232266274,\n",
       " ('T6', '8431'): 29.436126884970243,\n",
       " ('T18', '8431'): 25.271853189398172,\n",
       " ('T19', '8431'): 27.695116235340517,\n",
       " ('T1', '8431'): 29.505905945357096,\n",
       " ('T12', '8431'): 25.257401863635163,\n",
       " ('T15', '8431'): 24.297747748778935,\n",
       " ('T11', '8431'): 23.537587293415825,\n",
       " ('T2', '8431'): 21.1319436890985,\n",
       " ('T9', '8431'): 23.526194025824463,\n",
       " ('T5', '8431'): 21.560601770302195,\n",
       " ('T7', '8431'): 24.33903125677879,\n",
       " ('T17', '4911'): 25.77017582904242,\n",
       " ('T0', '4911'): 31.589469046143083,\n",
       " ('T14', '4911'): 27.984662486619477,\n",
       " ('T10', '4911'): 23.86104452501333,\n",
       " ('T13', '4911'): 26.671881344260452,\n",
       " ('T16', '4911'): 26.373770367256473,\n",
       " ('T4', '4911'): 31.37067184166751,\n",
       " ('T8', '4911'): 29.74108849802907,\n",
       " ('T3', '4911'): 33.940634007432806,\n",
       " ('T6', '4911'): 33.46833215617426,\n",
       " ('T18', '4911'): 35.243414220947585,\n",
       " ('T19', '4911'): 45.446144160886284,\n",
       " ('T1', '4911'): 28.156313561532528,\n",
       " ('T12', '4911'): 30.81045598499869,\n",
       " ('T15', '4911'): 31.753863890235294,\n",
       " ('T11', '4911'): 32.862984599390344,\n",
       " ('T2', '4911'): 35.35789488977377,\n",
       " ('T9', '4911'): 49.815402138240046,\n",
       " ('T5', '4911'): 51.02052091615958,\n",
       " ('T7', '4911'): 52.71873066861052,\n",
       " ('T14', '405'): 13.394411025509346,\n",
       " ('T10', '405'): 19.98996663304999,\n",
       " ('T13', '405'): 15.7745287135947,\n",
       " ('T16', '405'): 20.09835440656392,\n",
       " ('T4', '405'): 16.356411549867737,\n",
       " ('T8', '405'): 19.532381643186376,\n",
       " ('T3', '405'): 21.401356616345335,\n",
       " ('T6', '405'): 21.29348957743589,\n",
       " ('T18', '405'): 18.689091403647097,\n",
       " ('T1', '405'): 17.226398582080527,\n",
       " ('T12', '405'): 11.114753246732954,\n",
       " ('T15', '405'): 10.925033937748792,\n",
       " ('T11', '405'): 12.722360948979269,\n",
       " ('T2', '405'): 9.182876852381069,\n",
       " ('T17', '8584'): 37.7547674436501,\n",
       " ('T0', '8584'): 41.629604070095375,\n",
       " ('T14', '8584'): 32.18641036174748,\n",
       " ('T10', '8584'): 31.874184559905935,\n",
       " ('T13', '8584'): 29.100683295605585,\n",
       " ('T16', '8584'): 29.965757612504834,\n",
       " ('T4', '8584'): 24.115353690176388,\n",
       " ('T8', '8584'): 26.779705413471387,\n",
       " ('T3', '8584'): 24.243294293548228,\n",
       " ('T6', '8584'): 24.596887349987714,\n",
       " ('T18', '8584'): 20.47300632344544,\n",
       " ('T19', '8584'): 26.633515735862904,\n",
       " ('T1', '8584'): 27.428227238500885,\n",
       " ('T12', '8584'): 26.878590204401373,\n",
       " ('T15', '8584'): 26.06373807362221,\n",
       " ('T11', '8584'): 23.978616814845832,\n",
       " ('T2', '8584'): 27.6945880111052,\n",
       " ('T9', '8584'): 30.49683469939372,\n",
       " ('T5', '8584'): 33.56552573102579,\n",
       " ('T7', '8584'): 34.25233890182111,\n",
       " ('T17', '7226'): 32.11806603349217,\n",
       " ('T0', '7226'): 33.03378525082562,\n",
       " ('T14', '7226'): 23.283588081127743,\n",
       " ('T10', '7226'): 24.978681268257343,\n",
       " ('T13', '7226'): 21.13775370253672,\n",
       " ('T16', '7226'): 23.96543838355383,\n",
       " ('T4', '7226'): 18.505568782146813,\n",
       " ('T8', '7226'): 22.15179160372473,\n",
       " ('T3', '7226'): 23.168737326968728,\n",
       " ('T6', '7226'): 23.1084668380707,\n",
       " ('T18', '7226'): 20.51134519429218,\n",
       " ('T19', '7226'): 30.641121846515667,\n",
       " ('T1', '7226'): 20.802299940271322,\n",
       " ('T12', '7226'): 17.71796065588669,\n",
       " ('T15', '7226'): 16.910501282104335,\n",
       " ('T11', '7226'): 14.852703478510216,\n",
       " ('T2', '7226'): 20.591029271834014,\n",
       " ('T9', '7226'): 33.14721345260438,\n",
       " ('T5', '7226'): 34.30330203685525,\n",
       " ('T7', '7226'): 35.9948174749123,\n",
       " ('T9', '111'): 27.43012435767232,\n",
       " ('T5', '111'): 22.022035981640247,\n",
       " ('T7', '111'): 24.21258917138447,\n",
       " ('T9', '9567'): 25.240007517888035,\n",
       " ('T5', '9567'): 29.123198023742326,\n",
       " ('T7', '9567'): 26.487584170637067,\n",
       " ('T0', '9931'): 29.308360283596627,\n",
       " ('T14', '9931'): 23.107927019457943,\n",
       " ('T10', '9931'): 29.995524228284005,\n",
       " ('T13', '9931'): 26.018931484412704,\n",
       " ('T16', '9931'): 30.07219579833819,\n",
       " ('T4', '9931'): 25.990316741278235,\n",
       " ('T8', '9931'): 29.275104349722262,\n",
       " ('T3', '9931'): 30.46193690428182,\n",
       " ('T6', '9931'): 30.443956363113514,\n",
       " ('T18', '9931'): 27.297611224312277,\n",
       " ('T19', '9931'): 34.585287493690025,\n",
       " ('T1', '9931'): 27.27025258163104,\n",
       " ('T12', '9931'): 21.574973482410616,\n",
       " ('T15', '9931'): 21.15560734303605,\n",
       " ('T11', '9931'): 22.2198917851688,\n",
       " ('T2', '9931'): 16.527924058348997,\n",
       " ('T9', '9931'): 32.857278063628925,\n",
       " ('T5', '9931'): 30.748630488342673,\n",
       " ('T7', '9931'): 33.7296292044687,\n",
       " ('T17', '6329'): 30.911890240458643,\n",
       " ('T0', '6329'): 38.3354961000003,\n",
       " ('T14', '6329'): 30.725679375234712,\n",
       " ('T10', '6329'): 23.598001656004033,\n",
       " ('T13', '6329'): 26.033672590743144,\n",
       " ('T16', '6329'): 24.733277812970012,\n",
       " ('T4', '6329'): 29.606514034457334,\n",
       " ('T8', '6329'): 27.828561384990806,\n",
       " ('T3', '6329'): 32.07880329301371,\n",
       " ('T6', '6329'): 31.61589088095683,\n",
       " ('T18', '6329'): 33.37750639753805,\n",
       " ('T1', '6329'): 26.31196833093114,\n",
       " ('T12', '6329'): 30.61184109388486,\n",
       " ('T15', '6329'): 31.360558863668253,\n",
       " ('T11', '6329'): 31.85122050013902,\n",
       " ('T2', '6329'): 35.668644470017426,\n",
       " ('T17', '6439'): 35.83551403808828,\n",
       " ('T0', '6439'): 32.83484124034844,\n",
       " ('T14', '6439'): 24.071055851228525,\n",
       " ('T10', '6439'): 28.573191761414428,\n",
       " ('T13', '6439'): 24.508872807554656,\n",
       " ('T16', '6439'): 28.05598538085799,\n",
       " ('T4', '6439'): 23.13677420227542,\n",
       " ('T8', '6439'): 26.65237664832056,\n",
       " ('T3', '6439'): 27.4881055412032,\n",
       " ('T6', '6439'): 27.48758815328221,\n",
       " ('T18', '6439'): 24.295067585532685,\n",
       " ('T19', '6439'): 32.6313943885605,\n",
       " ('T1', '6439'): 25.01686360638439,\n",
       " ('T12', '6439'): 19.783763221565977,\n",
       " ('T15', '6439'): 18.90877516643315,\n",
       " ('T11', '6439'): 19.23279876195156,\n",
       " ('T2', '6439'): 17.18920321501401,\n",
       " ('T9', '6439'): 32.94991633859582,\n",
       " ('T5', '6439'): 32.72753414952086,\n",
       " ('T7', '6439'): 34.990142658066,\n",
       " ('T19', '7628'): 63.298631845437214,\n",
       " ('T17', '8170'): 37.5246800551487,\n",
       " ('T0', '8170'): 48.624796020562215,\n",
       " ('T14', '8170'): 44.985184054477514,\n",
       " ('T10', '8170'): 39.06333329752403,\n",
       " ('T13', '8170'): 42.64295855228163,\n",
       " ('T16', '8170'): 40.925342704878275,\n",
       " ('T4', '8170'): 46.44404115635741,\n",
       " ('T8', '8170'): 44.180392964126845,\n",
       " ('T3', '8170'): 47.99856400807312,\n",
       " ('T6', '8170'): 47.52844862587677,\n",
       " ('T18', '8170'): 49.88311016860828,\n",
       " ('T19', '8170'): 59.35477522866223,\n",
       " ('T1', '8170'): 43.33836846368408,\n",
       " ('T12', '8170'): 46.911402964575075,\n",
       " ('T15', '8170'): 47.74491816727863,\n",
       " ('T11', '8170'): 48.49641644634034,\n",
       " ('T2', '8170'): 51.52710958116607,\n",
       " ('T9', '8170'): 64.37532817316895,\n",
       " ('T5', '8170'): 66.07351728122066,\n",
       " ('T7', '8170'): 67.47912611630461,\n",
       " ('T17', '3436'): 36.581666852753585,\n",
       " ('T10', '3436'): 41.39375035855656,\n",
       " ('T17', '2381'): 31.128975268779634,\n",
       " ('T0', '2381'): 33.41118171090973,\n",
       " ('T14', '2381'): 23.69526361531722,\n",
       " ('T10', '2381'): 24.409908104624503,\n",
       " ('T13', '2381'): 21.00209698687446,\n",
       " ('T16', '2381'): 22.865475083392575,\n",
       " ...}"
      ]
     },
     "execution_count": 305,
     "metadata": {},
     "output_type": "execute_result"
    }
   ],
   "source": [
    "all_arcs = {}\n",
    "all_arcs.update(purple_out_arcs)\n",
    "all_arcs.update(purple_in_arcs)\n",
    "all_arcs.update(green_arcs)\n",
    "all_arcs"
   ]
  },
  {
   "cell_type": "code",
   "execution_count": 306,
   "id": "66bf6888",
   "metadata": {},
   "outputs": [],
   "source": [
    "flow_arcs = {}\n",
    "flow_arcs.update(purple_out_flow_arcs)\n",
    "flow_arcs.update(purple_in_flow_arcs)\n",
    "flow_arcs.update(green_flow_arcs)"
   ]
  },
  {
   "cell_type": "code",
   "execution_count": 307,
   "id": "7a164b69",
   "metadata": {},
   "outputs": [],
   "source": [
    "df = df.reset_index()\n",
    "jobs_revenues = {}\n",
    "\n",
    "for i in range(0,len(df)):\n",
    "    jobs_revenues[str(df['order_id'][i])] = df[\"LineHaulRevenue\"][i]"
   ]
  },
  {
   "cell_type": "code",
   "execution_count": 308,
   "id": "8b9ce7db",
   "metadata": {},
   "outputs": [],
   "source": [
    "drivers = list(ds['driver_id'])\n",
    "jobs = list(df2['order_id'].astype(str))\n",
    "nodes = terminals + jobs"
   ]
  },
  {
   "cell_type": "code",
   "execution_count": 309,
   "id": "2c59c476",
   "metadata": {},
   "outputs": [],
   "source": [
    "model_materials = (terminals, drivers,jobs, nodes, all_arcs, flow_arcs)"
   ]
  },
  {
   "cell_type": "code",
   "execution_count": 310,
   "id": "95930a7f",
   "metadata": {},
   "outputs": [],
   "source": [
    "#df = df.reset_index()\n",
    "#jobs_revenues = {}\n",
    "\n",
    "#for i in range(0,len(df)):\n",
    "#    jobs_revenues[str(df['order_id'][i])] = df[\"LineHaulRevenue\"][i]\n",
    "# model_materials = (terminals, drivers,jobs, nodes, all_arcs, flow_arcs)\n",
    "# def sum_for_all_driver(d,flow_arcs):\n",
    "#     out = []\n",
    "#     for ch in flow_arcs:\n",
    "#         if ch[0] == d:\n",
    "#             out.append(ch)\n",
    "#     return out\n",
    "# def all_driver_value(x,d,flow_arcs):\n",
    "#     out = []\n",
    "#     for ch in flow_arcs:\n",
    "        \n",
    "#         if ch[0] == d:\n",
    "            \n",
    "#             out.append(flow_arcs[ch])\n",
    "#     return out\n",
    "# def find_the_next(path_example,k):\n",
    "#     driver = k[0]\n",
    "#     dest = k[2]\n",
    "#     for ch in path_example:\n",
    "#         if ch[0] == driver and dest == ch[1]:\n",
    "#             return ch \n",
    "#     return \n",
    "# def generated_path(path_example):\n",
    "#     all_path = []\n",
    "#     path = ''\n",
    "#     for ch in path_example:\n",
    "#         driver = ch[0]\n",
    "#         if ch[1][0]!='T':\n",
    "#             continue \n",
    "    \n",
    "#         ori = ch[1]\n",
    "#         dest = ch[2]\n",
    "#         path = driver +':'+ch[1] +'->' + ch[2] \n",
    "#         nex = find_the_next(path_example,ch)\n",
    "#         path_example.remove(ch)\n",
    "#         while nex:\n",
    "#             path = path +'->' + nex[2]\n",
    "#             temp = nex\n",
    "#             path_example.remove(nex)\n",
    "#             nex  = find_the_next(path_example,temp) \n",
    "            \n",
    "#         all_path.append(path)\n",
    "#         path = ''\n",
    "        \n",
    "#     return all_path \n",
    "# mod = gp.Model('model0')\n",
    "# y = mod.addVars(jobs, vtype=GRB.BINARY, name= \"y\")\n",
    "# x = mod.addVars(flow_arcs, vtype=GRB.BINARY, name= \"x\")\n",
    "# obj_fn = mod.setObjective(gp.quicksum(y[j] for j in jobs), GRB.MAXIMIZE)\n",
    "\n",
    "# single_driver = mod.addConstrs(x.sum('*', o, d) <= 1 for (o, d) in all_arcs)\n",
    "# flow_conservation = mod.addConstrs(x.sum(d, '*', j) == x.sum(d, j, '*') for d in drivers for j in nodes if j not in terminals)\n",
    "# served_jobs = mod.addConstrs(x.sum('*', '*', j)  == y[j] for j in jobs)\n",
    "#terminal_constraint = mod.addConstrs((x.sum(d, '*', t) <=1  for d in drivers for t in terminals))\n",
    "# for d in drivers:\n",
    "#     driver =  sum_for_all_driver(d,flow_arcs)\n",
    "    \n",
    "# mod.addConstr(gp.quicksum(flow_arcs[ch]* x[ch] for ch in driver) <= 20)\n",
    "# mod.optimize()"
   ]
  },
  {
   "cell_type": "code",
   "execution_count": 311,
   "id": "bbafdaaf",
   "metadata": {},
   "outputs": [],
   "source": [
    "with open('model_materials.pkl', 'wb') as f:\n",
    "    pickle.dump(model_materials, f)"
   ]
  },
  {
   "cell_type": "code",
   "execution_count": 312,
   "id": "60bf4b66",
   "metadata": {},
   "outputs": [],
   "source": [
    "def sum_for_all_driver(d,flow_arcs):\n",
    "    out = []\n",
    "    for ch in flow_arcs:\n",
    "        if ch[0] == d:\n",
    "            out.append(ch)\n",
    "    return out"
   ]
  },
  {
   "cell_type": "code",
   "execution_count": 313,
   "id": "10205d14",
   "metadata": {},
   "outputs": [],
   "source": [
    "def all_driver_value(x,d,flow_arcs):\n",
    "    out = []\n",
    "    for ch in flow_arcs:\n",
    "        \n",
    "        if ch[0] == d:\n",
    "            \n",
    "            out.append(flow_arcs[ch])\n",
    "    return out"
   ]
  },
  {
   "cell_type": "code",
   "execution_count": 314,
   "id": "014efbe2",
   "metadata": {},
   "outputs": [],
   "source": [
    "def find_the_next(path_example,k):\n",
    "    driver = k[0]\n",
    "    dest = k[2]\n",
    "    for ch in path_example:\n",
    "        if ch[0] == driver and dest == ch[1]:\n",
    "            return ch \n",
    "    return "
   ]
  },
  {
   "cell_type": "code",
   "execution_count": 315,
   "id": "08d73299",
   "metadata": {},
   "outputs": [],
   "source": [
    "def generated_path(path_example):\n",
    "    all_path = []\n",
    "    path = ''\n",
    "    for ch in path_example:\n",
    "        driver = ch[0]\n",
    "        if ch[1][0]!='T':\n",
    "            continue \n",
    "    \n",
    "        ori = ch[1]\n",
    "        dest = ch[2]\n",
    "        path = driver +':'+ch[1] +'->' + ch[2] \n",
    "        nex = find_the_next(path_example,ch)\n",
    "        path_example.remove(ch)\n",
    "        while nex:\n",
    "            path = path +'->' + nex[2]\n",
    "            temp = nex\n",
    "            path_example.remove(nex)\n",
    "            nex  = find_the_next(path_example,temp) \n",
    "            \n",
    "        all_path.append(path)\n",
    "        path = ''\n",
    "        \n",
    "    return all_path "
   ]
  },
  {
   "cell_type": "code",
   "execution_count": 316,
   "id": "175b6ef8",
   "metadata": {},
   "outputs": [],
   "source": [
    "mod = gp.Model('model0')"
   ]
  },
  {
   "cell_type": "code",
   "execution_count": 317,
   "id": "b47a428f",
   "metadata": {},
   "outputs": [],
   "source": [
    "y = mod.addVars(jobs, vtype=GRB.BINARY, name= \"y\")\n",
    "x = mod.addVars(flow_arcs, vtype=GRB.BINARY, name= \"x\")"
   ]
  },
  {
   "cell_type": "code",
   "execution_count": 318,
   "id": "ebbdd73d",
   "metadata": {},
   "outputs": [],
   "source": [
    "obj_fn = mod.setObjective(gp.quicksum(jobs_revenues[j]* y[j] for j in jobs), GRB.MAXIMIZE)"
   ]
  },
  {
   "cell_type": "code",
   "execution_count": 319,
   "id": "5ea66060",
   "metadata": {},
   "outputs": [],
   "source": [
    "# obj_fn = mod.setObjective(gp.quicksum(y[j] for j in jobs), GRB.MAXIMIZE)"
   ]
  },
  {
   "cell_type": "code",
   "execution_count": 320,
   "id": "e531b17f",
   "metadata": {},
   "outputs": [],
   "source": [
    "u = mod.addVars(nodes, vtype=GRB.INTEGER, name=\"u\")"
   ]
  },
  {
   "cell_type": "code",
   "execution_count": 321,
   "id": "996cdc50",
   "metadata": {},
   "outputs": [],
   "source": [
    "terminal_constraint = mod.addConstrs((x.sum(d, '*', t) <=1  for d in drivers for t in terminals))\n"
   ]
  },
  {
   "cell_type": "code",
   "execution_count": 322,
   "id": "d201172b",
   "metadata": {},
   "outputs": [],
   "source": [
    "flow_conservation = mod.addConstrs((x.sum(d, '*', j) == x.sum(d, j, '*') for d in drivers for j in nodes if j not in terminals),name=\"flow_conservation\",\n",
    ")"
   ]
  },
  {
   "cell_type": "code",
   "execution_count": 323,
   "id": "b8d81b36",
   "metadata": {},
   "outputs": [],
   "source": [
    "single_driver = mod.addConstrs(x.sum('*', o, d) <= 1 for (o, d) in all_arcs)"
   ]
  },
  {
   "cell_type": "code",
   "execution_count": 324,
   "id": "dbd4ffce",
   "metadata": {},
   "outputs": [],
   "source": [
    "served_jobs = mod.addConstrs(x.sum('*', '*', j)  == y[j] for j in jobs)"
   ]
  },
  {
   "cell_type": "code",
   "execution_count": 325,
   "id": "b25dc094",
   "metadata": {},
   "outputs": [
    {
     "name": "stdout",
     "output_type": "stream",
     "text": [
      "Set parameter TimeLimit to value 1200\n"
     ]
    }
   ],
   "source": [
    "mip_gap = 0.05  # 5% optimality gap\n",
    "\n",
    "# mod.setParam(GRB.Param.MIPGap, mip_gap)\n",
    "mod.setParam(GRB.Param.TimeLimit, time_limit)"
   ]
  },
  {
   "cell_type": "code",
   "execution_count": 326,
   "id": "7a32adf1",
   "metadata": {},
   "outputs": [],
   "source": [
    "for d in drivers:\n",
    "    driver =  sum_for_all_driver(d,flow_arcs)\n",
    "    \n",
    "    mod.addConstr(gp.quicksum(flow_arcs[ch]* x[ch] for ch in driver) <= 80)"
   ]
  },
  {
   "cell_type": "code",
   "execution_count": 327,
   "id": "de5e4590",
   "metadata": {},
   "outputs": [
    {
     "name": "stdout",
     "output_type": "stream",
     "text": [
      "Gurobi Optimizer version 10.0.1 build v10.0.1rc0 (win64)\n",
      "\n",
      "CPU model: Intel(R) Core(TM) i7-6700HQ CPU @ 2.60GHz, instruction set [SSE2|AVX|AVX2]\n",
      "Thread count: 4 physical cores, 8 logical processors, using up to 8 threads\n",
      "\n",
      "Optimize a model with 5969 rows, 9645 columns and 44939 nonzeros\n",
      "Model fingerprint: 0x198e94ee\n",
      "Variable types: 0 continuous, 9645 integer (9525 binary)\n",
      "Coefficient statistics:\n",
      "  Matrix range     [5e-01, 9e+01]\n",
      "  Objective range  [2e+02, 5e+03]\n",
      "  Bounds range     [1e+00, 1e+00]\n",
      "  RHS range        [1e+00, 8e+01]\n",
      "Found heuristic solution: objective -0.0000000\n",
      "Presolve removed 5241 rows and 3483 columns\n",
      "Presolve time: 0.64s\n",
      "Presolved: 728 rows, 6162 columns, 23180 nonzeros\n",
      "Variable types: 0 continuous, 6162 integer (6162 binary)\n",
      "Found heuristic solution: objective 54922.136867\n",
      "\n",
      "Root relaxation: objective 1.535999e+05, 2728 iterations, 0.15 seconds (0.09 work units)\n",
      "\n",
      "    Nodes    |    Current Node    |     Objective Bounds      |     Work\n",
      " Expl Unexpl |  Obj  Depth IntInf | Incumbent    BestBd   Gap | It/Node Time\n",
      "\n",
      "     0     0 153599.892    0   57 54922.1369 153599.892   180%     -    0s\n",
      "     0     0 153557.037    0   84 54922.1369 153557.037   180%     -    0s\n",
      "     0     0 153488.097    0   89 54922.1369 153488.097   179%     -    0s\n",
      "H    0     0                    134743.37698 153488.097  13.9%     -    0s\n",
      "H    0     0                    147068.68960 153488.097  4.36%     -    1s\n",
      "H    0     0                    148289.61398 153488.097  3.51%     -    1s\n",
      "     0     0 153275.756    0   73 148289.614 153275.756  3.36%     -    1s\n",
      "H    0     0                    149585.38591 153275.756  2.47%     -    1s\n",
      "H    0     0                    151746.41604 153275.756  1.01%     -    1s\n",
      "     0     0 153162.119    0   72 151746.416 153162.119  0.93%     -    1s\n",
      "     0     0 153074.124    0   59 151746.416 153074.124  0.87%     -    1s\n",
      "     0     0 153074.124    0   50 151746.416 153074.124  0.87%     -    1s\n",
      "H    0     0                    151801.84624 153074.124  0.84%     -    1s\n",
      "     0     0 152301.048    0   51 151801.846 152301.048  0.33%     -    2s\n",
      "     0     0 152274.599    0   32 151801.846 152274.599  0.31%     -    2s\n",
      "     0     0 152274.599    0   14 151801.846 152274.599  0.31%     -    2s\n",
      "*    0     0               0    152205.72618 152205.726  0.00%     -    2s\n",
      "\n",
      "Explored 1 nodes (10063 simplex iterations) in 2.31 seconds (1.18 work units)\n",
      "Thread count was 8 (of 8 available processors)\n",
      "\n",
      "Solution count 9: 152206 151802 151746 ... -0\n",
      "\n",
      "Optimal solution found (tolerance 1.00e-04)\n",
      "Best objective 1.522057261815e+05, best bound 1.522057261815e+05, gap 0.0000%\n"
     ]
    }
   ],
   "source": [
    "mod.optimize()"
   ]
  },
  {
   "cell_type": "code",
   "execution_count": 328,
   "id": "b9a93ea5",
   "metadata": {},
   "outputs": [],
   "source": [
    "compelete_job = []\n",
    "for i in flow_arcs:\n",
    "    if (x[i].x >=0.99):\n",
    "        compelete_job.append(i)"
   ]
  },
  {
   "cell_type": "code",
   "execution_count": 330,
   "id": "f34f29e3",
   "metadata": {},
   "outputs": [
    {
     "data": {
      "text/html": [
       "<div>\n",
       "<style scoped>\n",
       "    .dataframe tbody tr th:only-of-type {\n",
       "        vertical-align: middle;\n",
       "    }\n",
       "\n",
       "    .dataframe tbody tr th {\n",
       "        vertical-align: top;\n",
       "    }\n",
       "\n",
       "    .dataframe thead th {\n",
       "        text-align: right;\n",
       "    }\n",
       "</style>\n",
       "<table border=\"1\" class=\"dataframe\">\n",
       "  <thead>\n",
       "    <tr style=\"text-align: right;\">\n",
       "      <th></th>\n",
       "      <th>level_0</th>\n",
       "      <th>index</th>\n",
       "      <th>order_id</th>\n",
       "      <th>origin_zipcode</th>\n",
       "      <th>dest_zipcode</th>\n",
       "      <th>pickup_window_start</th>\n",
       "      <th>pickup_window_end</th>\n",
       "      <th>delivery_window_start</th>\n",
       "      <th>delivery_window_end</th>\n",
       "      <th>LineHaulRevenue</th>\n",
       "      <th>DispatchMiles</th>\n",
       "      <th>hour_difference</th>\n",
       "    </tr>\n",
       "  </thead>\n",
       "  <tbody>\n",
       "  </tbody>\n",
       "</table>\n",
       "</div>"
      ],
      "text/plain": [
       "Empty DataFrame\n",
       "Columns: [level_0, index, order_id, origin_zipcode, dest_zipcode, pickup_window_start, pickup_window_end, delivery_window_start, delivery_window_end, LineHaulRevenue, DispatchMiles, hour_difference]\n",
       "Index: []"
      ]
     },
     "execution_count": 330,
     "metadata": {},
     "output_type": "execute_result"
    }
   ],
   "source": [
    "df[df['order_id'].astype(str).isin(['3779312','3783956','3785314'])]"
   ]
  },
  {
   "cell_type": "code",
   "execution_count": 331,
   "id": "60f2a841",
   "metadata": {},
   "outputs": [
    {
     "data": {
      "text/plain": [
       "['Driver41:T17->9420->5071->T17',\n",
       " 'Driver39:T10->1540->5800->T10',\n",
       " 'Driver458:T3->8965->9005->8584->T3',\n",
       " 'Driver12:T18->3877->7226->T18',\n",
       " 'Driver504:T6->9245->7997->T6',\n",
       " 'Driver24:T7->476->8792->T7',\n",
       " 'Driver477:T19->7616->9556->T19',\n",
       " 'Driver181:T12->9119->6624->T12',\n",
       " 'Driver311:T2->405->9067->8455->T2',\n",
       " 'Driver457:T11->3896->2381->T11',\n",
       " 'Driver294:T13->45->7577->3305->T13',\n",
       " 'Driver286:T0->5004->6585->T0',\n",
       " 'Driver453:T14->3757->6329->4229->T14',\n",
       " 'Driver361:T16->4204->5593->8808->T16',\n",
       " 'Driver82:T9->111->3398->T9',\n",
       " 'Driver378:T4->765->8170->T4',\n",
       " 'Driver550:T8->3925->1987->T8',\n",
       " 'Driver390:T15->7734->6439->T15',\n",
       " 'Driver223:T1->9701->2013->T1',\n",
       " 'Driver247:T5->8431->2274->T5']"
      ]
     },
     "execution_count": 331,
     "metadata": {},
     "output_type": "execute_result"
    }
   ],
   "source": [
    "final_result = generated_path(compelete_job)\n",
    "while compelete_job != []:\n",
    "    final_result+= generated_path(compelete_job)\n",
    "final_result"
   ]
  },
  {
   "cell_type": "code",
   "execution_count": 332,
   "id": "1b61d150",
   "metadata": {},
   "outputs": [],
   "source": [
    "selected_jobs_count= 0\n",
    "for i in jobs:\n",
    "    #if (x[i].x >= 0.99):\n",
    "        #print(x[i].x)\n",
    "        if y[i].x > 0.5:\n",
    "           selected_jobs_count += 1 "
   ]
  },
  {
   "cell_type": "code",
   "execution_count": 333,
   "id": "edc61cbb",
   "metadata": {},
   "outputs": [
    {
     "name": "stdout",
     "output_type": "stream",
     "text": [
      "selected_jobs_count :45 job_count_in_job_pool :100 job_selection_rate :0.45\n"
     ]
    }
   ],
   "source": [
    "print('selected_jobs_count :' +str(selected_jobs_count), 'job_count_in_job_pool :' + str(len(df2)), 'job_selection_rate :' + str(selected_jobs_count/len(df2)))"
   ]
  },
  {
   "cell_type": "code",
   "execution_count": 334,
   "id": "46a53479",
   "metadata": {},
   "outputs": [
    {
     "name": "stdout",
     "output_type": "stream",
     "text": [
      "optimized_revenue :152205.7261814886 revenue_in_pool:293883.3404569817 optimized_revenue_to_pool_revenue_rate :0.517912059747287\n"
     ]
    }
   ],
   "source": [
    "print('optimized_revenue :' +str(mod.ObjVal), 'revenue_in_pool:' + str(df2['LineHaulRevenue'].sum()), 'optimized_revenue_to_pool_revenue_rate :' + str(mod.ObjVal/df2['LineHaulRevenue'].sum()))"
   ]
  }
 ],
 "metadata": {
  "kernelspec": {
   "display_name": "Python 3 (ipykernel)",
   "language": "python",
   "name": "python3"
  },
  "language_info": {
   "codemirror_mode": {
    "name": "ipython",
    "version": 3
   },
   "file_extension": ".py",
   "mimetype": "text/x-python",
   "name": "python",
   "nbconvert_exporter": "python",
   "pygments_lexer": "ipython3",
   "version": "3.9.13"
  }
 },
 "nbformat": 4,
 "nbformat_minor": 5
}
